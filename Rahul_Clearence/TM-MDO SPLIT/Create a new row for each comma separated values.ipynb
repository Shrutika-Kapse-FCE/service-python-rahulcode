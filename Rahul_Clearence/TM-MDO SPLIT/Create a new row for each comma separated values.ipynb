{
 "cells": [
  {
   "cell_type": "code",
   "execution_count": 8,
   "id": "1d2e7d32",
   "metadata": {},
   "outputs": [],
   "source": [
    "import pandas as pd"
   ]
  },
  {
   "cell_type": "code",
   "execution_count": 9,
   "id": "30f3d20e",
   "metadata": {},
   "outputs": [
    {
     "data": {
      "text/plain": [
       "'C:\\\\Users\\\\S1130866\\\\Downloads'"
      ]
     },
     "execution_count": 9,
     "metadata": {},
     "output_type": "execute_result"
    }
   ],
   "source": [
    "pwd"
   ]
  },
  {
   "cell_type": "code",
   "execution_count": 10,
   "id": "335e84c6",
   "metadata": {},
   "outputs": [],
   "source": [
    "MDO = pd.read_excel(r'C:\\Users\\S1130866\\Downloads\\Event_actuals_data_sept_updated_2023_04_10_2023.xlsx',sheet_name = 'MDO Events')\n",
    "TM = pd.read_excel(r'C:\\Users\\S1130866\\Downloads\\Event_actuals_data_sept_updated_2023_04_10_2023.xlsx',sheet_name = 'TM Events')\n"
   ]
  },
  {
   "cell_type": "code",
   "execution_count": 11,
   "id": "05925086",
   "metadata": {},
   "outputs": [],
   "source": [
    "MDO = (MDO.set_index(MDO.columns.drop('List of Attendees selected',1).tolist())['List of Attendees selected']\n",
    "   .str.split(',', expand=True)\n",
    "   .stack()\n",
    "   .reset_index()\n",
    "   .rename(columns={0:'List of Attendees selected'})\n",
    "   .loc[:, MDO.columns]\n",
    ")\n",
    "\n",
    "\n",
    "TM = (TM.set_index(TM.columns.drop('Attendees',1).tolist())['Attendees']\n",
    "   .str.split(',', expand=True)\n",
    "   .stack()\n",
    "   .reset_index()\n",
    "   .rename(columns={0:'Attendees'})\n",
    "   .loc[:, TM.columns]\n",
    ")"
   ]
  },
  {
   "cell_type": "code",
   "execution_count": 12,
   "id": "61373602",
   "metadata": {},
   "outputs": [],
   "source": [
    "MDO.to_csv(\"MDO_Event_actuals_data_sept_updated_2023_04_10_2023.csv\")\n",
    "TM.to_csv(\"TM_Event_actuals_data_sept_updated_2023_04_10_2023.csv\")"
   ]
  },
  {
   "cell_type": "code",
   "execution_count": 13,
   "id": "81348409",
   "metadata": {},
   "outputs": [
    {
     "data": {
      "text/plain": [
       "(369355, 10)"
      ]
     },
     "execution_count": 13,
     "metadata": {},
     "output_type": "execute_result"
    }
   ],
   "source": [
    "MDO.shape"
   ]
  },
  {
   "cell_type": "code",
   "execution_count": null,
   "id": "2852b96d",
   "metadata": {},
   "outputs": [],
   "source": [
    "MDO"
   ]
  },
  {
   "cell_type": "code",
   "execution_count": null,
   "id": "92412daa",
   "metadata": {},
   "outputs": [],
   "source": []
  },
  {
   "cell_type": "code",
   "execution_count": null,
   "id": "2a1f8cd0",
   "metadata": {},
   "outputs": [],
   "source": []
  },
  {
   "cell_type": "code",
   "execution_count": null,
   "id": "a2601e0c",
   "metadata": {},
   "outputs": [],
   "source": []
  },
  {
   "cell_type": "code",
   "execution_count": null,
   "id": "9af947da",
   "metadata": {},
   "outputs": [],
   "source": []
  },
  {
   "cell_type": "code",
   "execution_count": 25,
   "id": "6fd8044d",
   "metadata": {},
   "outputs": [],
   "source": [
    "import pandas as pd"
   ]
  },
  {
   "cell_type": "code",
   "execution_count": 26,
   "id": "ecaddaa7",
   "metadata": {},
   "outputs": [
    {
     "data": {
      "text/plain": [
       "'C:\\\\Users\\\\S1130866\\\\Downloads'"
      ]
     },
     "execution_count": 26,
     "metadata": {},
     "output_type": "execute_result"
    }
   ],
   "source": [
    "pwd"
   ]
  },
  {
   "cell_type": "code",
   "execution_count": 32,
   "id": "7c3fd9a8",
   "metadata": {},
   "outputs": [],
   "source": [
    "MDO = pd.read_excel(r'C:\\Users\\S1130866\\Downloads\\December Events Data.xlsx',sheet_name = 'MDO Events')\n",
    "TM = pd.read_excel(r'C:\\Users\\S1130866\\Downloads\\December Events Data.xlsx',sheet_name = 'TM Events')\n",
    "MDO['Attendees'] = MDO['Attendees'].fillna('NULL')\n",
    "TM['Attendees'] = TM['Attendees'].fillna('NULL')"
   ]
  },
  {
   "cell_type": "code",
   "execution_count": 33,
   "id": "991e397b",
   "metadata": {},
   "outputs": [
    {
     "data": {
      "text/plain": [
       "Division               0\n",
       "Event                  0\n",
       "Event Date             0\n",
       "MDO Name            2526\n",
       "MDO Head Quarter       0\n",
       "Village             1892\n",
       "Attendees              0\n",
       "dtype: int64"
      ]
     },
     "execution_count": 33,
     "metadata": {},
     "output_type": "execute_result"
    }
   ],
   "source": [
    "MDO.isnull().sum()"
   ]
  },
  {
   "cell_type": "code",
   "execution_count": 34,
   "id": "7efc4388",
   "metadata": {},
   "outputs": [
    {
     "data": {
      "text/plain": [
       "Division            0\n",
       "Event               0\n",
       "Event Date          0\n",
       "TM Name             0\n",
       "TM Head Quarter     0\n",
       "Village            50\n",
       "Attendees           0\n",
       "dtype: int64"
      ]
     },
     "execution_count": 34,
     "metadata": {},
     "output_type": "execute_result"
    }
   ],
   "source": [
    "TM.isnull().sum()"
   ]
  },
  {
   "cell_type": "code",
   "execution_count": 36,
   "id": "8e3934b8",
   "metadata": {},
   "outputs": [],
   "source": [
    "MDO = (MDO.set_index(MDO.columns.drop('Attendees',1).tolist())['Attendees']\n",
    "   .str.split(',', expand=True)\n",
    "   .stack()\n",
    "   .reset_index()\n",
    "   .rename(columns={0:'Attendees'})\n",
    "   .loc[:, MDO.columns]\n",
    ")\n",
    "\n",
    "\n",
    "TM = (TM.set_index(TM.columns.drop('Attendees',1).tolist())['Attendees']\n",
    "   .str.split(',', expand=True)\n",
    "   .stack()\n",
    "   .reset_index()\n",
    "   .rename(columns={0:'Attendees'})\n",
    "   .loc[:, TM.columns]\n",
    ")"
   ]
  },
  {
   "cell_type": "code",
   "execution_count": 38,
   "id": "0e0ff9b3",
   "metadata": {},
   "outputs": [],
   "source": [
    "MDO.to_csv(\"MDO_December Events Data.csv\")\n",
    "TM.to_csv(\"TM_December Events Data.csv\")"
   ]
  },
  {
   "cell_type": "code",
   "execution_count": null,
   "id": "4da19d00",
   "metadata": {},
   "outputs": [],
   "source": []
  },
  {
   "cell_type": "code",
   "execution_count": null,
   "id": "4c97f28b",
   "metadata": {},
   "outputs": [],
   "source": []
  },
  {
   "cell_type": "code",
   "execution_count": null,
   "id": "564d8c56",
   "metadata": {},
   "outputs": [],
   "source": []
  },
  {
   "cell_type": "code",
   "execution_count": null,
   "id": "a2cbb7a9",
   "metadata": {},
   "outputs": [],
   "source": []
  },
  {
   "cell_type": "code",
   "execution_count": null,
   "id": "25ec4c06",
   "metadata": {},
   "outputs": [],
   "source": [
    "#iMPORTING THE REQUIRED LIBRARY\n",
    "import pandas as pd\n",
    "\n",
    "\n",
    "#READING THE REQUIRED FILE\n",
    "MDO = pd.read_excel(r'C:\\Users\\S1130866\\Downloads\\Event_actuals_data_sept_updated_2023_04_10_2023.xlsx',sheet_name = 'MDO Events')\n",
    "TM = pd.read_excel(r'C:\\Users\\S1130866\\Downloads\\Event_actuals_data_sept_updated_2023_04_10_2023.xlsx',sheet_name = 'TM Events')\n",
    "\n",
    "#SPLITTING THE DATA \n",
    "\n",
    "MDO = (MDO.set_index(MDO.columns.drop('Attendees',1).tolist())['Attendees']\n",
    "   .str.split(',', expand=True)\n",
    "   .stack()\n",
    "   .reset_index()\n",
    "   .rename(columns={0:'Attendees'})\n",
    "   .loc[:, MDO.columns]\n",
    ")\n",
    "\n",
    "\n",
    "TM = (TM.set_index(TM.columns.drop('Attendees',1).tolist())['Attendees']\n",
    "   .str.split(',', expand=True)\n",
    "   .stack()\n",
    "   .reset_index()\n",
    "   .rename(columns={0:'Attendees'})\n",
    "   .loc[:, TM.columns]\n",
    ")\n",
    "\n",
    "\n",
    "#sAVING THE TRANSFORMED FILES\n",
    "MDO.to_csv(\"MDO_December Events Data.csv\")\n",
    "TM.to_csv(\"TM_December Events Data.csv\")"
   ]
  },
  {
   "cell_type": "code",
   "execution_count": null,
   "id": "b137958d",
   "metadata": {},
   "outputs": [],
   "source": []
  }
 ],
 "metadata": {
  "kernelspec": {
   "display_name": "Python 3 (ipykernel)",
   "language": "python",
   "name": "python3"
  },
  "language_info": {
   "codemirror_mode": {
    "name": "ipython",
    "version": 3
   },
   "file_extension": ".py",
   "mimetype": "text/x-python",
   "name": "python",
   "nbconvert_exporter": "python",
   "pygments_lexer": "ipython3",
   "version": "3.9.7"
  }
 },
 "nbformat": 4,
 "nbformat_minor": 5
}
