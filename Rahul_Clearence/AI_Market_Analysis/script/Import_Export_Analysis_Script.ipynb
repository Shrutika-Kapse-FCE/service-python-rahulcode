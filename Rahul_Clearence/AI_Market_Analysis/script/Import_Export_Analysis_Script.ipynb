{
 "cells": [
  {
   "cell_type": "code",
   "execution_count": 41,
   "id": "f8b3e3ab",
   "metadata": {},
   "outputs": [],
   "source": [
    "# Importing the required libraries\n",
    "import numpy as np \n",
    "import pandas as pd\n",
    "import re \n",
    "import os"
   ]
  },
  {
   "cell_type": "markdown",
   "id": "40546fcb",
   "metadata": {},
   "source": [
    "## Loading the file updated till the previous month"
   ]
  },
  {
   "cell_type": "code",
   "execution_count": 42,
   "id": "1dc549cf",
   "metadata": {},
   "outputs": [],
   "source": [
    "# The data is being loaded from the shared drive site\n",
    "df1 = pd.read_excel(r\"C:\\Users\\S1130866\\OneDrive - Syngenta\\Documents\\Shared\\Product_Automate\\Product_Automate\\Import_Export\\Compiled_File\\Main.xlsx\")"
   ]
  },
  {
   "cell_type": "code",
   "execution_count": 43,
   "id": "90344370",
   "metadata": {},
   "outputs": [
    {
     "data": {
      "text/plain": [
       "(201222, 19)"
      ]
     },
     "execution_count": 43,
     "metadata": {},
     "output_type": "execute_result"
    }
   ],
   "source": [
    "# Let us check the shape of the dataset \n",
    "df1.shape"
   ]
  },
  {
   "cell_type": "markdown",
   "id": "b3ae0ff7",
   "metadata": {},
   "source": [
    "### ------------------------- Treating this months data in the current script -----------------------------"
   ]
  },
  {
   "cell_type": "code",
   "execution_count": 45,
   "id": "c8c427e9",
   "metadata": {},
   "outputs": [],
   "source": [
    "## Reading the list of products to be used for search and store operation( This has been made using the file provided by Manish Upreti where the product names were extracted manually )\n",
    "df = pd.read_csv(r\"C:\\Users\\S1130866\\Desktop\\Product_Automate\\product.csv\")\n",
    "products = [i for i in set(df.Products.str.lower().tolist()) if not isinstance(i, (int, float)) and i != '0']\n",
    "bayer_prod_mapping = pd.read_excel(r'C:\\Users\\S1130866\\Desktop\\Product_Automate\\Bayer_Map.xlsx')"
   ]
  },
  {
   "cell_type": "code",
   "execution_count": 46,
   "id": "6628bb84",
   "metadata": {},
   "outputs": [],
   "source": [
    "    # Creating a mapping for the 2-4-d related elements\n",
    "    map_24d = { v: '2 4 d' for v in ['2 4-d', '24 d', '2,4-d', '2 4 d', '2 4- d', '2 4 -d', '2 4d',\n",
    "       '2, 4 d', '2, 4-d', '2,4 - d', '2,4 d', '2,4- d', '2,4d', '2-4-d',\n",
    "       '24d', '2-4 d', '24- d', '2-4- d', '2-4d', '24-d', '2, 4- d',\n",
    "       '2, 4d', '2- 4-d']}\n",
    "    \n",
    "    \n",
    "    # Creating functions for the product and Suffix mapping \n",
    "    def find_prod(x):\n",
    "   \n",
    "        #a = ('azoxystrobin')\n",
    "        if re.search('R&D|RESEARCH|FREE SAMPLE|TESTING|SAMPLE|research|r&d|free|sample|lab|LAB|LAB USE|lab use|(lab use)|(Lab Use)|(LAB USE)|(Lab Use)',x) :\n",
    "             return \"\"\n",
    "        temp_products = list(set([i for i in products if i in re.split(' |\\(|\\)|\\+|\\\\|/|\\*|-|\\s|\\d|_|\\.|,|\\?|\\^|\\$|\\[|\\]|\\{|\\}',x.lower())]))\n",
    "        if re.search('[2][-,\\s]*[4][-\\s]*[d]',x) :\n",
    "             temp_products += [map_24d[re.search('[2][-,\\s]*[4][-\\s]*[d]',x)[0]]]\n",
    "             #if re.search('AZOXY.{,50}|azoxy.{,50}',x):\n",
    "              #temp_products += a\n",
    "        if re.search('POTASH|potash|NPS|nps|PHOSPHATE|phosphate|SULFATE|sulfate|SULPHATE|sulphate',x):\n",
    "             if len(temp_products)<1:\n",
    "                    temp_products += 'fertilizer'\n",
    "        if len(temp_products)>1 :\n",
    "            temp_products = [i for i in temp_products if i!='pesticide']\n",
    "            temp_products = [i for i in temp_products if i!='pesticides']\n",
    "            temp_products = [i for i in temp_products if i!='rynaxypyr']\n",
    "        return temp_products\n",
    "        # Creating a function for the same\n",
    "        \n",
    "    def suf(x):\n",
    "        temp_suffix = [] \n",
    "        if re.search('62% IPA SALT|62% ipa salt',x):\n",
    "            temp_suffix = \"62% IPA SALT\"\n",
    "        elif re.search('IPA SALT|ipa salt',x):\n",
    "            temp_suffix = \"IPA SALT\"\n",
    "        elif re.search('tech.{,50}|TECH.{,50}',x):\n",
    "            temp_suffix = \"TECH\"\n",
    "        elif re.search('41% SL|41% sl',x):\n",
    "            temp_suffix = '41% SL'\n",
    "        elif re.search('ALION PLUS.{50}|alion plus.{50}',x):\n",
    "            temp_suffix = \"ALION PLUS\"\n",
    "        else :\n",
    "            temp_suffix = \"Others\"\n",
    "        return temp_suffix    \n",
    "    \n",
    "    "
   ]
  },
  {
   "cell_type": "code",
   "execution_count": 47,
   "id": "a991d8b1",
   "metadata": {},
   "outputs": [],
   "source": [
    "# Reading this months data both for import and export for this months data\n",
    "cm_exp = pd.read_excel(r\"C:\\Users\\S1130866\\OneDrive - Syngenta\\Documents\\Shared\\Product_Automate\\Product_Automate\\Import_Export\\File to be worked on\\November2023\\Export\\38_Exp_TY2_Nov-23.xlsx\")\n",
    "cm_imp = pd.read_excel(r\"C:\\Users\\S1130866\\OneDrive - Syngenta\\Documents\\Shared\\Product_Automate\\Product_Automate\\Import_Export\\File to be worked on\\November2023\\Import\\38_Imp_TY2_Nov-23.xlsx\")"
   ]
  },
  {
   "cell_type": "markdown",
   "id": "33b02c74",
   "metadata": {},
   "source": [
    "###   ------------ EXPORT FILE --------------------"
   ]
  },
  {
   "cell_type": "code",
   "execution_count": 49,
   "id": "e0b32628",
   "metadata": {},
   "outputs": [
    {
     "name": "stdout",
     "output_type": "stream",
     "text": [
      "Working on Product Mapping\n",
      "Product Mapping done , working on other conditions\n",
      "Product Mapping done , working on Suffix creation\n",
      "Suffix Creation done\n"
     ]
    }
   ],
   "source": [
    "\n",
    "    # We will first do our required transformation on the loaded data \n",
    "\n",
    "    ##Mapping the Product Description column as string as sometimes it may not be read as a string\n",
    "    cm_exp['Goods Description'] = cm_exp['Goods Description'].map(str)\n",
    "    \n",
    "    print(\"Working on Product Mapping\")\n",
    "    # Applying the function on the required column\n",
    "    temp = cm_exp['Goods Description'].apply(lambda x: find_prod(x))\n",
    "    \n",
    "    # JOining using ','\n",
    "    temp_processed = temp.apply(lambda x: \", \".join(x) if len(x)>=1 else \"\")\n",
    "    \n",
    "    print(\"Product Mapping done , working on other conditions\")\n",
    "\n",
    "    ## Checking for the condition where UNit is GMS and quantity is one is not detected and anything with 0 quantity is also not detected\n",
    "    cm_exp.loc[np.logical_and(cm_exp['Unit'].gt('GMS'), np.less_equal(cm_exp['Quantity'], 1)), 'Product'] = ''\n",
    "    cm_exp.loc[cm_exp[\"Quantity\"]==0, \"Product\"] = \"\"\n",
    "    \n",
    "    ## Replacing the values that are returned as otherwise to the way we want it\n",
    "    temp_processed.replace('a, z, o, x, y, s, t, r, o, b, i, n','azoxystrobin',inplace = True)\n",
    "    temp_processed.replace('f, e, r, t, i, l, i, z, e, r','fertilizer',inplace = True)\n",
    "    temp_processed.replace('mancozebe','mancozeb',inplace = True)\n",
    "    temp_processed.replace('amoniusaltglyphosate71','glyphosate',inplace = True)\n",
    "    temp_processed.replace('AMONIUSALTGLYPHOSATE7171','glyphosate',inplace = True)\n",
    "    temp_processed.replace('rynaxypyr','chlorantraniliprole',inplace = True)\n",
    "    temp_processed.replace('glyphosatee','glyphosate',inplace = True)\n",
    "    temp_processed.replace('','Others',inplace = True)\n",
    "    \n",
    "    cm_exp['Product'] = temp_processed\n",
    "    ## Filling up the blank values with 'Others'\n",
    "    cm_exp['Product'] = cm_exp['Product'].fillna('Others')\n",
    "    \n",
    "    print(\"Product Mapping done , working on Suffix creation\")\n",
    "    \n",
    "  \n",
    "    # Using the Suffix for \n",
    "    cm_exp['suffix'] =  cm_exp['Goods Description'].apply(lambda x: suf(x))\n",
    "    print(\"Suffix Creation done\")\n",
    " \n"
   ]
  },
  {
   "cell_type": "code",
   "execution_count": 50,
   "id": "648a4eb3",
   "metadata": {},
   "outputs": [],
   "source": [
    "## Bringing the Export file in the required format : \n",
    "\n",
    "### Block for altering the entire data into the required format\n",
    "#Dropping unnecessary columns\n",
    "temp2 = cm_exp.drop(['Declaration No', 'HS Four Digit', 'HS Code','Destination Port','Indian Port','Address', 'City','Consinee Address','Port Code', 'IEC Phone', 'IEC Email', 'IEC Contact'],axis = 1)\n",
    "# Creating the product name column\n",
    "temp2['Product Name'] = temp2['Product'] + \" \" + temp2['suffix']\n",
    "# Droppoing the suffix column\n",
    "temp2 = temp2.drop('suffix',axis = 1)\n",
    "# Creating a new column for keeping a track of weather it is an import or export file\n",
    "temp2['Type'] = 'Export'\n",
    "# Renaming the columns in teh required format \n",
    "temp2.rename(columns = {'Exporter Name':'IMPORTER/EXPORTER NAME','Country Origin':'Country','Goods Description':'PRODUCT DESCRIPTION','Quantity':'QTY','Unit':'UNIT','Unit Value Usd':'UNIT PRICE (USD)','Fob Usd':'Total_VALUE_USD','Currency':'INVOICE CURRENCY','Consinee Name':'SUPPLIER/BUYER NAME','Product':'Molecule Name'},inplace = True)\n",
    "#Keeping the required data \n",
    "temp2 = temp2.loc[:,[\"Type\",\"Date\",\"IMPORTER/EXPORTER NAME\",\"Country\",\"PRODUCT DESCRIPTION\",\"QTY\",\"UNIT\",\"UNIT PRICE (USD)\",\"Total_VALUE_USD\",\"INVOICE CURRENCY\",\"SUPPLIER/BUYER NAME\",\"Molecule Name\",\"Product Name\"]]\n",
    "temp2['Product Name'].replace('Others Others','Others',inplace = True)"
   ]
  },
  {
   "cell_type": "markdown",
   "id": "b0a0548e",
   "metadata": {},
   "source": [
    "### -------IMPORT FILE ------"
   ]
  },
  {
   "cell_type": "code",
   "execution_count": 51,
   "id": "f7a35e2e",
   "metadata": {},
   "outputs": [
    {
     "name": "stdout",
     "output_type": "stream",
     "text": [
      "Working on Product Mapping\n",
      "Product Mapping done , working on other conditions\n",
      "Product Mapping done , working on Suffix creation\n",
      "Suffix Creation done\n"
     ]
    }
   ],
   "source": [
    "\n",
    "    ##Mapping the Product Description column as string as sometimes it may not be read as a string\n",
    "    cm_imp['Goods Description'] = cm_imp['Goods Description'].map(str)\n",
    "    \n",
    "    print(\"Working on Product Mapping\")\n",
    "     # Applying the function on the required column\n",
    "    temp = cm_imp['Goods Description'].apply(lambda x: find_prod(x))\n",
    "\n",
    "    # Joining the data using ','\n",
    "    temp_processed = temp.apply(lambda x: \", \".join(x) if len(x)>=1 else \"\")\n",
    "    \n",
    "    print(\"Product Mapping done , working on other conditions\")\n",
    "\n",
    "    ## Checking for the condition where UNit is GMS and quantity is one is not detected and anything with 0 quantity is also not detected\n",
    "    cm_imp.loc[np.logical_and(cm_imp['Unit'].gt('GMS'), np.less_equal(cm_imp['Quantity'], 1)), 'Product'] = ''\n",
    "    cm_imp.loc[cm_imp[\"Quantity\"]==0, \"Product\"] = \"\"\n",
    "    \n",
    "    ## Replacing the values that are returned as otherwise to the way we want it(The requirement is explained in the req doc)\n",
    "    temp_processed.replace('a, z, o, x, y, s, t, r, o, b, i, n','azoxystrobin',inplace = True)\n",
    "    temp_processed.replace('f, e, r, t, i, l, i, z, e, r','fertilizer',inplace = True)\n",
    "    temp_processed.replace('mancozebe','mancozeb',inplace = True)\n",
    "    temp_processed.replace('amoniusaltglyphosate71','glyphosate',inplace = True)\n",
    "    temp_processed.replace('AMONIUSALTGLYPHOSATE7171','glyphosate',inplace = True)\n",
    "    temp_processed.replace('rynaxypyr','chlorantraniliprole',inplace = True)\n",
    "    temp_processed.replace('glyphosatee','glyphosate',inplace = True)\n",
    "    temp_processed.replace('','Others',inplace = True)\n",
    "    \n",
    "    cm_imp['Product'] = temp_processed\n",
    "    ## Filling up the blank values with 'Others'\n",
    "    cm_imp['Product'] = cm_imp['Product'].fillna('Others')\n",
    "    \n",
    "    print(\"Product Mapping done , working on Suffix creation\")\n",
    "    \n",
    "  \n",
    "    \n",
    "    cm_imp['suffix'] =  cm_imp['Goods Description'].apply(lambda x: suf(x))\n",
    "    print(\"Suffix Creation done\")\n",
    " "
   ]
  },
  {
   "cell_type": "code",
   "execution_count": 52,
   "id": "af42ad36",
   "metadata": {},
   "outputs": [],
   "source": [
    "## Bringing the Import file in the required format : \n",
    "\n",
    "### Block for altering the entire data into the required format\n",
    "\n",
    "#Dropping unnecessary columns\n",
    "temp = cm_imp.drop(['Port Code', 'Indian Port', 'Declaration No','Address', 'City', 'CHA No', 'CHA Name','HS Code','Total_Duty_Usd', 'Loading Port','Supplier Address', 'BE Type', 'IEC Phone','IEC Email', 'IEC Contact'],axis = 1)\n",
    "# Creating the final product name using the product and suffix column \n",
    "temp['Product Name'] = temp['Product'] + \" \" + temp['suffix']\n",
    "# Dropping the suffix column\n",
    "temp = temp.drop('suffix',axis = 1)\n",
    "# Placing the type column as import here\n",
    "temp['Type'] = 'Import'\n",
    "# Renaming the columns as required\n",
    "temp.rename(columns = {'Importer Name':'IMPORTER/EXPORTER NAME','Country Origin':'Country','Goods Description':'PRODUCT DESCRIPTION','Quantity':'QTY','Unit':'UNIT','Unit Price Usd':'UNIT PRICE (USD)','Total Value Usd':'Total_VALUE_USD','Inv Currency':'INVOICE CURRENCY','Supplier Name':'SUPPLIER/BUYER NAME','Product':'Molecule Name'},inplace = True)\n",
    "\n",
    "\n",
    "# Keeping the required data \n",
    "temp = temp.loc[:,[\"Type\",\"Date\",\"IMPORTER/EXPORTER NAME\",\"Country\",\"PRODUCT DESCRIPTION\",\"QTY\",\"UNIT\",\"UNIT PRICE (USD)\",\"Total_VALUE_USD\",\"INVOICE CURRENCY\",\"SUPPLIER/BUYER NAME\",\"Molecule Name\",\"Product Name\"]]\n",
    "temp['Product Name'].replace('Others Others','Others',inplace = True)"
   ]
  },
  {
   "cell_type": "code",
   "execution_count": 53,
   "id": "c80295be",
   "metadata": {},
   "outputs": [],
   "source": [
    "# Concatinating the import and export dataframes into one dataframe\n",
    "data = pd.concat([temp,temp2])"
   ]
  },
  {
   "cell_type": "code",
   "execution_count": 54,
   "id": "c569ca19",
   "metadata": {},
   "outputs": [],
   "source": [
    "# Creating a new dataframe where the 'Others' have been dropped\n",
    "data2 = data[data['Molecule Name'] != 'Others']"
   ]
  },
  {
   "cell_type": "code",
   "execution_count": 55,
   "id": "12efef4b",
   "metadata": {},
   "outputs": [
    {
     "name": "stderr",
     "output_type": "stream",
     "text": [
      "C:\\Users\\S1130866\\AppData\\Local\\Temp/ipykernel_58736/289334529.py:13: SettingWithCopyWarning: \n",
      "A value is trying to be set on a copy of a slice from a DataFrame.\n",
      "Try using .loc[row_indexer,col_indexer] = value instead\n",
      "\n",
      "See the caveats in the documentation: https://pandas.pydata.org/pandas-docs/stable/user_guide/indexing.html#returning-a-view-versus-a-copy\n",
      "  data2['IMPORTER/EXPORTER NAME'] = data2['IMPORTER/EXPORTER NAME'].str.lower().replace(company_key_value)\n",
      "C:\\Users\\S1130866\\AppData\\Local\\Temp/ipykernel_58736/289334529.py:24: SettingWithCopyWarning: \n",
      "A value is trying to be set on a copy of a slice from a DataFrame.\n",
      "Try using .loc[row_indexer,col_indexer] = value instead\n",
      "\n",
      "See the caveats in the documentation: https://pandas.pydata.org/pandas-docs/stable/user_guide/indexing.html#returning-a-view-versus-a-copy\n",
      "  data2['Country'] = data2['Country'].str.lower().replace(country_key_value)\n"
     ]
    }
   ],
   "source": [
    "#### -------------------------------  WORKING ON THE COUNTRY, COMPANY COLUMNS  -------------------------\n",
    "\n",
    "\n",
    "\n",
    "#### Working on the compnay column i,e IMPORTER/EXPORTER NAME\n",
    "\n",
    "company = pd.read_excel(r'C:\\Users\\S1130866\\Desktop\\Product_Automate\\Country and company.xlsx')\n",
    "country = pd.read_excel(r'C:\\Users\\S1130866\\Desktop\\Product_Automate\\Country and company.xlsx',sheet_name = \"Country\") \n",
    "\n",
    "unique = company.drop_duplicates()\n",
    "unique_mismatches = unique[unique['Company'].str.lower() != unique['New'].str.lower()]\n",
    "company_key_value = dict(zip(unique_mismatches['Company'].str.lower(),unique_mismatches['New'].str.lower()))\n",
    "data2['IMPORTER/EXPORTER NAME'] = data2['IMPORTER/EXPORTER NAME'].str.lower().replace(company_key_value)\n",
    "\n",
    "\n",
    "\n",
    "### Working on the country column\n",
    "\n",
    "\n",
    "\n",
    "unique2 = country.drop_duplicates()\n",
    "unique_mismatches2 = unique2[unique2['Country'].str.lower() != unique2['New'].str.lower()]\n",
    "country_key_value = dict(zip(unique_mismatches2['Country'].str.lower(),unique_mismatches2['New'].str.lower()))\n",
    "data2['Country'] = data2['Country'].str.lower().replace(country_key_value)\n",
    "\n",
    "\n",
    "\n",
    "\n",
    "\n"
   ]
  },
  {
   "cell_type": "code",
   "execution_count": 56,
   "id": "9639f606",
   "metadata": {},
   "outputs": [
    {
     "name": "stderr",
     "output_type": "stream",
     "text": [
      "C:\\Users\\S1130866\\AppData\\Local\\Temp/ipykernel_58736/3725831109.py:5: SettingWithCopyWarning: \n",
      "A value is trying to be set on a copy of a slice from a DataFrame.\n",
      "Try using .loc[row_indexer,col_indexer] = value instead\n",
      "\n",
      "See the caveats in the documentation: https://pandas.pydata.org/pandas-docs/stable/user_guide/indexing.html#returning-a-view-versus-a-copy\n",
      "  data2['UNIT'] = data2['UNIT'].apply(lambda x: x.strip())\n",
      "C:\\Users\\S1130866\\AppData\\Local\\Temp/ipykernel_58736/3725831109.py:13: SettingWithCopyWarning: \n",
      "A value is trying to be set on a copy of a slice from a DataFrame.\n",
      "Try using .loc[row_indexer,col_indexer] = value instead\n",
      "\n",
      "See the caveats in the documentation: https://pandas.pydata.org/pandas-docs/stable/user_guide/indexing.html#returning-a-view-versus-a-copy\n",
      "  data2['QTY_MT'] = data2.apply(lambda x: x['QTY'] * 0.001 if x['UNIT']== 'KGS' else x['QTY'], axis=1)\n",
      "C:\\Users\\S1130866\\AppData\\Local\\Temp/ipykernel_58736/3725831109.py:14: SettingWithCopyWarning: \n",
      "A value is trying to be set on a copy of a slice from a DataFrame.\n",
      "Try using .loc[row_indexer,col_indexer] = value instead\n",
      "\n",
      "See the caveats in the documentation: https://pandas.pydata.org/pandas-docs/stable/user_guide/indexing.html#returning-a-view-versus-a-copy\n",
      "  data2['QTY_MT'] = data2.apply(lambda x: x['QTY'] * 0.001 if x['UNIT']== 'LTR' else x['QTY'], axis=1)\n",
      "C:\\Users\\S1130866\\AppData\\Local\\Temp/ipykernel_58736/3725831109.py:15: SettingWithCopyWarning: \n",
      "A value is trying to be set on a copy of a slice from a DataFrame.\n",
      "Try using .loc[row_indexer,col_indexer] = value instead\n",
      "\n",
      "See the caveats in the documentation: https://pandas.pydata.org/pandas-docs/stable/user_guide/indexing.html#returning-a-view-versus-a-copy\n",
      "  data2['QTY_MT'] = data2.apply(lambda x: x['QTY'] * 0.001 if x['UNIT']== 'LT/KG' else x['QTY'], axis=1)\n",
      "C:\\Users\\S1130866\\AppData\\Local\\Temp/ipykernel_58736/3725831109.py:16: SettingWithCopyWarning: \n",
      "A value is trying to be set on a copy of a slice from a DataFrame.\n",
      "Try using .loc[row_indexer,col_indexer] = value instead\n",
      "\n",
      "See the caveats in the documentation: https://pandas.pydata.org/pandas-docs/stable/user_guide/indexing.html#returning-a-view-versus-a-copy\n",
      "  data2['QTY_MT'] = data2.apply(lambda x: x['QTY'] * 1 if x['UNIT']== 'MTS' else x['QTY'], axis=1)\n",
      "C:\\Users\\S1130866\\AppData\\Local\\Temp/ipykernel_58736/3725831109.py:17: SettingWithCopyWarning: \n",
      "A value is trying to be set on a copy of a slice from a DataFrame.\n",
      "Try using .loc[row_indexer,col_indexer] = value instead\n",
      "\n",
      "See the caveats in the documentation: https://pandas.pydata.org/pandas-docs/stable/user_guide/indexing.html#returning-a-view-versus-a-copy\n",
      "  data2['QTY_MT'] = data2.apply(lambda x: x['QTY'] * 1 if x['UNIT']== 'MLT' else x['QTY'], axis=1)\n",
      "C:\\Users\\S1130866\\AppData\\Local\\Temp/ipykernel_58736/3725831109.py:18: SettingWithCopyWarning: \n",
      "A value is trying to be set on a copy of a slice from a DataFrame.\n",
      "Try using .loc[row_indexer,col_indexer] = value instead\n",
      "\n",
      "See the caveats in the documentation: https://pandas.pydata.org/pandas-docs/stable/user_guide/indexing.html#returning-a-view-versus-a-copy\n",
      "  data2['QTY_MT'] = data2.apply(lambda x: x['QTY'] * 0.000001 if x['UNIT']== 'MGS' else x['QTY'], axis=1)\n",
      "C:\\Users\\S1130866\\AppData\\Local\\Temp/ipykernel_58736/3725831109.py:19: SettingWithCopyWarning: \n",
      "A value is trying to be set on a copy of a slice from a DataFrame.\n",
      "Try using .loc[row_indexer,col_indexer] = value instead\n",
      "\n",
      "See the caveats in the documentation: https://pandas.pydata.org/pandas-docs/stable/user_guide/indexing.html#returning-a-view-versus-a-copy\n",
      "  data2['QTY_MT'] = data2.apply(lambda x: x['QTY'] * 0.000001 if x['UNIT']== 'GMS' else x['QTY'], axis=1)\n",
      "C:\\Users\\S1130866\\AppData\\Local\\Temp/ipykernel_58736/3725831109.py:20: SettingWithCopyWarning: \n",
      "A value is trying to be set on a copy of a slice from a DataFrame.\n",
      "Try using .loc[row_indexer,col_indexer] = value instead\n",
      "\n",
      "See the caveats in the documentation: https://pandas.pydata.org/pandas-docs/stable/user_guide/indexing.html#returning-a-view-versus-a-copy\n",
      "  data2['QTY_MT'] = data2.apply(lambda x: x['QTY'] * 0.000453592 if x['UNIT']== 'LBS' else x['QTY'], axis=1)\n"
     ]
    }
   ],
   "source": [
    "### -------------------------------  UNIT COLUMN -------------------------------------------\n",
    "\n",
    "#\n",
    "\n",
    "data2['UNIT'] = data2['UNIT'].apply(lambda x: x.strip())\n",
    "\n",
    "\n",
    "\n",
    "# COnverting the various measuring units into a standard KG column\n",
    "#1l = 1kg\n",
    "## Creating a Quantity_MT column similar to the QTY Column\n",
    "\n",
    "data2['QTY_MT'] = data2.apply(lambda x: x['QTY'] * 0.001 if x['UNIT']== 'KGS' else x['QTY'], axis=1)\n",
    "data2['QTY_MT'] = data2.apply(lambda x: x['QTY'] * 0.001 if x['UNIT']== 'LTR' else x['QTY'], axis=1)\n",
    "data2['QTY_MT'] = data2.apply(lambda x: x['QTY'] * 0.001 if x['UNIT']== 'LT/KG' else x['QTY'], axis=1)\n",
    "data2['QTY_MT'] = data2.apply(lambda x: x['QTY'] * 1 if x['UNIT']== 'MTS' else x['QTY'], axis=1)\n",
    "data2['QTY_MT'] = data2.apply(lambda x: x['QTY'] * 1 if x['UNIT']== 'MLT' else x['QTY'], axis=1)\n",
    "data2['QTY_MT'] = data2.apply(lambda x: x['QTY'] * 0.000001 if x['UNIT']== 'MGS' else x['QTY'], axis=1)\n",
    "data2['QTY_MT'] = data2.apply(lambda x: x['QTY'] * 0.000001 if x['UNIT']== 'GMS' else x['QTY'], axis=1)\n",
    "data2['QTY_MT'] = data2.apply(lambda x: x['QTY'] * 0.000453592 if x['UNIT']== 'LBS' else x['QTY'], axis=1)\n",
    "\n",
    "\n"
   ]
  },
  {
   "cell_type": "code",
   "execution_count": 57,
   "id": "54ce0c5c",
   "metadata": {},
   "outputs": [
    {
     "name": "stderr",
     "output_type": "stream",
     "text": [
      "C:\\Users\\S1130866\\AppData\\Local\\Temp/ipykernel_58736/1708701055.py:70: SettingWithCopyWarning: \n",
      "A value is trying to be set on a copy of a slice from a DataFrame.\n",
      "Try using .loc[row_indexer,col_indexer] = value instead\n",
      "\n",
      "See the caveats in the documentation: https://pandas.pydata.org/pandas-docs/stable/user_guide/indexing.html#returning-a-view-versus-a-copy\n",
      "  data2['UNIT_MT'] = data2['UNIT'].map(unit_dict_Other)\n"
     ]
    }
   ],
   "source": [
    "\n",
    "## Values of the units to be converted into the required format \n",
    "\n",
    "\"\"\"\n",
    "\n",
    "'KGS':'KG/LT',\n",
    "'KGS':'KG/LT ,\n",
    "'GMS':'GMs/ML' ,\n",
    "'GMS':'GMs/ML' ,\n",
    "'LT/KG':'KG/LT'\n",
    "'LTR':'KG/LT',\n",
    "'LTR':'KG/LT',\n",
    "'MTS':'Metric Tons' ,\n",
    "'MTS':'Metric Tons' ,\n",
    "'MLT':'Metric LT '\n",
    "'MGS':'GMs/ML' ,\n",
    "'MGS':'GMs/ML'\n",
    "\n",
    "\n",
    "\"\"\"\n",
    "\n",
    "\n",
    "\n",
    "unit_dict_Other = {\n",
    "'BAG':'Other',\n",
    "'BTL':'Other', \n",
    "'CAN':'Other',\n",
    "'CBM':'Other',\n",
    "'CTM':'Other',\n",
    "'DOZ':'Other',\n",
    "'DRM':'Other',\n",
    "'GRS':'Other',\n",
    "'KGA':'Other',\n",
    "'KIT':'Other',\n",
    "'KLR':'Other',\n",
    "'MTR':'Other',\n",
    "'MTR':'Other',\n",
    "'NOS':'Other',\n",
    "'NOS':'Other',\n",
    "'PAC':'Other',\n",
    "'PCS':'Other',\n",
    "'PCS':'Other',\n",
    "'PRS':'Other',\n",
    "'RLS':'Other',\n",
    "'SET':'Other',\n",
    "'SET':'Other',\n",
    "'SQM':'Other',\n",
    "'THD':'Other',\n",
    "'TUB':'Other',\n",
    "'UNT':'Other',\n",
    "'UNT':'Other',\n",
    "'VLS':'Other',\n",
    "'VLS':'Other',\n",
    "'TBS':'Other',\n",
    "'BRL':'Other',\n",
    "'KGS':'MT',\n",
    "'GMS':'MT',\n",
    "'LT/KG':'MT',\n",
    "'LTR':'MT',\n",
    "'MTS':'MT',\n",
    "'MLT':'MT',\n",
    "'MGS':'MT',\n",
    "'LBS':'MT',\n",
    "'MT':'MT',\n",
    "'Other':'Other'\n",
    "}\n",
    "\n",
    "\n",
    "\n",
    "\n",
    "data2['UNIT_MT'] = data2['UNIT'].map(unit_dict_Other)\n"
   ]
  },
  {
   "cell_type": "code",
   "execution_count": 58,
   "id": "a61d71f6",
   "metadata": {},
   "outputs": [
    {
     "name": "stderr",
     "output_type": "stream",
     "text": [
      "C:\\Users\\S1130866\\AppData\\Local\\Temp/ipykernel_58736/3928409289.py:21: SettingWithCopyWarning: \n",
      "A value is trying to be set on a copy of a slice from a DataFrame.\n",
      "Try using .loc[row_indexer,col_indexer] = value instead\n",
      "\n",
      "See the caveats in the documentation: https://pandas.pydata.org/pandas-docs/stable/user_guide/indexing.html#returning-a-view-versus-a-copy\n",
      "  data2['AI'] = data2['Product Name'].apply(lambda x : x.lower())\n",
      "C:\\Users\\S1130866\\AppData\\Local\\Temp/ipykernel_58736/3928409289.py:23: SettingWithCopyWarning: \n",
      "A value is trying to be set on a copy of a slice from a DataFrame.\n",
      "Try using .loc[row_indexer,col_indexer] = value instead\n",
      "\n",
      "See the caveats in the documentation: https://pandas.pydata.org/pandas-docs/stable/user_guide/indexing.html#returning-a-view-versus-a-copy\n",
      "  data2['AI'] = data2['AI'].map(AI_Mapping).fillna(data2['Product Name'])\n",
      "C:\\Users\\S1130866\\AppData\\Local\\Temp/ipykernel_58736/3928409289.py:25: SettingWithCopyWarning: \n",
      "A value is trying to be set on a copy of a slice from a DataFrame.\n",
      "Try using .loc[row_indexer,col_indexer] = value instead\n",
      "\n",
      "See the caveats in the documentation: https://pandas.pydata.org/pandas-docs/stable/user_guide/indexing.html#returning-a-view-versus-a-copy\n",
      "  data2['Country'] = data2['Country'].str.capitalize()\n",
      "C:\\Users\\S1130866\\AppData\\Local\\Temp/ipykernel_58736/3928409289.py:26: SettingWithCopyWarning: \n",
      "A value is trying to be set on a copy of a slice from a DataFrame.\n",
      "Try using .loc[row_indexer,col_indexer] = value instead\n",
      "\n",
      "See the caveats in the documentation: https://pandas.pydata.org/pandas-docs/stable/user_guide/indexing.html#returning-a-view-versus-a-copy\n",
      "  data2['IMPORTER/EXPORTER NAME'] = data2['IMPORTER/EXPORTER NAME'].str.capitalize()\n",
      "C:\\Users\\S1130866\\Anaconda3\\lib\\site-packages\\pandas\\core\\indexing.py:1817: SettingWithCopyWarning: \n",
      "A value is trying to be set on a copy of a slice from a DataFrame.\n",
      "Try using .loc[row_indexer,col_indexer] = value instead\n",
      "\n",
      "See the caveats in the documentation: https://pandas.pydata.org/pandas-docs/stable/user_guide/indexing.html#returning-a-view-versus-a-copy\n",
      "  self._setitem_single_column(loc, value, pi)\n"
     ]
    }
   ],
   "source": [
    "###  ----------- ORDER FOR AI's  are sorted here--------------------\n",
    "# This step uses a manually created excel for mapping a combination of AI's into its base form\n",
    "AI_Order = pd.read_excel(r\"C:\\Users\\S1130866\\Desktop\\Product_Automate\\Tech vs Other.xlsx\")\n",
    "\n",
    "\n",
    "AI_Mapping = dict(zip(AI_Order['Product Name 1'].str.lower(),AI_Order['Product Name 2'].str.lower()))\n",
    "\n",
    "AI_Mapping\n",
    "\n",
    "def AI_MAP(x) :\n",
    "    a = 'Others'\n",
    "    if x in AI_Mapping.keys():\n",
    "        x.map(AI_Mapping)\n",
    "    else  : \n",
    "        elements =  [i for i in x.split(', ')]\n",
    "        if len(elements)>1:\n",
    "            return str(a)\n",
    "        else : \n",
    "            return x\n",
    "# Creating the AI column \n",
    "data2['AI'] = data2['Product Name'].apply(lambda x : x.lower())\n",
    "\n",
    "data2['AI'] = data2['AI'].map(AI_Mapping).fillna(data2['Product Name'])\n",
    "\n",
    "data2['Country'] = data2['Country'].str.capitalize()\n",
    "data2['IMPORTER/EXPORTER NAME'] = data2['IMPORTER/EXPORTER NAME'].str.capitalize()\n",
    "\n",
    "\n",
    "\n",
    "# Checking for the Glyphosate (all that is bayers and contains 62 is Glyphosate AI)\n",
    "data2.loc[(data2['IMPORTER/EXPORTER NAME'] == 'Bayer') & (data2['PRODUCT DESCRIPTION'].str.contains('62')), 'AI'] = 'glyphosate 62% ipa salt'\n"
   ]
  },
  {
   "cell_type": "code",
   "execution_count": 59,
   "id": "ca6fa345",
   "metadata": {},
   "outputs": [
    {
     "name": "stderr",
     "output_type": "stream",
     "text": [
      "C:\\Users\\S1130866\\AppData\\Local\\Temp/ipykernel_58736/2738145180.py:3: SettingWithCopyWarning: \n",
      "A value is trying to be set on a copy of a slice from a DataFrame.\n",
      "Try using .loc[row_indexer,col_indexer] = value instead\n",
      "\n",
      "See the caveats in the documentation: https://pandas.pydata.org/pandas-docs/stable/user_guide/indexing.html#returning-a-view-versus-a-copy\n",
      "  data2['QTY_MT'] = data2.apply(lambda x: x['QTY_MT'] * 0.001 if x['UNIT']== 'KGS' else x['QTY_MT'], axis=1)\n",
      "C:\\Users\\S1130866\\AppData\\Local\\Temp/ipykernel_58736/2738145180.py:4: SettingWithCopyWarning: \n",
      "A value is trying to be set on a copy of a slice from a DataFrame.\n",
      "Try using .loc[row_indexer,col_indexer] = value instead\n",
      "\n",
      "See the caveats in the documentation: https://pandas.pydata.org/pandas-docs/stable/user_guide/indexing.html#returning-a-view-versus-a-copy\n",
      "  data2['QTY_MT'] = data2.apply(lambda x: x['QTY_MT'] * 0.001 if x['UNIT']== 'LTR' else x['QTY_MT'], axis=1)\n",
      "C:\\Users\\S1130866\\AppData\\Local\\Temp/ipykernel_58736/2738145180.py:5: SettingWithCopyWarning: \n",
      "A value is trying to be set on a copy of a slice from a DataFrame.\n",
      "Try using .loc[row_indexer,col_indexer] = value instead\n",
      "\n",
      "See the caveats in the documentation: https://pandas.pydata.org/pandas-docs/stable/user_guide/indexing.html#returning-a-view-versus-a-copy\n",
      "  data2['QTY_MT'] = data2.apply(lambda x: x['QTY_MT'] * 0.001 if x['UNIT']== 'LT/KG' else x['QTY_MT'], axis=1)\n",
      "C:\\Users\\S1130866\\AppData\\Local\\Temp/ipykernel_58736/2738145180.py:6: SettingWithCopyWarning: \n",
      "A value is trying to be set on a copy of a slice from a DataFrame.\n",
      "Try using .loc[row_indexer,col_indexer] = value instead\n",
      "\n",
      "See the caveats in the documentation: https://pandas.pydata.org/pandas-docs/stable/user_guide/indexing.html#returning-a-view-versus-a-copy\n",
      "  data2['QTY_MT'] = data2.apply(lambda x: x['QTY_MT'] * 1 if x['UNIT']== 'MTS' else x['QTY_MT'], axis=1)\n",
      "C:\\Users\\S1130866\\AppData\\Local\\Temp/ipykernel_58736/2738145180.py:7: SettingWithCopyWarning: \n",
      "A value is trying to be set on a copy of a slice from a DataFrame.\n",
      "Try using .loc[row_indexer,col_indexer] = value instead\n",
      "\n",
      "See the caveats in the documentation: https://pandas.pydata.org/pandas-docs/stable/user_guide/indexing.html#returning-a-view-versus-a-copy\n",
      "  data2['QTY_MT'] = data2.apply(lambda x: x['QTY_MT'] * 1 if x['UNIT']== 'MLT' else x['QTY_MT'], axis=1)\n",
      "C:\\Users\\S1130866\\AppData\\Local\\Temp/ipykernel_58736/2738145180.py:8: SettingWithCopyWarning: \n",
      "A value is trying to be set on a copy of a slice from a DataFrame.\n",
      "Try using .loc[row_indexer,col_indexer] = value instead\n",
      "\n",
      "See the caveats in the documentation: https://pandas.pydata.org/pandas-docs/stable/user_guide/indexing.html#returning-a-view-versus-a-copy\n",
      "  data2['QTY_MT'] = data2.apply(lambda x: x['QTY_MT'] * 0.000001 if x['UNIT']== 'MGS' else x['QTY_MT'], axis=1)\n",
      "C:\\Users\\S1130866\\AppData\\Local\\Temp/ipykernel_58736/2738145180.py:9: SettingWithCopyWarning: \n",
      "A value is trying to be set on a copy of a slice from a DataFrame.\n",
      "Try using .loc[row_indexer,col_indexer] = value instead\n",
      "\n",
      "See the caveats in the documentation: https://pandas.pydata.org/pandas-docs/stable/user_guide/indexing.html#returning-a-view-versus-a-copy\n",
      "  data2['QTY_MT'] = data2.apply(lambda x: x['QTY_MT'] * 0.000001 if x['UNIT']== 'GMS' else x['QTY_MT'], axis=1)\n",
      "C:\\Users\\S1130866\\AppData\\Local\\Temp/ipykernel_58736/2738145180.py:10: SettingWithCopyWarning: \n",
      "A value is trying to be set on a copy of a slice from a DataFrame.\n",
      "Try using .loc[row_indexer,col_indexer] = value instead\n",
      "\n",
      "See the caveats in the documentation: https://pandas.pydata.org/pandas-docs/stable/user_guide/indexing.html#returning-a-view-versus-a-copy\n",
      "  data2['QTY_MT'] = data2.apply(lambda x: x['QTY_MT'] * 0.000453592 if x['UNIT']== 'LBS' else x['QTY_MT'], axis=1)\n"
     ]
    }
   ],
   "source": [
    "### Converting the QTY_MT unit into Metric tonnes\n",
    "\n",
    "data2['QTY_MT'] = data2.apply(lambda x: x['QTY_MT'] * 0.001 if x['UNIT']== 'KGS' else x['QTY_MT'], axis=1)\n",
    "data2['QTY_MT'] = data2.apply(lambda x: x['QTY_MT'] * 0.001 if x['UNIT']== 'LTR' else x['QTY_MT'], axis=1)\n",
    "data2['QTY_MT'] = data2.apply(lambda x: x['QTY_MT'] * 0.001 if x['UNIT']== 'LT/KG' else x['QTY_MT'], axis=1)\n",
    "data2['QTY_MT'] = data2.apply(lambda x: x['QTY_MT'] * 1 if x['UNIT']== 'MTS' else x['QTY_MT'], axis=1)\n",
    "data2['QTY_MT'] = data2.apply(lambda x: x['QTY_MT'] * 1 if x['UNIT']== 'MLT' else x['QTY_MT'], axis=1)\n",
    "data2['QTY_MT'] = data2.apply(lambda x: x['QTY_MT'] * 0.000001 if x['UNIT']== 'MGS' else x['QTY_MT'], axis=1)\n",
    "data2['QTY_MT'] = data2.apply(lambda x: x['QTY_MT'] * 0.000001 if x['UNIT']== 'GMS' else x['QTY_MT'], axis=1)\n",
    "data2['QTY_MT'] = data2.apply(lambda x: x['QTY_MT'] * 0.000453592 if x['UNIT']== 'LBS' else x['QTY_MT'], axis=1)\n",
    "\n",
    "\n"
   ]
  },
  {
   "cell_type": "code",
   "execution_count": 60,
   "id": "0f9f4b42",
   "metadata": {},
   "outputs": [
    {
     "name": "stderr",
     "output_type": "stream",
     "text": [
      "C:\\Users\\S1130866\\AppData\\Local\\Temp/ipykernel_58736/2017787190.py:12: FutureWarning: The default value of regex will change from True to False in a future version.\n",
      "  data2['SUPPLIER/BUYER NAME'] = data2['SUPPLIER/BUYER NAME'].str.replace('To order .','')\n"
     ]
    }
   ],
   "source": [
    "\n",
    "## Makign changes to the supplier Buyer column by replacing 'to the order'\n",
    "\n",
    "data2 = data2.loc[data2['QTY_MT']>0.01]\n",
    "\n",
    "data2['SUPPLIER/BUYER NAME'] = data2['SUPPLIER/BUYER NAME'].str.replace('To the order of','')\n",
    "data2['SUPPLIER/BUYER NAME'] = data2['SUPPLIER/BUYER NAME'].str.replace('To order','')\n",
    "data2['SUPPLIER/BUYER NAME'] = data2['SUPPLIER/BUYER NAME'].str.replace('To the order','')\n",
    "data2['SUPPLIER/BUYER NAME'] = data2['SUPPLIER/BUYER NAME'].str.replace('To the order of g','')\n",
    "data2['SUPPLIER/BUYER NAME'] = data2['SUPPLIER/BUYER NAME'].str.replace('To the order o','')\n",
    "data2['SUPPLIER/BUYER NAME'] = data2['SUPPLIER/BUYER NAME'].str.replace('To order of','')\n",
    "data2['SUPPLIER/BUYER NAME'] = data2['SUPPLIER/BUYER NAME'].str.replace('To the order of the ','')\n",
    "data2['SUPPLIER/BUYER NAME'] = data2['SUPPLIER/BUYER NAME'].str.replace('To order .','')\n",
    "data2['SUPPLIER/BUYER NAME'] = data2['SUPPLIER/BUYER NAME'].str.replace('To th eorder','')\n",
    "data2['SUPPLIER/BUYER NAME'] = data2['SUPPLIER/BUYER NAME'].str.replace('To order o','')\n",
    "data2['SUPPLIER/BUYER NAME'] = data2['SUPPLIER/BUYER NAME'].str.replace('Totheorder of','')\n",
    "data2['SUPPLIER/BUYER NAME'] = data2['SUPPLIER/BUYER NAME'].replace('','Others')\n",
    "\n",
    "\n",
    "data2['SUPPLIER/BUYER NAME'] = data2['SUPPLIER/BUYER NAME'].str.lower().replace(company_key_value)\n",
    "\n",
    "\n",
    "\n",
    "data2['SUPPLIER/BUYER NAME'] = data2['SUPPLIER/BUYER NAME'].str.capitalize()"
   ]
  },
  {
   "cell_type": "code",
   "execution_count": 61,
   "id": "2f0c582b",
   "metadata": {},
   "outputs": [],
   "source": [
    "\n",
    "# We now need to map the Bayer products separately \n",
    "\n",
    "data2['SUPPLIER/BUYER NAME'] = data2['SUPPLIER/BUYER NAME'].fillna('')\n",
    "data2 = data2.reset_index()\n",
    "\n",
    "bayer_prod_mapping = pd.read_excel(r'C:\\Users\\S1130866\\Desktop\\Product_Automate\\Bayer_Map.xlsx')\n",
    "bayer_prod_mapping['Product'].fillna(bayer_prod_mapping['AI'],inplace = True)\n",
    "bayer_prod_mapping.drop_duplicates(inplace = True)\n",
    "bayer_map = {key:value for key,value in zip(bayer_prod_mapping['AI'],bayer_prod_mapping['Product'])}\n",
    "data2['AI'] = data2['AI'].map(bayer_map).fillna(df1['AI'])"
   ]
  },
  {
   "cell_type": "code",
   "execution_count": 62,
   "id": "10dee21c",
   "metadata": {},
   "outputs": [],
   "source": [
    "### Merging the 2 datasets together(The data till the previous month and the consolidated( import and export) data of this month)\n",
    "\n",
    "df_compiled = pd.concat([df1,data2],axis = 0 )"
   ]
  },
  {
   "cell_type": "code",
   "execution_count": 63,
   "id": "519b7e2f",
   "metadata": {},
   "outputs": [],
   "source": [
    "## Dealing with the average unit price \n",
    "\n",
    "unit_dict = {'KGS':1000,'LTR':1000,'MTS':1,'LT/KG':1000,'MLT':1000000,'GMS':1000000,'MTS':1}\n",
    "\n",
    "\n",
    "# Define lambda function to multiply Unit and Unit Price columns\n",
    "multiply_func = lambda row: row['UNIT PRICE (USD)'] * unit_dict.get(row['UNIT'], 1)\n",
    "\n",
    "# Create new column 'UNit Price' using the apply() method with lambda function\n",
    "df_compiled['Unit_Price_MT'] = df_compiled.apply(multiply_func, axis=1)\n",
    "\n",
    "#######\n",
    "\n",
    "## Substituting the different columns with the ones that we require\n",
    "# Update values in existing column based on conditions\n",
    "df_compiled['AI'] = df_compiled['AI'].str.replace('metolachlor tech','s-metolachlor tech')\n",
    "\n",
    "\n",
    "df_compiled['AI'] = df_compiled['AI'].apply(lambda x : re.sub(r'\\bmetolachlor tech\\b','s-metolachlor tech',x))\n",
    "df_compiled['SUPPLIER/BUYER NAME'] = df_compiled['SUPPLIER/BUYER NAME'].fillna('')\n"
   ]
  },
  {
   "cell_type": "code",
   "execution_count": 64,
   "id": "9850a90f",
   "metadata": {},
   "outputs": [],
   "source": [
    "\n",
    "# Saving the file at a location we need to \n",
    "df_compiled.drop_duplicates()\n",
    "df_compiled.to_excel(r\"Main.xlsx\",sheet_name = 'Data',index = False)"
   ]
  },
  {
   "cell_type": "code",
   "execution_count": 65,
   "id": "58c9e0c1",
   "metadata": {},
   "outputs": [
    {
     "data": {
      "text/plain": [
       "(210425, 19)"
      ]
     },
     "execution_count": 65,
     "metadata": {},
     "output_type": "execute_result"
    }
   ],
   "source": [
    "df_compiled.shape"
   ]
  },
  {
   "cell_type": "code",
   "execution_count": 67,
   "id": "e775fc1e",
   "metadata": {},
   "outputs": [
    {
     "data": {
      "text/plain": [
       "'C:\\\\Users\\\\S1130866\\\\Desktop\\\\AI Market Analysis'"
      ]
     },
     "execution_count": 67,
     "metadata": {},
     "output_type": "execute_result"
    }
   ],
   "source": [
    "pwd"
   ]
  },
  {
   "cell_type": "code",
   "execution_count": null,
   "id": "aa117020",
   "metadata": {},
   "outputs": [],
   "source": []
  }
 ],
 "metadata": {
  "kernelspec": {
   "display_name": "Python 3 (ipykernel)",
   "language": "python",
   "name": "python3"
  },
  "language_info": {
   "codemirror_mode": {
    "name": "ipython",
    "version": 3
   },
   "file_extension": ".py",
   "mimetype": "text/x-python",
   "name": "python",
   "nbconvert_exporter": "python",
   "pygments_lexer": "ipython3",
   "version": "3.9.7"
  }
 },
 "nbformat": 4,
 "nbformat_minor": 5
}
