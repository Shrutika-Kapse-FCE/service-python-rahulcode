{
 "cells": [
  {
   "cell_type": "code",
   "execution_count": 1,
   "id": "f8b3e3ab",
   "metadata": {},
   "outputs": [],
   "source": [
    "import numpy as np \n",
    "import pandas as pd\n",
    "import re \n",
    "import os"
   ]
  },
  {
   "cell_type": "markdown",
   "id": "40546fcb",
   "metadata": {},
   "source": [
    "## Loading all the files \n",
    "### 2019 - 2021"
   ]
  },
  {
   "cell_type": "code",
   "execution_count": 2,
   "id": "1dc549cf",
   "metadata": {},
   "outputs": [],
   "source": [
    "df1 = pd.read_excel(r\"C:\\Users\\S1130866\\OneDrive - Syngenta\\Documents\\Shared\\Product_Automate\\Product_Automate\\Import_Export\\Updated File\\2019-2021\\Data19-21.xlsx\")"
   ]
  },
  {
   "cell_type": "code",
   "execution_count": 3,
   "id": "9430dd29",
   "metadata": {},
   "outputs": [
    {
     "data": {
      "text/html": [
       "<div>\n",
       "<style scoped>\n",
       "    .dataframe tbody tr th:only-of-type {\n",
       "        vertical-align: middle;\n",
       "    }\n",
       "\n",
       "    .dataframe tbody tr th {\n",
       "        vertical-align: top;\n",
       "    }\n",
       "\n",
       "    .dataframe thead th {\n",
       "        text-align: right;\n",
       "    }\n",
       "</style>\n",
       "<table border=\"1\" class=\"dataframe\">\n",
       "  <thead>\n",
       "    <tr style=\"text-align: right;\">\n",
       "      <th></th>\n",
       "      <th>Type</th>\n",
       "      <th>Date</th>\n",
       "      <th>IMPORTER/EXPORTER NAME</th>\n",
       "      <th>ORIGIN/DESTINATION COUNTRY</th>\n",
       "      <th>PRODUCT DESCRIPTION</th>\n",
       "      <th>QTY</th>\n",
       "      <th>UNIT</th>\n",
       "      <th>UNIT PRICE (USD)</th>\n",
       "      <th>Total_VALUE_USD</th>\n",
       "      <th>INVOICE CURRENCY</th>\n",
       "      <th>SUPPLIER/BUYER NAME</th>\n",
       "      <th>Molecule Name</th>\n",
       "      <th>Product Name</th>\n",
       "    </tr>\n",
       "  </thead>\n",
       "  <tbody>\n",
       "    <tr>\n",
       "      <th>0</th>\n",
       "      <td>Import</td>\n",
       "      <td>2021-01-15</td>\n",
       "      <td>KRISHI RASAYAN EXPORTS PRIVATE LIMITED</td>\n",
       "      <td>CHINA</td>\n",
       "      <td>EMAMECTIN BENZOATE 95% TECHNICAL.ACTUAL USER R...</td>\n",
       "      <td>3000.0</td>\n",
       "      <td>KGS</td>\n",
       "      <td>168.000000</td>\n",
       "      <td>504000.0000</td>\n",
       "      <td>USD</td>\n",
       "      <td>HUNAN GOFAR FINE CHEMICAL INDUSTR</td>\n",
       "      <td>EMAMECTIN</td>\n",
       "      <td>EMAMECTIN TECH 95%</td>\n",
       "    </tr>\n",
       "    <tr>\n",
       "      <th>1</th>\n",
       "      <td>Import</td>\n",
       "      <td>2021-01-28</td>\n",
       "      <td>WILLOWOOD CHEMICALS PVT LTD</td>\n",
       "      <td>CHINA</td>\n",
       "      <td>EMAMECTIN BENZOATE 95% TECH (CIB NO. CIR-1976/...</td>\n",
       "      <td>5000.0</td>\n",
       "      <td>KGS</td>\n",
       "      <td>155.240198</td>\n",
       "      <td>776200.9898</td>\n",
       "      <td>CNY</td>\n",
       "      <td>WILLOWOOD HANGZHOU CO LIMITED</td>\n",
       "      <td>EMAMECTIN</td>\n",
       "      <td>EMAMECTIN TECH 95%</td>\n",
       "    </tr>\n",
       "    <tr>\n",
       "      <th>2</th>\n",
       "      <td>Import</td>\n",
       "      <td>2021-02-05</td>\n",
       "      <td>SYNGENTA INDIA LIMITED</td>\n",
       "      <td>AUSTRIA</td>\n",
       "      <td>EVICENT 50 KG(EMAMECTIN BENZOATE 5% W/W+LUFENU...</td>\n",
       "      <td>1800.0</td>\n",
       "      <td>KGS</td>\n",
       "      <td>190.296299</td>\n",
       "      <td>342533.3379</td>\n",
       "      <td>INR</td>\n",
       "      <td>SYNGENTA ASIA PACIFIC PRIVATE LIMITED</td>\n",
       "      <td>EMAMECTIN</td>\n",
       "      <td>EMAMECTIN Others</td>\n",
       "    </tr>\n",
       "    <tr>\n",
       "      <th>3</th>\n",
       "      <td>Import</td>\n",
       "      <td>2021-02-19</td>\n",
       "      <td>SYNGENTA INDIA LIMITED</td>\n",
       "      <td>AUSTRIA</td>\n",
       "      <td>EVICENT 50 KG(EMAMECTIN BENZOATE 5% W/W+LUFENU...</td>\n",
       "      <td>2250.0</td>\n",
       "      <td>KGS</td>\n",
       "      <td>190.554503</td>\n",
       "      <td>428747.6312</td>\n",
       "      <td>INR</td>\n",
       "      <td>SYNGENTA ASIA PACIFIC PRIVATE LIMITED</td>\n",
       "      <td>EMAMECTIN</td>\n",
       "      <td>EMAMECTIN Others</td>\n",
       "    </tr>\n",
       "    <tr>\n",
       "      <th>4</th>\n",
       "      <td>Import</td>\n",
       "      <td>2021-03-04</td>\n",
       "      <td>CRYSTAL CROP PROTECTION LIMITED</td>\n",
       "      <td>CHINA</td>\n",
       "      <td>EMAMECTIN BENZOATE TECHNICAL 95% (MIN) (CIB NO...</td>\n",
       "      <td>3000.0</td>\n",
       "      <td>KGS</td>\n",
       "      <td>228.500000</td>\n",
       "      <td>685500.0000</td>\n",
       "      <td>USD</td>\n",
       "      <td>HEBEI VEYONG BIO CHEMICAL CO LIMITED</td>\n",
       "      <td>EMAMECTIN</td>\n",
       "      <td>EMAMECTIN TECH 95%</td>\n",
       "    </tr>\n",
       "  </tbody>\n",
       "</table>\n",
       "</div>"
      ],
      "text/plain": [
       "     Type       Date                  IMPORTER/EXPORTER NAME  \\\n",
       "0  Import 2021-01-15  KRISHI RASAYAN EXPORTS PRIVATE LIMITED   \n",
       "1  Import 2021-01-28             WILLOWOOD CHEMICALS PVT LTD   \n",
       "2  Import 2021-02-05                  SYNGENTA INDIA LIMITED   \n",
       "3  Import 2021-02-19                  SYNGENTA INDIA LIMITED   \n",
       "4  Import 2021-03-04         CRYSTAL CROP PROTECTION LIMITED   \n",
       "\n",
       "  ORIGIN/DESTINATION COUNTRY  \\\n",
       "0                      CHINA   \n",
       "1                      CHINA   \n",
       "2                    AUSTRIA   \n",
       "3                    AUSTRIA   \n",
       "4                      CHINA   \n",
       "\n",
       "                                 PRODUCT DESCRIPTION     QTY UNIT  \\\n",
       "0  EMAMECTIN BENZOATE 95% TECHNICAL.ACTUAL USER R...  3000.0  KGS   \n",
       "1  EMAMECTIN BENZOATE 95% TECH (CIB NO. CIR-1976/...  5000.0  KGS   \n",
       "2  EVICENT 50 KG(EMAMECTIN BENZOATE 5% W/W+LUFENU...  1800.0  KGS   \n",
       "3  EVICENT 50 KG(EMAMECTIN BENZOATE 5% W/W+LUFENU...  2250.0  KGS   \n",
       "4  EMAMECTIN BENZOATE TECHNICAL 95% (MIN) (CIB NO...  3000.0  KGS   \n",
       "\n",
       "   UNIT PRICE (USD)  Total_VALUE_USD INVOICE CURRENCY  \\\n",
       "0        168.000000      504000.0000             USD    \n",
       "1        155.240198      776200.9898             CNY    \n",
       "2        190.296299      342533.3379              INR   \n",
       "3        190.554503      428747.6312              INR   \n",
       "4        228.500000      685500.0000              USD   \n",
       "\n",
       "                     SUPPLIER/BUYER NAME Molecule Name        Product Name  \n",
       "0      HUNAN GOFAR FINE CHEMICAL INDUSTR     EMAMECTIN  EMAMECTIN TECH 95%  \n",
       "1          WILLOWOOD HANGZHOU CO LIMITED     EMAMECTIN  EMAMECTIN TECH 95%  \n",
       "2  SYNGENTA ASIA PACIFIC PRIVATE LIMITED     EMAMECTIN    EMAMECTIN Others  \n",
       "3  SYNGENTA ASIA PACIFIC PRIVATE LIMITED     EMAMECTIN    EMAMECTIN Others  \n",
       "4   HEBEI VEYONG BIO CHEMICAL CO LIMITED     EMAMECTIN  EMAMECTIN TECH 95%  "
      ]
     },
     "execution_count": 3,
     "metadata": {},
     "output_type": "execute_result"
    }
   ],
   "source": [
    "df1.head()"
   ]
  },
  {
   "cell_type": "code",
   "execution_count": 4,
   "id": "f023e6c5",
   "metadata": {},
   "outputs": [
    {
     "name": "stdout",
     "output_type": "stream",
     "text": [
      "<class 'pandas.core.frame.DataFrame'>\n",
      "RangeIndex: 24595 entries, 0 to 24594\n",
      "Data columns (total 13 columns):\n",
      " #   Column                      Non-Null Count  Dtype         \n",
      "---  ------                      --------------  -----         \n",
      " 0   Type                        24595 non-null  object        \n",
      " 1   Date                        24595 non-null  datetime64[ns]\n",
      " 2   IMPORTER/EXPORTER NAME      24595 non-null  object        \n",
      " 3   ORIGIN/DESTINATION COUNTRY  24595 non-null  object        \n",
      " 4   PRODUCT DESCRIPTION         24595 non-null  object        \n",
      " 5   QTY                         24595 non-null  float64       \n",
      " 6   UNIT                        24595 non-null  object        \n",
      " 7   UNIT PRICE (USD)            24595 non-null  float64       \n",
      " 8   Total_VALUE_USD             24595 non-null  float64       \n",
      " 9   INVOICE CURRENCY            24594 non-null  object        \n",
      " 10  SUPPLIER/BUYER NAME         23968 non-null  object        \n",
      " 11  Molecule Name               24507 non-null  object        \n",
      " 12  Product Name                24595 non-null  object        \n",
      "dtypes: datetime64[ns](1), float64(3), object(9)\n",
      "memory usage: 2.4+ MB\n"
     ]
    }
   ],
   "source": [
    "df1.info()"
   ]
  },
  {
   "cell_type": "code",
   "execution_count": 5,
   "id": "1222a8e1",
   "metadata": {},
   "outputs": [],
   "source": [
    "df1.rename(columns = {'ORIGIN/DESTINATION COUNTRY':'Country'},inplace = True)"
   ]
  },
  {
   "cell_type": "code",
   "execution_count": 6,
   "id": "3019bb8d",
   "metadata": {},
   "outputs": [
    {
     "data": {
      "text/plain": [
       "Type                        0\n",
       "Date                        0\n",
       "IMPORTER/EXPORTER NAME      0\n",
       "Country                     0\n",
       "PRODUCT DESCRIPTION         0\n",
       "QTY                         0\n",
       "UNIT                        0\n",
       "UNIT PRICE (USD)            0\n",
       "Total_VALUE_USD             0\n",
       "INVOICE CURRENCY            1\n",
       "SUPPLIER/BUYER NAME       627\n",
       "Molecule Name              88\n",
       "Product Name                0\n",
       "dtype: int64"
      ]
     },
     "execution_count": 6,
     "metadata": {},
     "output_type": "execute_result"
    }
   ],
   "source": [
    "df1.isnull().sum()"
   ]
  },
  {
   "cell_type": "code",
   "execution_count": 7,
   "id": "db47a8d2",
   "metadata": {},
   "outputs": [],
   "source": [
    "df1 = df1.dropna()"
   ]
  },
  {
   "cell_type": "code",
   "execution_count": 8,
   "id": "f5d1364c",
   "metadata": {},
   "outputs": [
    {
     "data": {
      "text/plain": [
       "Type                      0\n",
       "Date                      0\n",
       "IMPORTER/EXPORTER NAME    0\n",
       "Country                   0\n",
       "PRODUCT DESCRIPTION       0\n",
       "QTY                       0\n",
       "UNIT                      0\n",
       "UNIT PRICE (USD)          0\n",
       "Total_VALUE_USD           0\n",
       "INVOICE CURRENCY          0\n",
       "SUPPLIER/BUYER NAME       0\n",
       "Molecule Name             0\n",
       "Product Name              0\n",
       "dtype: int64"
      ]
     },
     "execution_count": 8,
     "metadata": {},
     "output_type": "execute_result"
    }
   ],
   "source": [
    "df1.isnull().sum()"
   ]
  },
  {
   "cell_type": "code",
   "execution_count": 9,
   "id": "b53e96ad",
   "metadata": {},
   "outputs": [
    {
     "data": {
      "text/plain": [
       "(23882, 13)"
      ]
     },
     "execution_count": 9,
     "metadata": {},
     "output_type": "execute_result"
    }
   ],
   "source": [
    "df1.shape"
   ]
  },
  {
   "cell_type": "code",
   "execution_count": null,
   "id": "28335c35",
   "metadata": {},
   "outputs": [],
   "source": []
  },
  {
   "cell_type": "code",
   "execution_count": 20,
   "id": "6ed43a1b",
   "metadata": {},
   "outputs": [],
   "source": [
    "## 2022 - All months imp \n",
    "df2_imp = pd.read_csv(r\"C:\\Users\\S1130866\\OneDrive - Syngenta\\Documents\\Shared\\Product_Automate\\Product_Automate\\Import_Export\\Updated File\\Jan to July\\38_Imp_TY2_Jan_to_Jul-22.csv\",encoding = 'unicode_escape')\n",
    "df2_exp = pd.read_csv(r\"C:\\Users\\S1130866\\OneDrive - Syngenta\\Documents\\Shared\\Product_Automate\\Product_Automate\\Import_Export\\Updated File\\Jan to July\\38_Exp_TY2_Jan_to_Jul-22.csv\",encoding = 'unicode_escape')\n",
    "df3_imp = pd.read_csv(r\"C:\\Users\\S1130866\\OneDrive - Syngenta\\Documents\\Shared\\Product_Automate\\Product_Automate\\Import_Export\\Updated File\\August\\38_Imp_TY2_Aug-22.csv\",encoding = 'unicode_escape')\n",
    "df3_exp = pd.read_csv(r\"C:\\Users\\S1130866\\OneDrive - Syngenta\\Documents\\Shared\\Product_Automate\\Product_Automate\\Import_Export\\Updated File\\August\\38_Exp_TY2_Aug-22.csv\",encoding = 'unicode_escape')\n",
    "df4_imp = pd.read_csv(r\"C:\\Users\\S1130866\\OneDrive - Syngenta\\Documents\\Shared\\Product_Automate\\Product_Automate\\Import_Export\\Updated File\\September\\38_Imp_TY2_Sep-22.csv\",encoding = 'unicode_escape')\n",
    "df4_exp = pd.read_csv(r\"C:\\Users\\S1130866\\OneDrive - Syngenta\\Documents\\Shared\\Product_Automate\\Product_Automate\\Import_Export\\Updated File\\September\\38_Exp_TY2_Sep-22.csv\",encoding = 'unicode_escape')\n",
    "df5_imp = pd.read_csv(r\"C:\\Users\\S1130866\\OneDrive - Syngenta\\Documents\\Shared\\Product_Automate\\Product_Automate\\Import_Export\\Updated File\\October\\38_Imp_TY2_Oct-22.csv\",encoding = 'unicode_escape')\n",
    "df5_exp = pd.read_csv(r\"C:\\Users\\S1130866\\OneDrive - Syngenta\\Documents\\Shared\\Product_Automate\\Product_Automate\\Import_Export\\Updated File\\October\\38_Exp_TY2_Oct-22.csv\",encoding = 'unicode_escape')\n",
    "df6_imp = pd.read_csv(r\"C:\\Users\\S1130866\\OneDrive - Syngenta\\Documents\\Shared\\Product_Automate\\Product_Automate\\Import_Export\\Updated File\\November\\38_Imp_TY2_Nov-22.csv\",encoding = 'unicode_escape')\n",
    "df6_exp = pd.read_csv(r\"C:\\Users\\S1130866\\OneDrive - Syngenta\\Documents\\Shared\\Product_Automate\\Product_Automate\\Import_Export\\Updated File\\November\\38_Exp_TY2_Nov-22.csv\",encoding = 'unicode_escape')\n",
    "df7_imp = pd.read_csv(r\"C:\\Users\\S1130866\\OneDrive - Syngenta\\Documents\\Shared\\Product_Automate\\Product_Automate\\Import_Export\\Updated File\\December\\38_Imp_TY2_Dec-22.csv\",encoding = 'unicode_escape')\n",
    "df7_exp = pd.read_csv(r\"C:\\Users\\S1130866\\OneDrive - Syngenta\\Documents\\Shared\\Product_Automate\\Product_Automate\\Import_Export\\Updated File\\December\\38_Exp_TY2_Dec-22.csv\",encoding = 'unicode_escape')\n",
    "\n"
   ]
  },
  {
   "cell_type": "code",
   "execution_count": 21,
   "id": "f0834601",
   "metadata": {},
   "outputs": [],
   "source": [
    "df22_imp = pd.concat([df2_imp,df3_imp,df4_imp,df5_imp,df6_imp,df7_imp],axis = 0)"
   ]
  },
  {
   "cell_type": "code",
   "execution_count": 22,
   "id": "2b512fc4",
   "metadata": {},
   "outputs": [
    {
     "data": {
      "text/plain": [
       "(669940, 29)"
      ]
     },
     "execution_count": 22,
     "metadata": {},
     "output_type": "execute_result"
    }
   ],
   "source": [
    "df22_imp.shape"
   ]
  },
  {
   "cell_type": "code",
   "execution_count": 23,
   "id": "cc86bfbb",
   "metadata": {},
   "outputs": [
    {
     "name": "stdout",
     "output_type": "stream",
     "text": [
      "<class 'pandas.core.frame.DataFrame'>\n",
      "Int64Index: 669940 entries, 0 to 56359\n",
      "Data columns (total 29 columns):\n",
      " #   Column             Non-Null Count   Dtype  \n",
      "---  ------             --------------   -----  \n",
      " 0   Unnamed: 0         669940 non-null  int64  \n",
      " 1   Port Code          669940 non-null  object \n",
      " 2   Indian Port        669940 non-null  object \n",
      " 3   Declaration No     669940 non-null  object \n",
      " 4   Date               669940 non-null  object \n",
      " 5   Importer Name      669940 non-null  object \n",
      " 6   Address            669041 non-null  object \n",
      " 7   City               663573 non-null  object \n",
      " 8   CHA No             0 non-null       float64\n",
      " 9   CHA Name           161593 non-null  object \n",
      " 10  Country Origin     669939 non-null  object \n",
      " 11  HS Code            669940 non-null  int64  \n",
      " 12  Goods Description  669939 non-null  object \n",
      " 13  Quantity           669940 non-null  float64\n",
      " 14  Unit               669940 non-null  object \n",
      " 15  Unit Price Usd     669940 non-null  float64\n",
      " 16  Total Value Usd    669940 non-null  float64\n",
      " 17  Total_Duty_Usd     669940 non-null  float64\n",
      " 18  Loading Port       161588 non-null  object \n",
      " 19  Inv Currency       669940 non-null  object \n",
      " 20  Supplier Name      669606 non-null  object \n",
      " 21  Supplier Address   532609 non-null  object \n",
      " 22  BE Type            669940 non-null  object \n",
      " 23  IEC Phone          635210 non-null  object \n",
      " 24  IEC Phone.1        370420 non-null  object \n",
      " 25  IEC Contact        646427 non-null  object \n",
      " 26  Product            669940 non-null  object \n",
      " 27  suffix             669940 non-null  object \n",
      " 28  IEC Email          259098 non-null  object \n",
      "dtypes: float64(5), int64(2), object(22)\n",
      "memory usage: 153.3+ MB\n"
     ]
    }
   ],
   "source": [
    "df22_imp.info()"
   ]
  },
  {
   "cell_type": "code",
   "execution_count": 24,
   "id": "bbd42c4c",
   "metadata": {},
   "outputs": [],
   "source": [
    "df2_imp.rename(columns = {'IEC Phone.1':'IEC Email'},inplace = True)"
   ]
  },
  {
   "cell_type": "code",
   "execution_count": 29,
   "id": "0e96e85f",
   "metadata": {},
   "outputs": [],
   "source": [
    "list1 = df2_imp.columns\n",
    "list2 = df3_imp.columns\n",
    "list3 = df4_imp.columns\n",
    "list4 = df5_imp.columns\n",
    "list5 = df6_imp.columns\n",
    "list6 = df7_imp.columns"
   ]
  },
  {
   "cell_type": "code",
   "execution_count": 30,
   "id": "1bea421d",
   "metadata": {},
   "outputs": [
    {
     "data": {
      "text/plain": [
       "(301915, 25)"
      ]
     },
     "execution_count": 30,
     "metadata": {},
     "output_type": "execute_result"
    }
   ],
   "source": [
    "df22_exp.shape"
   ]
  },
  {
   "cell_type": "code",
   "execution_count": 31,
   "id": "96b6e11d",
   "metadata": {},
   "outputs": [],
   "source": [
    "## Concatinating the export data "
   ]
  },
  {
   "cell_type": "code",
   "execution_count": 32,
   "id": "510a71a6",
   "metadata": {},
   "outputs": [],
   "source": [
    "\n",
    "df22_exp = pd.concat([df2_exp,df3_exp,df4_exp,df5_exp,df6_exp,df7_exp],axis = 0)"
   ]
  },
  {
   "cell_type": "code",
   "execution_count": 33,
   "id": "ba9f6f82",
   "metadata": {},
   "outputs": [
    {
     "data": {
      "text/plain": [
       "Index(['Unnamed: 0', 'Declaration No', 'HS Four Digit', 'Date', 'HS Code',\n",
       "       'Goods Description', 'Quantity', 'Unit', 'Currency', 'Unit Value Usd',\n",
       "       'Fob Usd', 'Destination Port', 'Country', 'Indian Port',\n",
       "       'Exporter Name', 'Address', 'City', 'Consinee Name', 'Consinee Address',\n",
       "       'Port Code', 'IEC Phone', 'IEC Email', 'IEC Contact', 'Product',\n",
       "       'suffix'],\n",
       "      dtype='object')"
      ]
     },
     "execution_count": 33,
     "metadata": {},
     "output_type": "execute_result"
    }
   ],
   "source": [
    "df22_exp.columns"
   ]
  },
  {
   "cell_type": "code",
   "execution_count": 34,
   "id": "e72dee5c",
   "metadata": {},
   "outputs": [
    {
     "data": {
      "text/plain": [
       "Index(['Type', 'Date', 'IMPORTER/EXPORTER NAME', 'Country',\n",
       "       'PRODUCT DESCRIPTION', 'QTY', 'UNIT', 'UNIT PRICE (USD)',\n",
       "       'Total_VALUE_USD', 'INVOICE CURRENCY', 'SUPPLIER/BUYER NAME',\n",
       "       'Molecule Name', 'Product Name'],\n",
       "      dtype='object')"
      ]
     },
     "execution_count": 34,
     "metadata": {},
     "output_type": "execute_result"
    }
   ],
   "source": [
    "df1.columns"
   ]
  },
  {
   "cell_type": "code",
   "execution_count": 35,
   "id": "75be5cdc",
   "metadata": {},
   "outputs": [
    {
     "data": {
      "text/plain": [
       "Index(['Unnamed: 0', 'Declaration No', 'HS Four Digit', 'Date', 'HS Code',\n",
       "       'Goods Description', 'Quantity', 'Unit', 'Currency', 'Unit Value Usd',\n",
       "       'Fob Usd', 'Destination Port', 'Country', 'Indian Port',\n",
       "       'Exporter Name', 'Address', 'City', 'Consinee Name', 'Consinee Address',\n",
       "       'Port Code', 'IEC Phone', 'IEC Email', 'IEC Contact', 'Product',\n",
       "       'suffix'],\n",
       "      dtype='object')"
      ]
     },
     "execution_count": 35,
     "metadata": {},
     "output_type": "execute_result"
    }
   ],
   "source": [
    "df2_exp.columns"
   ]
  },
  {
   "cell_type": "code",
   "execution_count": 36,
   "id": "648a4eb3",
   "metadata": {},
   "outputs": [],
   "source": [
    "## Bringing the Export file in the required format : \n",
    "\n",
    "### Block for altering the entire data into the required format\n",
    "\n",
    "temp2 = df22_exp.drop(['Declaration No', 'HS Four Digit', 'HS Code','Destination Port','Indian Port','Address', 'City','Consinee Address','Port Code', 'IEC Phone', 'IEC Email', 'IEC Contact'],axis = 1)\n",
    "temp2['Product Name'] = temp2['Product'] + \" \" + temp2['suffix']\n",
    "temp2 = temp2.drop('suffix',axis = 1)\n",
    "temp2['Type'] = 'Export'\n",
    "temp2.rename(columns = {'Exporter Name':'IMPORTER/EXPORTER NAME','Country Origin':'Country','Goods Description':'PRODUCT DESCRIPTION','Quantity':'QTY','Unit':'UNIT','Unit Value Usd':'UNIT PRICE (USD)','Fob Usd':'Total_VALUE_USD','Currency':'INVOICE CURRENCY','Consinee Name':'SUPPLIER/BUYER NAME','Product':'Molecule Name'},inplace = True)\n",
    "\n",
    "temp2 = temp2.loc[:,[\"Type\",\"Date\",\"IMPORTER/EXPORTER NAME\",\"Country\",\"PRODUCT DESCRIPTION\",\"QTY\",\"UNIT\",\"UNIT PRICE (USD)\",\"Total_VALUE_USD\",\"INVOICE CURRENCY\",\"SUPPLIER/BUYER NAME\",\"Molecule Name\",\"Product Name\"]]\n",
    "temp2['Product Name'].replace('Others Others','Others',inplace = True)"
   ]
  },
  {
   "cell_type": "code",
   "execution_count": 37,
   "id": "1a60d8ca",
   "metadata": {},
   "outputs": [
    {
     "data": {
      "text/plain": [
       "(301915, 13)"
      ]
     },
     "execution_count": 37,
     "metadata": {},
     "output_type": "execute_result"
    }
   ],
   "source": [
    "temp2.shape"
   ]
  },
  {
   "cell_type": "code",
   "execution_count": 38,
   "id": "ea9644eb",
   "metadata": {},
   "outputs": [
    {
     "data": {
      "text/plain": [
       "Index(['Unnamed: 0', 'Port Code', 'Indian Port', 'Declaration No', 'Date',\n",
       "       'Importer Name', 'Address', 'City', 'CHA No', 'CHA Name',\n",
       "       'Country Origin', 'HS Code', 'Goods Description', 'Quantity', 'Unit',\n",
       "       'Unit Price Usd', 'Total Value Usd', 'Total_Duty_Usd', 'Loading Port',\n",
       "       'Inv Currency', 'Supplier Name', 'Supplier Address', 'BE Type',\n",
       "       'IEC Phone', 'IEC Email', 'IEC Contact', 'Product', 'suffix'],\n",
       "      dtype='object')"
      ]
     },
     "execution_count": 38,
     "metadata": {},
     "output_type": "execute_result"
    }
   ],
   "source": [
    "df2_imp.columns"
   ]
  },
  {
   "cell_type": "code",
   "execution_count": 39,
   "id": "af42ad36",
   "metadata": {},
   "outputs": [],
   "source": [
    "### Block for altering the entire data into the required format\n",
    "\n",
    "\n",
    "temp = df22_imp.drop(['Unnamed: 0','Port Code', 'Indian Port', 'Declaration No','Address', 'City', 'CHA No', 'CHA Name','HS Code','Total_Duty_Usd', 'Loading Port','Supplier Address', 'BE Type', 'IEC Phone','IEC Email', 'IEC Contact'],axis = 1)\n",
    "temp['Product Name'] = temp['Product'] + \" \" + temp['suffix']\n",
    "temp = temp.drop('suffix',axis = 1)\n",
    "temp['Type'] = 'Import'\n",
    "temp.rename(columns = {'Importer Name':'IMPORTER/EXPORTER NAME','Country Origin':'Country','Goods Description':'PRODUCT DESCRIPTION','Quantity':'QTY','Unit':'UNIT','Unit Price Usd':'UNIT PRICE (USD)','Total Value Usd':'Total_VALUE_USD','Inv Currency':'INVOICE CURRENCY','Supplier Name':'SUPPLIER/BUYER NAME','Product':'Molecule Name'},inplace = True)\n",
    "\n",
    "\n",
    "\n",
    "temp = temp.loc[:,[\"Type\",\"Date\",\"IMPORTER/EXPORTER NAME\",\"Country\",\"PRODUCT DESCRIPTION\",\"QTY\",\"UNIT\",\"UNIT PRICE (USD)\",\"Total_VALUE_USD\",\"INVOICE CURRENCY\",\"SUPPLIER/BUYER NAME\",\"Molecule Name\",\"Product Name\"]]\n",
    "temp['Product Name'].replace('Others Others','Others',inplace = True)"
   ]
  },
  {
   "cell_type": "code",
   "execution_count": 40,
   "id": "12ac7755",
   "metadata": {},
   "outputs": [
    {
     "data": {
      "text/html": [
       "<div>\n",
       "<style scoped>\n",
       "    .dataframe tbody tr th:only-of-type {\n",
       "        vertical-align: middle;\n",
       "    }\n",
       "\n",
       "    .dataframe tbody tr th {\n",
       "        vertical-align: top;\n",
       "    }\n",
       "\n",
       "    .dataframe thead th {\n",
       "        text-align: right;\n",
       "    }\n",
       "</style>\n",
       "<table border=\"1\" class=\"dataframe\">\n",
       "  <thead>\n",
       "    <tr style=\"text-align: right;\">\n",
       "      <th></th>\n",
       "      <th>Type</th>\n",
       "      <th>Date</th>\n",
       "      <th>IMPORTER/EXPORTER NAME</th>\n",
       "      <th>Country</th>\n",
       "      <th>PRODUCT DESCRIPTION</th>\n",
       "      <th>QTY</th>\n",
       "      <th>UNIT</th>\n",
       "      <th>UNIT PRICE (USD)</th>\n",
       "      <th>Total_VALUE_USD</th>\n",
       "      <th>INVOICE CURRENCY</th>\n",
       "      <th>SUPPLIER/BUYER NAME</th>\n",
       "      <th>Molecule Name</th>\n",
       "      <th>Product Name</th>\n",
       "    </tr>\n",
       "  </thead>\n",
       "  <tbody>\n",
       "    <tr>\n",
       "      <th>0</th>\n",
       "      <td>Import</td>\n",
       "      <td>2022-01-01</td>\n",
       "      <td>CHROMACHEMIE LABORATORY PRIVATE LIMITED</td>\n",
       "      <td>UNITED STATES</td>\n",
       "      <td>USP-1396342_METFORMIN RELATED COMPOUND C -(25 ...</td>\n",
       "      <td>4.0</td>\n",
       "      <td>NOS</td>\n",
       "      <td>734.136941</td>\n",
       "      <td>2936.547764</td>\n",
       "      <td>USD</td>\n",
       "      <td>THE UNITED STATES PHARMACOPEIA</td>\n",
       "      <td>Others</td>\n",
       "      <td>Others</td>\n",
       "    </tr>\n",
       "    <tr>\n",
       "      <th>1</th>\n",
       "      <td>Import</td>\n",
       "      <td>2022-01-01</td>\n",
       "      <td>CHROMACHEMIE LABORATORY PRIVATE LIMITED</td>\n",
       "      <td>UNITED STATES</td>\n",
       "      <td>USP-1432005_METHYLPARABEN -(125 MG)-(PHARMACEU...</td>\n",
       "      <td>19.0</td>\n",
       "      <td>NOS</td>\n",
       "      <td>198.046246</td>\n",
       "      <td>3762.878678</td>\n",
       "      <td>USD</td>\n",
       "      <td>THE UNITED STATES PHARMACOPEIA</td>\n",
       "      <td>Others</td>\n",
       "      <td>Others</td>\n",
       "    </tr>\n",
       "    <tr>\n",
       "      <th>2</th>\n",
       "      <td>Import</td>\n",
       "      <td>2022-01-01</td>\n",
       "      <td>CHROMACHEMIE LABORATORY PRIVATE LIMITED</td>\n",
       "      <td>UNITED STATES</td>\n",
       "      <td>USP-1441298_METOPROLOL SUCCINATE -(200 MG)-(PH...</td>\n",
       "      <td>4.0</td>\n",
       "      <td>NOS</td>\n",
       "      <td>421.701912</td>\n",
       "      <td>1686.807647</td>\n",
       "      <td>USD</td>\n",
       "      <td>THE UNITED STATES PHARMACOPEIA</td>\n",
       "      <td>Others</td>\n",
       "      <td>Others</td>\n",
       "    </tr>\n",
       "    <tr>\n",
       "      <th>3</th>\n",
       "      <td>Import</td>\n",
       "      <td>2022-01-01</td>\n",
       "      <td>CHROMACHEMIE LABORATORY PRIVATE LIMITED</td>\n",
       "      <td>UNITED STATES</td>\n",
       "      <td>USP-1446815_MONTELUKAST DICYCLOHEXYLAMINE -(15...</td>\n",
       "      <td>6.0</td>\n",
       "      <td>NOS</td>\n",
       "      <td>740.112486</td>\n",
       "      <td>4440.674919</td>\n",
       "      <td>USD</td>\n",
       "      <td>THE UNITED STATES PHARMACOPEIA</td>\n",
       "      <td>Others</td>\n",
       "      <td>Others</td>\n",
       "    </tr>\n",
       "    <tr>\n",
       "      <th>4</th>\n",
       "      <td>Import</td>\n",
       "      <td>2022-01-01</td>\n",
       "      <td>CHROMACHEMIE LABORATORY PRIVATE LIMITED</td>\n",
       "      <td>UNITED STATES</td>\n",
       "      <td>USP-1448617_MOXIFLOXACIN RELATED COMPOUND A -(...</td>\n",
       "      <td>3.0</td>\n",
       "      <td>NOS</td>\n",
       "      <td>734.136963</td>\n",
       "      <td>2202.410888</td>\n",
       "      <td>USD</td>\n",
       "      <td>THE UNITED STATES PHARMACOPEIA</td>\n",
       "      <td>Others</td>\n",
       "      <td>Others</td>\n",
       "    </tr>\n",
       "  </tbody>\n",
       "</table>\n",
       "</div>"
      ],
      "text/plain": [
       "     Type        Date                   IMPORTER/EXPORTER NAME        Country  \\\n",
       "0  Import  2022-01-01  CHROMACHEMIE LABORATORY PRIVATE LIMITED  UNITED STATES   \n",
       "1  Import  2022-01-01  CHROMACHEMIE LABORATORY PRIVATE LIMITED  UNITED STATES   \n",
       "2  Import  2022-01-01  CHROMACHEMIE LABORATORY PRIVATE LIMITED  UNITED STATES   \n",
       "3  Import  2022-01-01  CHROMACHEMIE LABORATORY PRIVATE LIMITED  UNITED STATES   \n",
       "4  Import  2022-01-01  CHROMACHEMIE LABORATORY PRIVATE LIMITED  UNITED STATES   \n",
       "\n",
       "                                 PRODUCT DESCRIPTION   QTY  UNIT  \\\n",
       "0  USP-1396342_METFORMIN RELATED COMPOUND C -(25 ...   4.0  NOS    \n",
       "1  USP-1432005_METHYLPARABEN -(125 MG)-(PHARMACEU...  19.0  NOS    \n",
       "2  USP-1441298_METOPROLOL SUCCINATE -(200 MG)-(PH...   4.0  NOS    \n",
       "3  USP-1446815_MONTELUKAST DICYCLOHEXYLAMINE -(15...   6.0  NOS    \n",
       "4  USP-1448617_MOXIFLOXACIN RELATED COMPOUND A -(...   3.0  NOS    \n",
       "\n",
       "   UNIT PRICE (USD)  Total_VALUE_USD INVOICE CURRENCY  \\\n",
       "0        734.136941      2936.547764             USD    \n",
       "1        198.046246      3762.878678             USD    \n",
       "2        421.701912      1686.807647             USD    \n",
       "3        740.112486      4440.674919             USD    \n",
       "4        734.136963      2202.410888             USD    \n",
       "\n",
       "              SUPPLIER/BUYER NAME Molecule Name Product Name  \n",
       "0  THE UNITED STATES PHARMACOPEIA        Others       Others  \n",
       "1  THE UNITED STATES PHARMACOPEIA        Others       Others  \n",
       "2  THE UNITED STATES PHARMACOPEIA        Others       Others  \n",
       "3  THE UNITED STATES PHARMACOPEIA        Others       Others  \n",
       "4  THE UNITED STATES PHARMACOPEIA        Others       Others  "
      ]
     },
     "execution_count": 40,
     "metadata": {},
     "output_type": "execute_result"
    }
   ],
   "source": [
    "temp.head()"
   ]
  },
  {
   "cell_type": "code",
   "execution_count": 41,
   "id": "0b0d9c85",
   "metadata": {
    "scrolled": true
   },
   "outputs": [
    {
     "data": {
      "text/html": [
       "<div>\n",
       "<style scoped>\n",
       "    .dataframe tbody tr th:only-of-type {\n",
       "        vertical-align: middle;\n",
       "    }\n",
       "\n",
       "    .dataframe tbody tr th {\n",
       "        vertical-align: top;\n",
       "    }\n",
       "\n",
       "    .dataframe thead th {\n",
       "        text-align: right;\n",
       "    }\n",
       "</style>\n",
       "<table border=\"1\" class=\"dataframe\">\n",
       "  <thead>\n",
       "    <tr style=\"text-align: right;\">\n",
       "      <th></th>\n",
       "      <th>Type</th>\n",
       "      <th>Date</th>\n",
       "      <th>IMPORTER/EXPORTER NAME</th>\n",
       "      <th>Country</th>\n",
       "      <th>PRODUCT DESCRIPTION</th>\n",
       "      <th>QTY</th>\n",
       "      <th>UNIT</th>\n",
       "      <th>UNIT PRICE (USD)</th>\n",
       "      <th>Total_VALUE_USD</th>\n",
       "      <th>INVOICE CURRENCY</th>\n",
       "      <th>SUPPLIER/BUYER NAME</th>\n",
       "      <th>Molecule Name</th>\n",
       "      <th>Product Name</th>\n",
       "    </tr>\n",
       "  </thead>\n",
       "  <tbody>\n",
       "    <tr>\n",
       "      <th>0</th>\n",
       "      <td>Export</td>\n",
       "      <td>2022-01-01</td>\n",
       "      <td>UPL LIMITED</td>\n",
       "      <td>UNITED STATES</td>\n",
       "      <td>MANZATE MAX FORMULATION (FUNGICIDE)</td>\n",
       "      <td>17929.62</td>\n",
       "      <td>KGS</td>\n",
       "      <td>1.814029</td>\n",
       "      <td>32524.850895</td>\n",
       "      <td>USD</td>\n",
       "      <td>UPL NA INC</td>\n",
       "      <td>manzate</td>\n",
       "      <td>manzate Others</td>\n",
       "    </tr>\n",
       "    <tr>\n",
       "      <th>1</th>\n",
       "      <td>Export</td>\n",
       "      <td>2022-01-01</td>\n",
       "      <td>MEGHMANI ORGANICS LIMITED</td>\n",
       "      <td>UNITED STATES</td>\n",
       "      <td>INDIAN ORIGIN 2,4 DI-CHLORO PHENOXY ACET</td>\n",
       "      <td>90000.00</td>\n",
       "      <td>KGS</td>\n",
       "      <td>3.853177</td>\n",
       "      <td>346785.950961</td>\n",
       "      <td>USD</td>\n",
       "      <td>TO THE ORDER OF G</td>\n",
       "      <td>Others</td>\n",
       "      <td>Others</td>\n",
       "    </tr>\n",
       "    <tr>\n",
       "      <th>2</th>\n",
       "      <td>Export</td>\n",
       "      <td>2022-01-01</td>\n",
       "      <td>KAKADIYA CHEMICAL</td>\n",
       "      <td>SRI LANKA</td>\n",
       "      <td>DISINFECTANT, SOLID, TOXIC, N.O.S. AVATO</td>\n",
       "      <td>53.10</td>\n",
       "      <td>MTS</td>\n",
       "      <td>435.553659</td>\n",
       "      <td>23127.899271</td>\n",
       "      <td>USD</td>\n",
       "      <td>TO THE ORDER OF G</td>\n",
       "      <td>avato</td>\n",
       "      <td>avato Others</td>\n",
       "    </tr>\n",
       "    <tr>\n",
       "      <th>3</th>\n",
       "      <td>Export</td>\n",
       "      <td>2022-01-01</td>\n",
       "      <td>KAKADIYA CHEMICAL</td>\n",
       "      <td>SRI LANKA</td>\n",
       "      <td>DISINFECTANT, SOLID, TOXIC, N.O.S. AVATO</td>\n",
       "      <td>53.10</td>\n",
       "      <td>MTS</td>\n",
       "      <td>435.553659</td>\n",
       "      <td>23127.899271</td>\n",
       "      <td>USD</td>\n",
       "      <td>TO THE ORDER OF G</td>\n",
       "      <td>avato</td>\n",
       "      <td>avato Others</td>\n",
       "    </tr>\n",
       "    <tr>\n",
       "      <th>4</th>\n",
       "      <td>Export</td>\n",
       "      <td>2022-01-01</td>\n",
       "      <td>PERSANG ALLOY INDUSTRIES PRIVATE LIMITED</td>\n",
       "      <td>SAUDI ARABIA</td>\n",
       "      <td>SOLER PASTE FOR SOLDERING SH 6309 TYPE 4</td>\n",
       "      <td>20.00</td>\n",
       "      <td>KGS</td>\n",
       "      <td>140.490391</td>\n",
       "      <td>2809.807820</td>\n",
       "      <td>USD</td>\n",
       "      <td>PIONEER TECHNICAL SYSTE</td>\n",
       "      <td>Others</td>\n",
       "      <td>Others</td>\n",
       "    </tr>\n",
       "  </tbody>\n",
       "</table>\n",
       "</div>"
      ],
      "text/plain": [
       "     Type        Date                    IMPORTER/EXPORTER NAME  \\\n",
       "0  Export  2022-01-01                               UPL LIMITED   \n",
       "1  Export  2022-01-01                 MEGHMANI ORGANICS LIMITED   \n",
       "2  Export  2022-01-01                         KAKADIYA CHEMICAL   \n",
       "3  Export  2022-01-01                         KAKADIYA CHEMICAL   \n",
       "4  Export  2022-01-01  PERSANG ALLOY INDUSTRIES PRIVATE LIMITED   \n",
       "\n",
       "         Country                       PRODUCT DESCRIPTION       QTY UNIT  \\\n",
       "0  UNITED STATES       MANZATE MAX FORMULATION (FUNGICIDE)  17929.62  KGS   \n",
       "1  UNITED STATES  INDIAN ORIGIN 2,4 DI-CHLORO PHENOXY ACET  90000.00  KGS   \n",
       "2      SRI LANKA  DISINFECTANT, SOLID, TOXIC, N.O.S. AVATO     53.10  MTS   \n",
       "3      SRI LANKA  DISINFECTANT, SOLID, TOXIC, N.O.S. AVATO     53.10  MTS   \n",
       "4   SAUDI ARABIA  SOLER PASTE FOR SOLDERING SH 6309 TYPE 4     20.00  KGS   \n",
       "\n",
       "   UNIT PRICE (USD)  Total_VALUE_USD INVOICE CURRENCY  \\\n",
       "0          1.814029     32524.850895              USD   \n",
       "1          3.853177    346785.950961              USD   \n",
       "2        435.553659     23127.899271              USD   \n",
       "3        435.553659     23127.899271              USD   \n",
       "4        140.490391      2809.807820              USD   \n",
       "\n",
       "       SUPPLIER/BUYER NAME Molecule Name    Product Name  \n",
       "0               UPL NA INC       manzate  manzate Others  \n",
       "1        TO THE ORDER OF G        Others          Others  \n",
       "2        TO THE ORDER OF G         avato    avato Others  \n",
       "3        TO THE ORDER OF G         avato    avato Others  \n",
       "4  PIONEER TECHNICAL SYSTE        Others          Others  "
      ]
     },
     "execution_count": 41,
     "metadata": {},
     "output_type": "execute_result"
    }
   ],
   "source": [
    "temp2.head()"
   ]
  },
  {
   "cell_type": "code",
   "execution_count": 42,
   "id": "f34d1f5a",
   "metadata": {},
   "outputs": [
    {
     "data": {
      "text/html": [
       "<div>\n",
       "<style scoped>\n",
       "    .dataframe tbody tr th:only-of-type {\n",
       "        vertical-align: middle;\n",
       "    }\n",
       "\n",
       "    .dataframe tbody tr th {\n",
       "        vertical-align: top;\n",
       "    }\n",
       "\n",
       "    .dataframe thead th {\n",
       "        text-align: right;\n",
       "    }\n",
       "</style>\n",
       "<table border=\"1\" class=\"dataframe\">\n",
       "  <thead>\n",
       "    <tr style=\"text-align: right;\">\n",
       "      <th></th>\n",
       "      <th>Type</th>\n",
       "      <th>Date</th>\n",
       "      <th>IMPORTER/EXPORTER NAME</th>\n",
       "      <th>Country</th>\n",
       "      <th>PRODUCT DESCRIPTION</th>\n",
       "      <th>QTY</th>\n",
       "      <th>UNIT</th>\n",
       "      <th>UNIT PRICE (USD)</th>\n",
       "      <th>Total_VALUE_USD</th>\n",
       "      <th>INVOICE CURRENCY</th>\n",
       "      <th>SUPPLIER/BUYER NAME</th>\n",
       "      <th>Molecule Name</th>\n",
       "      <th>Product Name</th>\n",
       "    </tr>\n",
       "  </thead>\n",
       "  <tbody>\n",
       "    <tr>\n",
       "      <th>0</th>\n",
       "      <td>Import</td>\n",
       "      <td>2021-01-15</td>\n",
       "      <td>KRISHI RASAYAN EXPORTS PRIVATE LIMITED</td>\n",
       "      <td>CHINA</td>\n",
       "      <td>EMAMECTIN BENZOATE 95% TECHNICAL.ACTUAL USER R...</td>\n",
       "      <td>3000.0</td>\n",
       "      <td>KGS</td>\n",
       "      <td>168.000000</td>\n",
       "      <td>504000.0000</td>\n",
       "      <td>USD</td>\n",
       "      <td>HUNAN GOFAR FINE CHEMICAL INDUSTR</td>\n",
       "      <td>EMAMECTIN</td>\n",
       "      <td>EMAMECTIN TECH 95%</td>\n",
       "    </tr>\n",
       "    <tr>\n",
       "      <th>1</th>\n",
       "      <td>Import</td>\n",
       "      <td>2021-01-28</td>\n",
       "      <td>WILLOWOOD CHEMICALS PVT LTD</td>\n",
       "      <td>CHINA</td>\n",
       "      <td>EMAMECTIN BENZOATE 95% TECH (CIB NO. CIR-1976/...</td>\n",
       "      <td>5000.0</td>\n",
       "      <td>KGS</td>\n",
       "      <td>155.240198</td>\n",
       "      <td>776200.9898</td>\n",
       "      <td>CNY</td>\n",
       "      <td>WILLOWOOD HANGZHOU CO LIMITED</td>\n",
       "      <td>EMAMECTIN</td>\n",
       "      <td>EMAMECTIN TECH 95%</td>\n",
       "    </tr>\n",
       "    <tr>\n",
       "      <th>2</th>\n",
       "      <td>Import</td>\n",
       "      <td>2021-02-05</td>\n",
       "      <td>SYNGENTA INDIA LIMITED</td>\n",
       "      <td>AUSTRIA</td>\n",
       "      <td>EVICENT 50 KG(EMAMECTIN BENZOATE 5% W/W+LUFENU...</td>\n",
       "      <td>1800.0</td>\n",
       "      <td>KGS</td>\n",
       "      <td>190.296299</td>\n",
       "      <td>342533.3379</td>\n",
       "      <td>INR</td>\n",
       "      <td>SYNGENTA ASIA PACIFIC PRIVATE LIMITED</td>\n",
       "      <td>EMAMECTIN</td>\n",
       "      <td>EMAMECTIN Others</td>\n",
       "    </tr>\n",
       "    <tr>\n",
       "      <th>3</th>\n",
       "      <td>Import</td>\n",
       "      <td>2021-02-19</td>\n",
       "      <td>SYNGENTA INDIA LIMITED</td>\n",
       "      <td>AUSTRIA</td>\n",
       "      <td>EVICENT 50 KG(EMAMECTIN BENZOATE 5% W/W+LUFENU...</td>\n",
       "      <td>2250.0</td>\n",
       "      <td>KGS</td>\n",
       "      <td>190.554503</td>\n",
       "      <td>428747.6312</td>\n",
       "      <td>INR</td>\n",
       "      <td>SYNGENTA ASIA PACIFIC PRIVATE LIMITED</td>\n",
       "      <td>EMAMECTIN</td>\n",
       "      <td>EMAMECTIN Others</td>\n",
       "    </tr>\n",
       "    <tr>\n",
       "      <th>4</th>\n",
       "      <td>Import</td>\n",
       "      <td>2021-03-04</td>\n",
       "      <td>CRYSTAL CROP PROTECTION LIMITED</td>\n",
       "      <td>CHINA</td>\n",
       "      <td>EMAMECTIN BENZOATE TECHNICAL 95% (MIN) (CIB NO...</td>\n",
       "      <td>3000.0</td>\n",
       "      <td>KGS</td>\n",
       "      <td>228.500000</td>\n",
       "      <td>685500.0000</td>\n",
       "      <td>USD</td>\n",
       "      <td>HEBEI VEYONG BIO CHEMICAL CO LIMITED</td>\n",
       "      <td>EMAMECTIN</td>\n",
       "      <td>EMAMECTIN TECH 95%</td>\n",
       "    </tr>\n",
       "  </tbody>\n",
       "</table>\n",
       "</div>"
      ],
      "text/plain": [
       "     Type       Date                  IMPORTER/EXPORTER NAME  Country  \\\n",
       "0  Import 2021-01-15  KRISHI RASAYAN EXPORTS PRIVATE LIMITED    CHINA   \n",
       "1  Import 2021-01-28             WILLOWOOD CHEMICALS PVT LTD    CHINA   \n",
       "2  Import 2021-02-05                  SYNGENTA INDIA LIMITED  AUSTRIA   \n",
       "3  Import 2021-02-19                  SYNGENTA INDIA LIMITED  AUSTRIA   \n",
       "4  Import 2021-03-04         CRYSTAL CROP PROTECTION LIMITED    CHINA   \n",
       "\n",
       "                                 PRODUCT DESCRIPTION     QTY UNIT  \\\n",
       "0  EMAMECTIN BENZOATE 95% TECHNICAL.ACTUAL USER R...  3000.0  KGS   \n",
       "1  EMAMECTIN BENZOATE 95% TECH (CIB NO. CIR-1976/...  5000.0  KGS   \n",
       "2  EVICENT 50 KG(EMAMECTIN BENZOATE 5% W/W+LUFENU...  1800.0  KGS   \n",
       "3  EVICENT 50 KG(EMAMECTIN BENZOATE 5% W/W+LUFENU...  2250.0  KGS   \n",
       "4  EMAMECTIN BENZOATE TECHNICAL 95% (MIN) (CIB NO...  3000.0  KGS   \n",
       "\n",
       "   UNIT PRICE (USD)  Total_VALUE_USD INVOICE CURRENCY  \\\n",
       "0        168.000000      504000.0000             USD    \n",
       "1        155.240198      776200.9898             CNY    \n",
       "2        190.296299      342533.3379              INR   \n",
       "3        190.554503      428747.6312              INR   \n",
       "4        228.500000      685500.0000              USD   \n",
       "\n",
       "                     SUPPLIER/BUYER NAME Molecule Name        Product Name  \n",
       "0      HUNAN GOFAR FINE CHEMICAL INDUSTR     EMAMECTIN  EMAMECTIN TECH 95%  \n",
       "1          WILLOWOOD HANGZHOU CO LIMITED     EMAMECTIN  EMAMECTIN TECH 95%  \n",
       "2  SYNGENTA ASIA PACIFIC PRIVATE LIMITED     EMAMECTIN    EMAMECTIN Others  \n",
       "3  SYNGENTA ASIA PACIFIC PRIVATE LIMITED     EMAMECTIN    EMAMECTIN Others  \n",
       "4   HEBEI VEYONG BIO CHEMICAL CO LIMITED     EMAMECTIN  EMAMECTIN TECH 95%  "
      ]
     },
     "execution_count": 42,
     "metadata": {},
     "output_type": "execute_result"
    }
   ],
   "source": [
    "df1.head()"
   ]
  },
  {
   "cell_type": "code",
   "execution_count": 43,
   "id": "6810392e",
   "metadata": {},
   "outputs": [
    {
     "data": {
      "text/plain": [
       "(669940, 13)"
      ]
     },
     "execution_count": 43,
     "metadata": {},
     "output_type": "execute_result"
    }
   ],
   "source": [
    "temp.shape"
   ]
  },
  {
   "cell_type": "code",
   "execution_count": 44,
   "id": "06b5ece9",
   "metadata": {},
   "outputs": [
    {
     "data": {
      "text/plain": [
       "(301915, 13)"
      ]
     },
     "execution_count": 44,
     "metadata": {},
     "output_type": "execute_result"
    }
   ],
   "source": [
    "temp2.shape"
   ]
  },
  {
   "cell_type": "code",
   "execution_count": 45,
   "id": "e4dfce3a",
   "metadata": {},
   "outputs": [],
   "source": [
    "list1 = temp.columns\n"
   ]
  },
  {
   "cell_type": "code",
   "execution_count": 46,
   "id": "6e8437a9",
   "metadata": {},
   "outputs": [],
   "source": [
    "list2 = temp2.columns"
   ]
  },
  {
   "cell_type": "code",
   "execution_count": 47,
   "id": "7bd2b86a",
   "metadata": {},
   "outputs": [
    {
     "data": {
      "text/plain": [
       "array([ True,  True,  True,  True,  True,  True,  True,  True,  True,\n",
       "        True,  True,  True,  True])"
      ]
     },
     "execution_count": 47,
     "metadata": {},
     "output_type": "execute_result"
    }
   ],
   "source": [
    "list1 == list2 "
   ]
  },
  {
   "cell_type": "code",
   "execution_count": 48,
   "id": "49a2a488",
   "metadata": {},
   "outputs": [],
   "source": [
    "list3 = df1.columns"
   ]
  },
  {
   "cell_type": "code",
   "execution_count": 49,
   "id": "1bd960b4",
   "metadata": {},
   "outputs": [
    {
     "data": {
      "text/plain": [
       "array([ True,  True,  True,  True,  True,  True,  True,  True,  True,\n",
       "        True,  True,  True,  True])"
      ]
     },
     "execution_count": 49,
     "metadata": {},
     "output_type": "execute_result"
    }
   ],
   "source": [
    "list1 == list3"
   ]
  },
  {
   "cell_type": "code",
   "execution_count": 50,
   "id": "8d9d4a04",
   "metadata": {},
   "outputs": [],
   "source": [
    "data = pd.concat([df1,temp,temp2],axis = 0)"
   ]
  },
  {
   "cell_type": "code",
   "execution_count": 51,
   "id": "35416690",
   "metadata": {},
   "outputs": [
    {
     "data": {
      "text/plain": [
       "(995737, 13)"
      ]
     },
     "execution_count": 51,
     "metadata": {},
     "output_type": "execute_result"
    }
   ],
   "source": [
    "data.shape"
   ]
  },
  {
   "cell_type": "markdown",
   "id": "57f2ba70",
   "metadata": {},
   "source": [
    "----------------------------------------------------------------------------------------------------------"
   ]
  },
  {
   "cell_type": "markdown",
   "id": "881ab29c",
   "metadata": {},
   "source": [
    "----------------------------------------------------------------------------------------------------------"
   ]
  },
  {
   "cell_type": "markdown",
   "id": "15df3a2c",
   "metadata": {},
   "source": [
    "----------------------------------------------------------------------------------------------------------"
   ]
  },
  {
   "cell_type": "code",
   "execution_count": 52,
   "id": "ea73abd3",
   "metadata": {},
   "outputs": [
    {
     "data": {
      "text/plain": [
       "Type                         0\n",
       "Date                         0\n",
       "IMPORTER/EXPORTER NAME       2\n",
       "Country                     10\n",
       "PRODUCT DESCRIPTION          1\n",
       "QTY                          0\n",
       "UNIT                         0\n",
       "UNIT PRICE (USD)             0\n",
       "Total_VALUE_USD              0\n",
       "INVOICE CURRENCY             0\n",
       "SUPPLIER/BUYER NAME       4414\n",
       "Molecule Name                0\n",
       "Product Name                 0\n",
       "dtype: int64"
      ]
     },
     "execution_count": 52,
     "metadata": {},
     "output_type": "execute_result"
    }
   ],
   "source": [
    "data.isnull().sum()"
   ]
  },
  {
   "cell_type": "code",
   "execution_count": 53,
   "id": "628c6630",
   "metadata": {},
   "outputs": [],
   "source": [
    "data2 = data.dropna()"
   ]
  },
  {
   "cell_type": "code",
   "execution_count": 54,
   "id": "b3ac8848",
   "metadata": {},
   "outputs": [
    {
     "data": {
      "text/plain": [
       "Type                      0\n",
       "Date                      0\n",
       "IMPORTER/EXPORTER NAME    0\n",
       "Country                   0\n",
       "PRODUCT DESCRIPTION       0\n",
       "QTY                       0\n",
       "UNIT                      0\n",
       "UNIT PRICE (USD)          0\n",
       "Total_VALUE_USD           0\n",
       "INVOICE CURRENCY          0\n",
       "SUPPLIER/BUYER NAME       0\n",
       "Molecule Name             0\n",
       "Product Name              0\n",
       "dtype: int64"
      ]
     },
     "execution_count": 54,
     "metadata": {},
     "output_type": "execute_result"
    }
   ],
   "source": [
    "data2.isnull().sum()"
   ]
  },
  {
   "cell_type": "code",
   "execution_count": 55,
   "id": "9d9d7a9a",
   "metadata": {},
   "outputs": [
    {
     "data": {
      "text/plain": [
       "(991310, 13)"
      ]
     },
     "execution_count": 55,
     "metadata": {},
     "output_type": "execute_result"
    }
   ],
   "source": [
    "data2.shape"
   ]
  },
  {
   "cell_type": "code",
   "execution_count": 56,
   "id": "53262571",
   "metadata": {},
   "outputs": [
    {
     "name": "stderr",
     "output_type": "stream",
     "text": [
      "C:\\Users\\S1130866\\AppData\\Local\\Temp/ipykernel_19364/2941699651.py:1: SettingWithCopyWarning: \n",
      "A value is trying to be set on a copy of a slice from a DataFrame.\n",
      "Try using .loc[row_indexer,col_indexer] = value instead\n",
      "\n",
      "See the caveats in the documentation: https://pandas.pydata.org/pandas-docs/stable/user_guide/indexing.html#returning-a-view-versus-a-copy\n",
      "  data2['Avg_Price'] = data2['Total_VALUE_USD']/data2['QTY']\n"
     ]
    }
   ],
   "source": [
    "data2['Avg_Price'] = data2['Total_VALUE_USD']/data2['QTY']"
   ]
  },
  {
   "cell_type": "code",
   "execution_count": 57,
   "id": "680eeaa0",
   "metadata": {},
   "outputs": [
    {
     "data": {
      "text/plain": [
       "(991310, 14)"
      ]
     },
     "execution_count": 57,
     "metadata": {},
     "output_type": "execute_result"
    }
   ],
   "source": [
    "data2.shape"
   ]
  },
  {
   "cell_type": "code",
   "execution_count": 58,
   "id": "467b5a51",
   "metadata": {},
   "outputs": [],
   "source": [
    "from matplotlib import pyplot as plt\n",
    "import seaborn as sns \n",
    "\n"
   ]
  },
  {
   "cell_type": "code",
   "execution_count": 64,
   "id": "9d9188f8",
   "metadata": {},
   "outputs": [],
   "source": [
    "data2.to_excel(r\"C:\\Users\\S1130866\\OneDrive - Syngenta\\Documents\\Shared\\Product_Automate\\Product_Automate\\Import_Export\\Compiled_File\\Main.xlsx\",sheet_name = 'Data')"
   ]
  },
  {
   "cell_type": "code",
   "execution_count": 65,
   "id": "7bd3a756",
   "metadata": {},
   "outputs": [
    {
     "name": "stdout",
     "output_type": "stream",
     "text": [
      "<class 'pandas.core.frame.DataFrame'>\n",
      "Int64Index: 991310 entries, 0 to 31408\n",
      "Data columns (total 14 columns):\n",
      " #   Column                  Non-Null Count   Dtype  \n",
      "---  ------                  --------------   -----  \n",
      " 0   Type                    991310 non-null  object \n",
      " 1   Date                    991310 non-null  object \n",
      " 2   IMPORTER/EXPORTER NAME  991310 non-null  object \n",
      " 3   Country                 991310 non-null  object \n",
      " 4   PRODUCT DESCRIPTION     991310 non-null  object \n",
      " 5   QTY                     991310 non-null  float64\n",
      " 6   UNIT                    991310 non-null  object \n",
      " 7   UNIT PRICE (USD)        991310 non-null  float64\n",
      " 8   Total_VALUE_USD         991310 non-null  float64\n",
      " 9   INVOICE CURRENCY        991310 non-null  object \n",
      " 10  SUPPLIER/BUYER NAME     991310 non-null  object \n",
      " 11  Molecule Name           991310 non-null  object \n",
      " 12  Product Name            991310 non-null  object \n",
      " 13  Avg_Price               991287 non-null  float64\n",
      "dtypes: float64(4), object(10)\n",
      "memory usage: 145.7+ MB\n"
     ]
    }
   ],
   "source": [
    "data2.info()"
   ]
  },
  {
   "cell_type": "code",
   "execution_count": 66,
   "id": "8047f99a",
   "metadata": {},
   "outputs": [],
   "source": [
    "data3 = data2.dropna()"
   ]
  },
  {
   "cell_type": "code",
   "execution_count": 67,
   "id": "918df88f",
   "metadata": {},
   "outputs": [
    {
     "name": "stderr",
     "output_type": "stream",
     "text": [
      "C:\\Users\\S1130866\\AppData\\Local\\Temp/ipykernel_19364/1075002018.py:1: SettingWithCopyWarning: \n",
      "A value is trying to be set on a copy of a slice from a DataFrame.\n",
      "Try using .loc[row_indexer,col_indexer] = value instead\n",
      "\n",
      "See the caveats in the documentation: https://pandas.pydata.org/pandas-docs/stable/user_guide/indexing.html#returning-a-view-versus-a-copy\n",
      "  data3['Date'] = pd.to_datetime(data3['Date'])\n"
     ]
    }
   ],
   "source": [
    "data3['Date'] = pd.to_datetime(data3['Date'])\n",
    "\n"
   ]
  },
  {
   "cell_type": "code",
   "execution_count": 68,
   "id": "51ec5bdc",
   "metadata": {},
   "outputs": [
    {
     "name": "stdout",
     "output_type": "stream",
     "text": [
      "<class 'pandas.core.frame.DataFrame'>\n",
      "Int64Index: 991287 entries, 0 to 31408\n",
      "Data columns (total 14 columns):\n",
      " #   Column                  Non-Null Count   Dtype         \n",
      "---  ------                  --------------   -----         \n",
      " 0   Type                    991287 non-null  object        \n",
      " 1   Date                    991287 non-null  datetime64[ns]\n",
      " 2   IMPORTER/EXPORTER NAME  991287 non-null  object        \n",
      " 3   Country                 991287 non-null  object        \n",
      " 4   PRODUCT DESCRIPTION     991287 non-null  object        \n",
      " 5   QTY                     991287 non-null  float64       \n",
      " 6   UNIT                    991287 non-null  object        \n",
      " 7   UNIT PRICE (USD)        991287 non-null  float64       \n",
      " 8   Total_VALUE_USD         991287 non-null  float64       \n",
      " 9   INVOICE CURRENCY        991287 non-null  object        \n",
      " 10  SUPPLIER/BUYER NAME     991287 non-null  object        \n",
      " 11  Molecule Name           991287 non-null  object        \n",
      " 12  Product Name            991287 non-null  object        \n",
      " 13  Avg_Price               991287 non-null  float64       \n",
      "dtypes: datetime64[ns](1), float64(4), object(9)\n",
      "memory usage: 113.4+ MB\n"
     ]
    }
   ],
   "source": [
    "data3.info()"
   ]
  },
  {
   "cell_type": "code",
   "execution_count": 69,
   "id": "16490d25",
   "metadata": {},
   "outputs": [
    {
     "data": {
      "text/plain": [
       "Type                      0\n",
       "Date                      0\n",
       "IMPORTER/EXPORTER NAME    0\n",
       "Country                   0\n",
       "PRODUCT DESCRIPTION       0\n",
       "QTY                       0\n",
       "UNIT                      0\n",
       "UNIT PRICE (USD)          0\n",
       "Total_VALUE_USD           0\n",
       "INVOICE CURRENCY          0\n",
       "SUPPLIER/BUYER NAME       0\n",
       "Molecule Name             0\n",
       "Product Name              0\n",
       "Avg_Price                 0\n",
       "dtype: int64"
      ]
     },
     "execution_count": 69,
     "metadata": {},
     "output_type": "execute_result"
    }
   ],
   "source": [
    "data3.isnull().sum()"
   ]
  },
  {
   "cell_type": "code",
   "execution_count": 71,
   "id": "fc69c8c2",
   "metadata": {},
   "outputs": [],
   "source": [
    "data3.to_excel(r\"C:\\Users\\S1130866\\OneDrive - Syngenta\\Documents\\Shared\\Product_Automate\\Product_Automate\\Import_Export\\Compiled_File\\Main.xlsx\",sheet_name = 'Data')"
   ]
  },
  {
   "cell_type": "code",
   "execution_count": 72,
   "id": "c569ca19",
   "metadata": {},
   "outputs": [],
   "source": [
    "data4 = data3[data3['Molecule Name'] != 'Others']"
   ]
  },
  {
   "cell_type": "code",
   "execution_count": 73,
   "id": "7c7c8658",
   "metadata": {},
   "outputs": [
    {
     "data": {
      "text/plain": [
       "(153707, 14)"
      ]
     },
     "execution_count": 73,
     "metadata": {},
     "output_type": "execute_result"
    }
   ],
   "source": [
    "data4.shape"
   ]
  },
  {
   "cell_type": "code",
   "execution_count": 74,
   "id": "1644cd1a",
   "metadata": {},
   "outputs": [
    {
     "data": {
      "text/plain": [
       "(991287, 14)"
      ]
     },
     "execution_count": 74,
     "metadata": {},
     "output_type": "execute_result"
    }
   ],
   "source": [
    "data3.shape"
   ]
  },
  {
   "cell_type": "code",
   "execution_count": 75,
   "id": "8545d0f3",
   "metadata": {},
   "outputs": [],
   "source": [
    "data4.to_excel(r\"C:\\Users\\S1130866\\OneDrive - Syngenta\\Documents\\Shared\\Product_Automate\\Product_Automate\\Import_Export\\Compiled_File\\Main.xlsx\",sheet_name = 'Data')"
   ]
  },
  {
   "cell_type": "code",
   "execution_count": 77,
   "id": "c7155335",
   "metadata": {},
   "outputs": [
    {
     "data": {
      "text/plain": [
       "KGS      55183\n",
       "KGS      26313\n",
       "NOS      15509\n",
       "NOS      15180\n",
       "LTR      12789\n",
       "LT/KG     6219\n",
       "MTS       5368\n",
       "PCS       5224\n",
       "MTS       3501\n",
       "PCS       3333\n",
       "LTR       1334\n",
       "SET       1184\n",
       "GMS        837\n",
       "SET        651\n",
       "UNT        424\n",
       "UNT        188\n",
       "MGS        121\n",
       "GMS        115\n",
       "MGS         63\n",
       "VLS         54\n",
       "VLS         37\n",
       "KGA         16\n",
       "CTM         12\n",
       "PAC          8\n",
       "LBS          7\n",
       "MTR          5\n",
       "MLT          4\n",
       "DOZ          4\n",
       "THD          3\n",
       "KLR          3\n",
       "DRM          2\n",
       "CAN          2\n",
       "LBS          2\n",
       "MTR          2\n",
       "BTL          2\n",
       "SQM          1\n",
       "CBM          1\n",
       "KIT          1\n",
       "GRS          1\n",
       "TUB          1\n",
       "RLS          1\n",
       "PRS          1\n",
       "BAG          1\n",
       "Name: UNIT, dtype: int64"
      ]
     },
     "execution_count": 77,
     "metadata": {},
     "output_type": "execute_result"
    }
   ],
   "source": [
    "data4['UNIT'].value_counts()"
   ]
  },
  {
   "cell_type": "code",
   "execution_count": 79,
   "id": "d98a1356",
   "metadata": {},
   "outputs": [
    {
     "data": {
      "text/plain": [
       "Index(['Type', 'Date', 'IMPORTER/EXPORTER NAME', 'Country',\n",
       "       'PRODUCT DESCRIPTION', 'QTY', 'UNIT', 'UNIT PRICE (USD)',\n",
       "       'Total_VALUE_USD', 'INVOICE CURRENCY', 'SUPPLIER/BUYER NAME',\n",
       "       'Molecule Name', 'Product Name', 'Avg_Price'],\n",
       "      dtype='object')"
      ]
     },
     "execution_count": 79,
     "metadata": {},
     "output_type": "execute_result"
    }
   ],
   "source": [
    "data4.columns"
   ]
  },
  {
   "cell_type": "code",
   "execution_count": 81,
   "id": "6f3f010b",
   "metadata": {},
   "outputs": [
    {
     "data": {
      "text/plain": [
       "4281"
      ]
     },
     "execution_count": 81,
     "metadata": {},
     "output_type": "execute_result"
    }
   ],
   "source": [
    "data4['IMPORTER/EXPORTER NAME'].nunique()"
   ]
  },
  {
   "cell_type": "code",
   "execution_count": null,
   "id": "367752a5",
   "metadata": {},
   "outputs": [],
   "source": []
  }
 ],
 "metadata": {
  "kernelspec": {
   "display_name": "Python 3 (ipykernel)",
   "language": "python",
   "name": "python3"
  },
  "language_info": {
   "codemirror_mode": {
    "name": "ipython",
    "version": 3
   },
   "file_extension": ".py",
   "mimetype": "text/x-python",
   "name": "python",
   "nbconvert_exporter": "python",
   "pygments_lexer": "ipython3",
   "version": "3.9.7"
  }
 },
 "nbformat": 4,
 "nbformat_minor": 5
}
