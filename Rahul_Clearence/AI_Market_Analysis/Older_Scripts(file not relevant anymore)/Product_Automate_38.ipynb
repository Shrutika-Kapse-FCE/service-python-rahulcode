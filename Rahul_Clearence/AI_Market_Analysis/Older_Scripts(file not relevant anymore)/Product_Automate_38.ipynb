{
 "cells": [
  {
   "cell_type": "code",
   "execution_count": null,
   "id": "1a1523b2",
   "metadata": {},
   "outputs": [],
   "source": [
    "import numpy as np \n",
    "import pandas as pd\n",
    "import re \n",
    "import os"
   ]
  },
  {
   "cell_type": "markdown",
   "id": "44a42d50",
   "metadata": {},
   "source": [
    "#### \n",
    "\n",
    "This sheet is for the consolidated data for the month of Aug - Oct for the files that start with the initials of 38.\n",
    "The script was run for the files that started with the file 31 and this was left.\n",
    "\n"
   ]
  },
  {
   "cell_type": "code",
   "execution_count": 2,
   "id": "99e7e109",
   "metadata": {},
   "outputs": [],
   "source": [
    "df = pd.read_csv(r\"C:\\Users\\S1130866\\Desktop\\Product_Automate\\product.csv\")\n",
    "products = [i for i in set(df.Products.str.lower().tolist()) if not isinstance(i, (int, float)) and i != '0']\n"
   ]
  },
  {
   "cell_type": "code",
   "execution_count": 3,
   "id": "3ffe55a1",
   "metadata": {},
   "outputs": [],
   "source": [
    "## LOading the import files "
   ]
  },
  {
   "cell_type": "code",
   "execution_count": 4,
   "id": "f1a2e2d1",
   "metadata": {},
   "outputs": [],
   "source": [
    "df1 = pd.read_excel(r\"C:\\Users\\S1130866\\OneDrive - Syngenta\\Documents\\Shared\\Product_Automate\\Product_Automate\\Import_Export\\File to be worked on\\38\\Import\\38_Imp_TY2_Aug-22.xlsx\")\n",
    "df2 = pd.read_excel(r\"C:\\Users\\S1130866\\OneDrive - Syngenta\\Documents\\Shared\\Product_Automate\\Product_Automate\\Import_Export\\File to be worked on\\38\\Import\\38_Imp_TY2_Sep-22.xlsx\")\n",
    "df3 = pd.read_excel(r\"C:\\Users\\S1130866\\OneDrive - Syngenta\\Documents\\Shared\\Product_Automate\\Product_Automate\\Import_Export\\File to be worked on\\38\\Import\\38_Imp_TY2_Oct-22.xlsx\")\n"
   ]
  },
  {
   "cell_type": "code",
   "execution_count": 5,
   "id": "8573fe4e",
   "metadata": {},
   "outputs": [
    {
     "name": "stdout",
     "output_type": "stream",
     "text": [
      "(56233, 25)\n",
      "(56301, 25)\n",
      "(51918, 25)\n"
     ]
    }
   ],
   "source": [
    "print(df1.shape)\n",
    "print(df2.shape)\n",
    "print(df3.shape)"
   ]
  },
  {
   "cell_type": "code",
   "execution_count": null,
   "id": "942040cf",
   "metadata": {},
   "outputs": [],
   "source": []
  },
  {
   "cell_type": "code",
   "execution_count": 6,
   "id": "7b64bd05",
   "metadata": {},
   "outputs": [],
   "source": [
    "# Loading the export files "
   ]
  },
  {
   "cell_type": "code",
   "execution_count": 7,
   "id": "e5e49671",
   "metadata": {},
   "outputs": [],
   "source": [
    "df4 = pd.read_excel(r\"C:\\Users\\S1130866\\OneDrive - Syngenta\\Documents\\Shared\\Product_Automate\\Product_Automate\\Import_Export\\File to be worked on\\38\\Export\\38_Exp_TY2_Aug-22.xlsx\")\n",
    "df5 = pd.read_excel(r\"C:\\Users\\S1130866\\OneDrive - Syngenta\\Documents\\Shared\\Product_Automate\\Product_Automate\\Import_Export\\File to be worked on\\38\\Export\\38_Exp_TY2_Sep-22.xlsx\")\n",
    "df6 = pd.read_excel(r\"C:\\Users\\S1130866\\OneDrive - Syngenta\\Documents\\Shared\\Product_Automate\\Product_Automate\\Import_Export\\File to be worked on\\38\\Export\\38_Exp_TY2_Oct-22.xlsx\")\n"
   ]
  },
  {
   "cell_type": "code",
   "execution_count": 8,
   "id": "795b1c13",
   "metadata": {},
   "outputs": [
    {
     "name": "stdout",
     "output_type": "stream",
     "text": [
      "(26131, 22)\n",
      "(27751, 22)\n",
      "(23914, 22)\n"
     ]
    }
   ],
   "source": [
    "print(df4.shape)\n",
    "print(df5.shape)\n",
    "print(df6.shape)"
   ]
  },
  {
   "cell_type": "code",
   "execution_count": 9,
   "id": "b0a5c1be",
   "metadata": {},
   "outputs": [],
   "source": [
    "## Merging the datasets and copiling them into a single one ........"
   ]
  },
  {
   "cell_type": "code",
   "execution_count": 10,
   "id": "ab91a049",
   "metadata": {},
   "outputs": [],
   "source": [
    "## Import \n",
    "\n",
    "\n",
    "df_imp = pd.concat([df1,df2,df3],ignore_index=True)\n",
    "df_exp = pd.concat([df4,df5,df6],ignore_index=True)"
   ]
  },
  {
   "cell_type": "code",
   "execution_count": 11,
   "id": "cb37f926",
   "metadata": {},
   "outputs": [
    {
     "data": {
      "text/plain": [
       "(164452, 25)"
      ]
     },
     "execution_count": 11,
     "metadata": {},
     "output_type": "execute_result"
    }
   ],
   "source": [
    "df_imp.shape"
   ]
  },
  {
   "cell_type": "code",
   "execution_count": 12,
   "id": "ff585fc9",
   "metadata": {},
   "outputs": [
    {
     "data": {
      "text/plain": [
       "(77796, 22)"
      ]
     },
     "execution_count": 12,
     "metadata": {},
     "output_type": "execute_result"
    }
   ],
   "source": [
    "df_exp.shape"
   ]
  },
  {
   "cell_type": "markdown",
   "id": "61fa9d83",
   "metadata": {},
   "source": [
    "----------------------- RUNNING THE SCRIPTS ON THESE DATASETS -----------------"
   ]
  },
  {
   "cell_type": "code",
   "execution_count": 13,
   "id": "97bf394a",
   "metadata": {},
   "outputs": [],
   "source": [
    "map_24d = { v: '2 4 d' for v in ['2 4-d', '24 d', '2,4-d', '2 4 d', '2 4- d', '2 4 -d', '2 4d',\n",
    "       '2, 4 d', '2, 4-d', '2,4 - d', '2,4 d', '2,4- d', '2,4d', '2-4-d',\n",
    "       '24d', '2-4 d', '24- d', '2-4- d', '2-4d', '24-d', '2, 4- d',\n",
    "       '2, 4d', '2- 4-d']}\n",
    "\n",
    "\n",
    "def find_prod(x):\n",
    "   \n",
    "    # a = ('azoxystrobin')\n",
    "    if re.search('R&D|RESEARCH|FREE SAMPLE',x) :\n",
    "        return \"\"\n",
    "    temp_products = list(set([i for i in products if i in re.split(' |\\(|\\)|\\+|\\\\|/|\\*|-|\\s|\\d',x.lower())]))\n",
    "    if re.search('[2][-,\\s]*[4][-\\s]*[d]',x) :\n",
    "        temp_products += [map_24d[re.search('[2][-,\\s]*[4][-\\s]*[d]',x)[0]]]\n",
    "    #if re.search('AZOXY.{,50}|azoxy.{,50}',x):\n",
    "    #   temp_products += a\n",
    "    if re.search('POTASH|potash|NPS|nps|PHOSPHATE|phosphate|SULFATE|sulfate|SULPHATE|sulphate',x):\n",
    "        if len(temp_products)<1:\n",
    "            temp_products += 'fertilizer'\n",
    "    if len(temp_products)>1 :\n",
    "        temp_products = [i for i in temp_products if i!='pesticide']\n",
    "        temp_products = [i for i in temp_products if i!='pesticides']\n",
    "    return temp_products\n",
    "\n",
    "  "
   ]
  },
  {
   "cell_type": "code",
   "execution_count": 14,
   "id": "cc7be518",
   "metadata": {},
   "outputs": [],
   "source": [
    "temp = df_imp['Goods Description'].apply(lambda x: find_prod(x))\n",
    "# temp = temp.apply(lambda x:pesticide_check(x))\n",
    "\n",
    "temp_processed = temp.apply(lambda x: \", \".join(x) if len(x)>=1 else \"\")"
   ]
  },
  {
   "cell_type": "code",
   "execution_count": 15,
   "id": "c51cd5ee",
   "metadata": {},
   "outputs": [],
   "source": [
    "temp_processed.replace('a, z, o, x, y, s, t, r, o, b, i, n','azoxystrobin',inplace = True)\n",
    "temp_processed.replace('f, e, r, t, i, l, i, z, e, r','fertilizer',inplace = True)\n",
    "temp_processed.replace('','Others',inplace = True)"
   ]
  },
  {
   "cell_type": "code",
   "execution_count": 16,
   "id": "9141b2a1",
   "metadata": {},
   "outputs": [],
   "source": [
    "df_imp['Product'] = temp_processed"
   ]
  },
  {
   "cell_type": "code",
   "execution_count": 17,
   "id": "0c3c7f3c",
   "metadata": {},
   "outputs": [
    {
     "data": {
      "text/plain": [
       "Others             147582\n",
       "oil                  2425\n",
       "calcium              1693\n",
       "control              1349\n",
       "total                1166\n",
       "                    ...  \n",
       "fluxametamide           1\n",
       "ready, master           1\n",
       "ready, calcium          1\n",
       "control, sodium         1\n",
       "methoprene              1\n",
       "Name: Product, Length: 456, dtype: int64"
      ]
     },
     "execution_count": 17,
     "metadata": {},
     "output_type": "execute_result"
    }
   ],
   "source": [
    "df_imp['Product'].value_counts()"
   ]
  },
  {
   "cell_type": "code",
   "execution_count": 18,
   "id": "c210e2e8",
   "metadata": {},
   "outputs": [],
   "source": [
    "def suf(x):\n",
    "    temp_suffix = [] \n",
    "    if re.search('tech.{,50}|TECH.{,50}',x):\n",
    "        temp_suffix = \"TECH\"\n",
    "    elif re.search('IPA SALT',x):\n",
    "        temp_suffix = \"IPA SALT\"\n",
    "    elif re.search('62% IPA SALT',x):\n",
    "        temp_suffix = \"62% IPA SALT\"\n",
    "    elif re.search('41% SL',x):\n",
    "        temp_suffix = '41% SL'\n",
    "    elif re.search('ALION PLUS.{50}',x):\n",
    "        temp_suffix = \"ALION PLUS\"\n",
    "    else :\n",
    "        temp_suffix = \"Others\"\n",
    "    return temp_suffix"
   ]
  },
  {
   "cell_type": "code",
   "execution_count": 19,
   "id": "57b34fc3",
   "metadata": {},
   "outputs": [],
   "source": [
    "df_imp['suffix'] =  df_imp['Goods Description'].apply(lambda x: suf(x))"
   ]
  },
  {
   "cell_type": "code",
   "execution_count": 20,
   "id": "30761008",
   "metadata": {},
   "outputs": [],
   "source": [
    "#Writing the concerned file\n",
    "df_imp.to_csv('38_Imp_TY2_compiled-22.csv')"
   ]
  },
  {
   "cell_type": "markdown",
   "id": "73a2c94a",
   "metadata": {},
   "source": [
    "------ For the export data ----------"
   ]
  },
  {
   "cell_type": "code",
   "execution_count": 21,
   "id": "486eaa3b",
   "metadata": {},
   "outputs": [],
   "source": [
    "temp = df_exp['Goods Description'].apply(lambda x: find_prod(x))\n",
    "# temp = temp.apply(lambda x:pesticide_check(x))\n",
    "\n",
    "temp_processed = temp.apply(lambda x: \", \".join(x) if len(x)>=1 else \"\")\n",
    "\n",
    "#temp_processed.replace('a, z, o, x, y, s, t, r, o, b, i, n','azoxystrobin',inplace = True)\n",
    "temp_processed.replace('f, e, r, t, i, l, i, z, e, r','fertilizer',inplace = True)\n",
    "temp_processed.replace('','Others',inplace = True)\n",
    "df_exp['Product'] = temp_processed\n",
    "df_exp['suffix'] =  df_exp['Goods Description'].apply(lambda x: suf(x))\n",
    "\n",
    "#Writing the concerned file\n",
    "df_exp.to_csv('38_Exp_TY2_compiled-22.csv')"
   ]
  },
  {
   "cell_type": "code",
   "execution_count": 22,
   "id": "14f8835d",
   "metadata": {},
   "outputs": [
    {
     "data": {
      "text/plain": [
       "'C:\\\\Users\\\\S1130866\\\\Desktop\\\\Product_Automate'"
      ]
     },
     "execution_count": 22,
     "metadata": {},
     "output_type": "execute_result"
    }
   ],
   "source": [
    "pwd\n"
   ]
  },
  {
   "cell_type": "code",
   "execution_count": null,
   "id": "948e602c",
   "metadata": {},
   "outputs": [],
   "source": []
  }
 ],
 "metadata": {
  "kernelspec": {
   "display_name": "Python 3 (ipykernel)",
   "language": "python",
   "name": "python3"
  },
  "language_info": {
   "codemirror_mode": {
    "name": "ipython",
    "version": 3
   },
   "file_extension": ".py",
   "mimetype": "text/x-python",
   "name": "python",
   "nbconvert_exporter": "python",
   "pygments_lexer": "ipython3",
   "version": "3.9.7"
  }
 },
 "nbformat": 4,
 "nbformat_minor": 5
}
