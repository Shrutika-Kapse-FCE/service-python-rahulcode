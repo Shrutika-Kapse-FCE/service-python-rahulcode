{
 "cells": [
  {
   "cell_type": "code",
   "execution_count": 26,
   "id": "9c569f10",
   "metadata": {},
   "outputs": [],
   "source": [
    "import numpy as np \n",
    "import pandas as pd\n",
    "import re \n",
    "import os"
   ]
  },
  {
   "cell_type": "code",
   "execution_count": 27,
   "id": "b3d74505",
   "metadata": {},
   "outputs": [],
   "source": [
    "df = pd.read_csv(r\"C:\\Users\\S1130866\\Desktop\\Product_Automate\\product.csv\")\n",
    "products = [i for i in set(df.Products.str.lower().tolist()) if not isinstance(i, (int, float)) and i != '0']"
   ]
  },
  {
   "cell_type": "code",
   "execution_count": 28,
   "id": "aac8c3dd",
   "metadata": {},
   "outputs": [
    {
     "name": "stdout",
     "output_type": "stream",
     "text": [
      "Enter a file path: C:\\Users\\S1130866\\OneDrive - Syngenta\\Documents\\Shared\\Product_Automate\\Product_Automate\\Import_Export\\File to be worked on\\September 2022\\Import\\38_Imp_TY2_Sep-22.xlsx\n",
      "C:\\Users\\S1130866\\OneDrive - Syngenta\\Documents\\Shared\\Product_Automate\\Product_Automate\\Import_Export\\File to be worked on\\September 2022\\Import\\38_Imp_TY2_Sep-22.xlsx\n",
      "The file exists\n"
     ]
    }
   ],
   "source": [
    "# Taking the file path input from the user \n",
    "\n",
    "file_path = input('Enter a file path: ')\n",
    "\n",
    "# e.g. C:\\Users\\Bob\\Desktop\\example.txt\n",
    "# or /home/Bob/Desktop/example.txt\n",
    "print(file_path)\n",
    "\n",
    "if os.path.exists(file_path):\n",
    "    print('The file exists')\n",
    "\n",
    "    with open(file_path, 'r', encoding=\"latin-1\") as f:\n",
    "        lines = f.readlines()\n",
    "\n",
    "else:\n",
    "    print('The specified file does NOT exist')\n",
    "    "
   ]
  },
  {
   "cell_type": "code",
   "execution_count": null,
   "id": "e0a6df0c",
   "metadata": {},
   "outputs": [],
   "source": []
  },
  {
   "cell_type": "code",
   "execution_count": 29,
   "id": "79c5c52b",
   "metadata": {},
   "outputs": [],
   "source": [
    "df2 = pd.read_excel(file_path)"
   ]
  },
  {
   "cell_type": "code",
   "execution_count": 30,
   "id": "f7732f59",
   "metadata": {},
   "outputs": [
    {
     "data": {
      "text/html": [
       "<div>\n",
       "<style scoped>\n",
       "    .dataframe tbody tr th:only-of-type {\n",
       "        vertical-align: middle;\n",
       "    }\n",
       "\n",
       "    .dataframe tbody tr th {\n",
       "        vertical-align: top;\n",
       "    }\n",
       "\n",
       "    .dataframe thead th {\n",
       "        text-align: right;\n",
       "    }\n",
       "</style>\n",
       "<table border=\"1\" class=\"dataframe\">\n",
       "  <thead>\n",
       "    <tr style=\"text-align: right;\">\n",
       "      <th></th>\n",
       "      <th>Port Code</th>\n",
       "      <th>Indian Port</th>\n",
       "      <th>Declaration No</th>\n",
       "      <th>Date</th>\n",
       "      <th>Importer Name</th>\n",
       "      <th>Address</th>\n",
       "      <th>City</th>\n",
       "      <th>CHA No</th>\n",
       "      <th>CHA Name</th>\n",
       "      <th>Country Origin</th>\n",
       "      <th>...</th>\n",
       "      <th>Total Value Usd</th>\n",
       "      <th>Total_Duty_Usd</th>\n",
       "      <th>Loading Port</th>\n",
       "      <th>Inv Currency</th>\n",
       "      <th>Supplier Name</th>\n",
       "      <th>Supplier Address</th>\n",
       "      <th>BE Type</th>\n",
       "      <th>IEC Phone</th>\n",
       "      <th>IEC Email</th>\n",
       "      <th>IEC Contact</th>\n",
       "    </tr>\n",
       "  </thead>\n",
       "  <tbody>\n",
       "    <tr>\n",
       "      <th>0</th>\n",
       "      <td>INSBC6</td>\n",
       "      <td>BIOCON SPECIAL ECONOMIC ZONE (SEZ)</td>\n",
       "      <td>2209AXXFBXH</td>\n",
       "      <td>2022-09-01</td>\n",
       "      <td>SYNGENE INTERNATIONAL LIMITED UNIT IV</td>\n",
       "      <td>NaN</td>\n",
       "      <td>NaN</td>\n",
       "      <td>NaN</td>\n",
       "      <td>NaN</td>\n",
       "      <td>SINGAPORE</td>\n",
       "      <td>...</td>\n",
       "      <td>1609.192547</td>\n",
       "      <td>0.0</td>\n",
       "      <td>NaN</td>\n",
       "      <td>USD</td>\n",
       "      <td>PERKIN ELMER SINGAPORE PRIVATE LIMITED</td>\n",
       "      <td>NaN</td>\n",
       "      <td>NULL</td>\n",
       "      <td>NaN</td>\n",
       "      <td>NaN</td>\n",
       "      <td>NaN</td>\n",
       "    </tr>\n",
       "    <tr>\n",
       "      <th>1</th>\n",
       "      <td>NOTFND</td>\n",
       "      <td>ZZZ- UNKNOWN (SEZ)</td>\n",
       "      <td>2209AXXFBXI</td>\n",
       "      <td>2022-09-01</td>\n",
       "      <td>SE FORGE LIMITED</td>\n",
       "      <td>SUZLON 5 SHRIMALI SOCIETY NEAR SHRI KRISHNA CO...</td>\n",
       "      <td>AHMEDABAD, GUJARAT</td>\n",
       "      <td>NaN</td>\n",
       "      <td>NaN</td>\n",
       "      <td>CHINA</td>\n",
       "      <td>...</td>\n",
       "      <td>78609.689441</td>\n",
       "      <td>0.0</td>\n",
       "      <td>NaN</td>\n",
       "      <td>USD</td>\n",
       "      <td>JINAN SHENGQUAN GROUP SHARE HOLDING CO LIMITED</td>\n",
       "      <td>DIAOZHEN INDUSTRIAL DEVELOPMENT ZONZHANGQUI, S...</td>\n",
       "      <td>NULL</td>\n",
       "      <td>'919922277022</td>\n",
       "      <td>rvilas@suzlon.com</td>\n",
       "      <td>PRATIMA RAM</td>\n",
       "    </tr>\n",
       "    <tr>\n",
       "      <th>2</th>\n",
       "      <td>INCJJ6</td>\n",
       "      <td>J. MATADEE CHENNAI FREE TRADE ZONE (SEZ)</td>\n",
       "      <td>2209AXXFBAX</td>\n",
       "      <td>2022-09-01</td>\n",
       "      <td>DHL LOGISTICS PRIVATE LIMITED</td>\n",
       "      <td>201 A SILVER UTOPIA CARDINAL, GRACIAS ROAD CHA...</td>\n",
       "      <td>MUMBAI, MAHARASHTRA</td>\n",
       "      <td>NaN</td>\n",
       "      <td>NaN</td>\n",
       "      <td>UNITED STATES</td>\n",
       "      <td>...</td>\n",
       "      <td>3029.530932</td>\n",
       "      <td>0.0</td>\n",
       "      <td>NaN</td>\n",
       "      <td>USD</td>\n",
       "      <td>BECKMAN COULTER INC</td>\n",
       "      <td>250 SOUTH KRAEMER BLVDBREA 92821 UNITED STATES</td>\n",
       "      <td>NULL</td>\n",
       "      <td>'919833400325</td>\n",
       "      <td>sheeja.nair@dhl.com</td>\n",
       "      <td>MR. GEORGE RALTON LAWSON</td>\n",
       "    </tr>\n",
       "    <tr>\n",
       "      <th>3</th>\n",
       "      <td>INAJM6</td>\n",
       "      <td>MUNDRA PORT &amp; SEZ LTD (SEZ)</td>\n",
       "      <td>2209AXXFBAA</td>\n",
       "      <td>2022-09-01</td>\n",
       "      <td>KERRY INDEV LOGISTICS PRIVATE LIMITED</td>\n",
       "      <td>NEW NO.81, OLD NO.41, THAMBU CHETTYSTREET</td>\n",
       "      <td>CHENNAI, TAMIL NADU</td>\n",
       "      <td>NaN</td>\n",
       "      <td>NaN</td>\n",
       "      <td>CHINA</td>\n",
       "      <td>...</td>\n",
       "      <td>118936.645963</td>\n",
       "      <td>0.0</td>\n",
       "      <td>NaN</td>\n",
       "      <td>USD</td>\n",
       "      <td>YUNNAN TIN CO LIMITED</td>\n",
       "      <td>NaN</td>\n",
       "      <td>NULL</td>\n",
       "      <td>'918754407049</td>\n",
       "      <td>madhan@indevlogistics.com</td>\n",
       "      <td>SIVASANKARAN JAYARAMAN,JAYARAMAN MAHALINGAM</td>\n",
       "    </tr>\n",
       "    <tr>\n",
       "      <th>4</th>\n",
       "      <td>INZIP6</td>\n",
       "      <td>ZYDUS INFRASTRUCTURE PVT. LTD. (SEZ)</td>\n",
       "      <td>2209AXXFBAB</td>\n",
       "      <td>2022-09-01</td>\n",
       "      <td>INTAS PHARMACEUTICALS LIMITED</td>\n",
       "      <td>CORPORATE HOUSE, NR. SOLA BRIDGE, S.G. HIGHWAY...</td>\n",
       "      <td>HMEDABAD, GUJARAT</td>\n",
       "      <td>NaN</td>\n",
       "      <td>NaN</td>\n",
       "      <td>UNITED STATES</td>\n",
       "      <td>...</td>\n",
       "      <td>44828.750807</td>\n",
       "      <td>0.0</td>\n",
       "      <td>NaN</td>\n",
       "      <td>USD</td>\n",
       "      <td>MULTISORB TECHNOLOGIES INC</td>\n",
       "      <td>325 HARLEM ROADBUFFALO NY 14224USA</td>\n",
       "      <td>NULL</td>\n",
       "      <td>'919824018046</td>\n",
       "      <td>international_logistics@intaspharma.com</td>\n",
       "      <td>MR. NIMISHBHAI CHUDGAR,SHRI. HASMUKHBHAI CHUDGAR</td>\n",
       "    </tr>\n",
       "  </tbody>\n",
       "</table>\n",
       "<p>5 rows × 25 columns</p>\n",
       "</div>"
      ],
      "text/plain": [
       "  Port Code                               Indian Port Declaration No  \\\n",
       "0    INSBC6        BIOCON SPECIAL ECONOMIC ZONE (SEZ)    2209AXXFBXH   \n",
       "1    NOTFND                        ZZZ- UNKNOWN (SEZ)    2209AXXFBXI   \n",
       "2    INCJJ6  J. MATADEE CHENNAI FREE TRADE ZONE (SEZ)    2209AXXFBAX   \n",
       "3    INAJM6               MUNDRA PORT & SEZ LTD (SEZ)    2209AXXFBAA   \n",
       "4    INZIP6      ZYDUS INFRASTRUCTURE PVT. LTD. (SEZ)    2209AXXFBAB   \n",
       "\n",
       "        Date                          Importer Name  \\\n",
       "0 2022-09-01  SYNGENE INTERNATIONAL LIMITED UNIT IV   \n",
       "1 2022-09-01                       SE FORGE LIMITED   \n",
       "2 2022-09-01          DHL LOGISTICS PRIVATE LIMITED   \n",
       "3 2022-09-01  KERRY INDEV LOGISTICS PRIVATE LIMITED   \n",
       "4 2022-09-01          INTAS PHARMACEUTICALS LIMITED   \n",
       "\n",
       "                                             Address                 City  \\\n",
       "0                                                NaN                  NaN   \n",
       "1  SUZLON 5 SHRIMALI SOCIETY NEAR SHRI KRISHNA CO...   AHMEDABAD, GUJARAT   \n",
       "2  201 A SILVER UTOPIA CARDINAL, GRACIAS ROAD CHA...  MUMBAI, MAHARASHTRA   \n",
       "3          NEW NO.81, OLD NO.41, THAMBU CHETTYSTREET  CHENNAI, TAMIL NADU   \n",
       "4  CORPORATE HOUSE, NR. SOLA BRIDGE, S.G. HIGHWAY...    HMEDABAD, GUJARAT   \n",
       "\n",
       "   CHA No  CHA Name Country Origin  ...  Total Value Usd Total_Duty_Usd  \\\n",
       "0     NaN       NaN      SINGAPORE  ...      1609.192547            0.0   \n",
       "1     NaN       NaN          CHINA  ...     78609.689441            0.0   \n",
       "2     NaN       NaN  UNITED STATES  ...      3029.530932            0.0   \n",
       "3     NaN       NaN          CHINA  ...    118936.645963            0.0   \n",
       "4     NaN       NaN  UNITED STATES  ...     44828.750807            0.0   \n",
       "\n",
       "   Loading Port Inv Currency                                   Supplier Name  \\\n",
       "0           NaN          USD          PERKIN ELMER SINGAPORE PRIVATE LIMITED   \n",
       "1           NaN          USD  JINAN SHENGQUAN GROUP SHARE HOLDING CO LIMITED   \n",
       "2           NaN          USD                             BECKMAN COULTER INC   \n",
       "3           NaN          USD                           YUNNAN TIN CO LIMITED   \n",
       "4           NaN          USD                      MULTISORB TECHNOLOGIES INC   \n",
       "\n",
       "                                    Supplier Address     BE Type  \\\n",
       "0                                                NaN  NULL         \n",
       "1  DIAOZHEN INDUSTRIAL DEVELOPMENT ZONZHANGQUI, S...  NULL         \n",
       "2     250 SOUTH KRAEMER BLVDBREA 92821 UNITED STATES  NULL         \n",
       "3                                                NaN  NULL         \n",
       "4                 325 HARLEM ROADBUFFALO NY 14224USA  NULL         \n",
       "\n",
       "       IEC Phone                                IEC Email  \\\n",
       "0            NaN                                      NaN   \n",
       "1  '919922277022                        rvilas@suzlon.com   \n",
       "2  '919833400325                      sheeja.nair@dhl.com   \n",
       "3  '918754407049                madhan@indevlogistics.com   \n",
       "4  '919824018046  international_logistics@intaspharma.com   \n",
       "\n",
       "                                        IEC Contact  \n",
       "0                                               NaN  \n",
       "1                                       PRATIMA RAM  \n",
       "2                          MR. GEORGE RALTON LAWSON  \n",
       "3       SIVASANKARAN JAYARAMAN,JAYARAMAN MAHALINGAM  \n",
       "4  MR. NIMISHBHAI CHUDGAR,SHRI. HASMUKHBHAI CHUDGAR  \n",
       "\n",
       "[5 rows x 25 columns]"
      ]
     },
     "execution_count": 30,
     "metadata": {},
     "output_type": "execute_result"
    }
   ],
   "source": [
    "df2.head()"
   ]
  },
  {
   "cell_type": "code",
   "execution_count": null,
   "id": "a9fdbcf9",
   "metadata": {},
   "outputs": [],
   "source": []
  },
  {
   "cell_type": "markdown",
   "id": "e839743d",
   "metadata": {},
   "source": [
    "### Looping through the Product Description column and searching for elements in the Product column and the \"2 4 d \" AI."
   ]
  },
  {
   "cell_type": "code",
   "execution_count": 31,
   "id": "87a59223",
   "metadata": {},
   "outputs": [],
   "source": [
    "map_24d = { v: '2 4 d' for v in ['2 4-d', '24 d', '2,4-d', '2 4 d', '2 4- d', '2 4 -d', '2 4d',\n",
    "       '2, 4 d', '2, 4-d', '2,4 - d', '2,4 d', '2,4- d', '2,4d', '2-4-d',\n",
    "       '24d', '2-4 d', '24- d', '2-4- d', '2-4d', '24-d', '2, 4- d',\n",
    "       '2, 4d', '2- 4-d']}\n",
    "\n",
    "\n",
    "def find_prod(x):\n",
    "   \n",
    "    #a = ('azoxystrobin')\n",
    "    if re.search('R&D|RESEARCH|FREE SAMPLE|TESTING|SAMPLE|research|r&d|free|sample',x) :\n",
    "        return \"\"\n",
    "    temp_products = list(set([i for i in products if i in re.split(' |\\(|\\)|\\+|\\\\|/|\\*|-|\\s|\\d',x.lower())]))\n",
    "    if re.search('[2][-,\\s]*[4][-\\s]*[d]',x) :\n",
    "        temp_products += [map_24d[re.search('[2][-,\\s]*[4][-\\s]*[d]',x)[0]]]\n",
    "    #if re.search('AZOXY.{,50}|azoxy.{,50}',x):\n",
    "        #temp_products += a\n",
    "    if re.search('POTASH|potash|NPS|nps|PHOSPHATE|phosphate|SULFATE|sulfate|SULPHATE|sulphate',x):\n",
    "        if len(temp_products)<1:\n",
    "            temp_products += 'fertilizer'\n",
    "    if len(temp_products)>1 :\n",
    "        temp_products = [i for i in temp_products if i!='pesticide']\n",
    "        temp_products = [i for i in temp_products if i!='pesticides']\n",
    "        temp_products = [i for i in temp_products if i!='rynaxypyr']\n",
    "    return temp_products\n",
    "\n",
    "  "
   ]
  },
  {
   "cell_type": "code",
   "execution_count": 32,
   "id": "ec0834ae",
   "metadata": {},
   "outputs": [],
   "source": [
    "df2['Goods Description'] = df2['Goods Description'].map(str)"
   ]
  },
  {
   "cell_type": "code",
   "execution_count": 33,
   "id": "c7422aca",
   "metadata": {},
   "outputs": [],
   "source": [
    "temp = df2['Goods Description'].apply(lambda x: find_prod(x))\n",
    "# temp = temp.apply(lambda x:pesticide_check(x))\n",
    "\n",
    "temp_processed = temp.apply(lambda x: \", \".join(x) if len(x)>=1 else \"\")"
   ]
  },
  {
   "cell_type": "code",
   "execution_count": 34,
   "id": "1d3d75b5",
   "metadata": {},
   "outputs": [],
   "source": [
    "df2.loc[np.logical_and(df2['Unit'].gt('GMS'), np.less_equal(df2['Quantity'], 1)), 'Product'] = ''\n",
    "#if df2.loc[df2['Quantity']]== 0 :\n",
    "#   df2['Product'] = ''\n",
    "df2.loc[df2[\"Quantity\"]==0, \"Product\"] = \"\""
   ]
  },
  {
   "cell_type": "code",
   "execution_count": 35,
   "id": "ab27b200",
   "metadata": {},
   "outputs": [],
   "source": [
    "temp_processed.replace('a, z, o, x, y, s, t, r, o, b, i, n','azoxystrobin',inplace = True)\n",
    "temp_processed.replace('f, e, r, t, i, l, i, z, e, r','fertilizer',inplace = True)\n",
    "temp_processed.replace('mancozebe','mancozeb',inplace = True)\n",
    "temp_processed.replace('amoniusaltglyphosate71','glyphosate',inplace = True)\n",
    "temp_processed.replace('AMONIUSALTGLYPHOSATE7171','glyphosate',inplace = True)\n",
    "temp_processed.replace('rynaxypyr','chlorantraniliprole',inplace = True)\n",
    "temp_processed.replace('glyphosatee','glyphosate',inplace = True)\n",
    "temp_processed.replace('','Others',inplace = True)"
   ]
  },
  {
   "cell_type": "code",
   "execution_count": null,
   "id": "fc67bdb0",
   "metadata": {},
   "outputs": [],
   "source": []
  },
  {
   "cell_type": "code",
   "execution_count": 36,
   "id": "9d5801c3",
   "metadata": {},
   "outputs": [],
   "source": [
    "df2['Product'] = temp_processed"
   ]
  },
  {
   "cell_type": "code",
   "execution_count": 37,
   "id": "bb2c7a46",
   "metadata": {},
   "outputs": [],
   "source": [
    "df2['Product'] = df2['Product'].fillna('Others')"
   ]
  },
  {
   "cell_type": "code",
   "execution_count": 38,
   "id": "84dc6977",
   "metadata": {},
   "outputs": [
    {
     "data": {
      "text/plain": [
       "Others                      50595\n",
       "oil                           770\n",
       "calcium                       558\n",
       "control                       506\n",
       "sodium                        409\n",
       "                            ...  \n",
       "tebuconazole, prochloraz        1\n",
       "warfarin, sodium                1\n",
       "humate, sodium                  1\n",
       "benzisothiazolin, proxel        1\n",
       "sulphur, sulfur                 1\n",
       "Name: Product, Length: 280, dtype: int64"
      ]
     },
     "execution_count": 38,
     "metadata": {},
     "output_type": "execute_result"
    }
   ],
   "source": [
    "df2['Product'].value_counts()"
   ]
  },
  {
   "cell_type": "code",
   "execution_count": 39,
   "id": "d0ebe2b3",
   "metadata": {},
   "outputs": [
    {
     "data": {
      "text/plain": [
       "Index(['Port Code', 'Indian Port', 'Declaration No', 'Date', 'Importer Name',\n",
       "       'Address', 'City', 'CHA No', 'CHA Name', 'Country Origin', 'HS Code',\n",
       "       'Goods Description', 'Quantity', 'Unit', 'Unit Price Usd',\n",
       "       'Total Value Usd', 'Total_Duty_Usd', 'Loading Port', 'Inv Currency',\n",
       "       'Supplier Name', 'Supplier Address', 'BE Type', 'IEC Phone',\n",
       "       'IEC Email', 'IEC Contact', 'Product'],\n",
       "      dtype='object')"
      ]
     },
     "execution_count": 39,
     "metadata": {},
     "output_type": "execute_result"
    }
   ],
   "source": [
    "df2.columns"
   ]
  },
  {
   "cell_type": "code",
   "execution_count": 40,
   "id": "7bd11f2b",
   "metadata": {},
   "outputs": [
    {
     "data": {
      "text/plain": [
       "NOS    24258\n",
       "KGS    17857\n",
       "PCS     8974\n",
       "SET     2154\n",
       "MTS     1187\n",
       "LTR      857\n",
       "UNT      451\n",
       "GMS      221\n",
       "MGS      180\n",
       "VLS       42\n",
       "PAC       18\n",
       "LBS       17\n",
       "GRS       14\n",
       "PRS       13\n",
       "DOZ       11\n",
       "BTL       10\n",
       "KIT        6\n",
       "RLS        4\n",
       "CTN        4\n",
       "THD        4\n",
       "CAS        3\n",
       "BAG        3\n",
       "MLT        3\n",
       "MTR        3\n",
       "TUB        2\n",
       "CBM        2\n",
       "BOX        2\n",
       "DRM        1\n",
       "Name: Unit, dtype: int64"
      ]
     },
     "execution_count": 40,
     "metadata": {},
     "output_type": "execute_result"
    }
   ],
   "source": [
    "df2['Unit'].value_counts()"
   ]
  },
  {
   "cell_type": "code",
   "execution_count": null,
   "id": "a66f7d19",
   "metadata": {},
   "outputs": [],
   "source": []
  },
  {
   "cell_type": "code",
   "execution_count": null,
   "id": "987912ea",
   "metadata": {},
   "outputs": [],
   "source": []
  },
  {
   "cell_type": "markdown",
   "id": "716abfa0",
   "metadata": {},
   "source": [
    "### ----------------------------------------------------------- SUFFIX -------------------------------------------------------------------------"
   ]
  },
  {
   "cell_type": "code",
   "execution_count": 41,
   "id": "126291da",
   "metadata": {},
   "outputs": [],
   "source": [
    "def suf(x):\n",
    "    temp_suffix = [] \n",
    "    if re.search('tech.{,50}|TECH.{,50}',x):\n",
    "        temp_suffix = \"TECH\"\n",
    "    elif re.search('IPA SALT|ipa salt',x):\n",
    "        temp_suffix = \"IPA SALT\"\n",
    "    elif re.search('62% IPA SALT|62% ipa salt',x):\n",
    "        temp_suffix = \"62% IPA SALT\"\n",
    "    elif re.search('41% SL|41% sl',x):\n",
    "        temp_suffix = '41% SL'\n",
    "    elif re.search('ALION PLUS.{50}|alion plus.{50}',x):\n",
    "        temp_suffix = \"ALION PLUS\"\n",
    "    else :\n",
    "        temp_suffix = \"Others\"\n",
    "    return temp_suffix"
   ]
  },
  {
   "cell_type": "code",
   "execution_count": 42,
   "id": "1722feb3",
   "metadata": {},
   "outputs": [],
   "source": [
    "df2['suffix'] =  df2['Goods Description'].apply(lambda x: suf(x))"
   ]
  },
  {
   "cell_type": "code",
   "execution_count": 43,
   "id": "09ab2285",
   "metadata": {},
   "outputs": [],
   "source": [
    "#Writing the concerned file\n",
    "df2.to_csv('output_file.csv')"
   ]
  },
  {
   "cell_type": "markdown",
   "id": "bac57a3c",
   "metadata": {},
   "source": [
    "."
   ]
  },
  {
   "cell_type": "code",
   "execution_count": 44,
   "id": "9233c535",
   "metadata": {},
   "outputs": [
    {
     "data": {
      "text/plain": [
       "'C:\\\\Users\\\\S1130866\\\\Desktop'"
      ]
     },
     "execution_count": 44,
     "metadata": {},
     "output_type": "execute_result"
    }
   ],
   "source": [
    "pwd"
   ]
  },
  {
   "cell_type": "code",
   "execution_count": null,
   "id": "9f491e04",
   "metadata": {},
   "outputs": [],
   "source": []
  },
  {
   "cell_type": "markdown",
   "id": "34a4ba7b",
   "metadata": {},
   "source": [
    "."
   ]
  },
  {
   "cell_type": "markdown",
   "id": "b8a12ccc",
   "metadata": {},
   "source": [
    "## -------------------------------------------------------------------------------------------------------------------------"
   ]
  },
  {
   "cell_type": "markdown",
   "id": "dab53ca3",
   "metadata": {},
   "source": [
    "."
   ]
  },
  {
   "cell_type": "markdown",
   "id": "497a0b7b",
   "metadata": {},
   "source": [
    "."
   ]
  },
  {
   "cell_type": "code",
   "execution_count": null,
   "id": "31b23b0e",
   "metadata": {},
   "outputs": [],
   "source": []
  },
  {
   "cell_type": "code",
   "execution_count": null,
   "id": "1be24992",
   "metadata": {},
   "outputs": [],
   "source": []
  },
  {
   "cell_type": "code",
   "execution_count": null,
   "id": "843783ab",
   "metadata": {},
   "outputs": [],
   "source": []
  }
 ],
 "metadata": {
  "kernelspec": {
   "display_name": "Python 3 (ipykernel)",
   "language": "python",
   "name": "python3"
  },
  "language_info": {
   "codemirror_mode": {
    "name": "ipython",
    "version": 3
   },
   "file_extension": ".py",
   "mimetype": "text/x-python",
   "name": "python",
   "nbconvert_exporter": "python",
   "pygments_lexer": "ipython3",
   "version": "3.9.7"
  }
 },
 "nbformat": 4,
 "nbformat_minor": 5
}
