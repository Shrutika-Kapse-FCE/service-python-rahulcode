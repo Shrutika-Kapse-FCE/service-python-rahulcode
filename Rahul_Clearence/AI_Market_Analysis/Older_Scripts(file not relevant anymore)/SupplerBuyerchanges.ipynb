{
 "cells": [
  {
   "cell_type": "code",
   "execution_count": 59,
   "id": "46489812",
   "metadata": {},
   "outputs": [],
   "source": [
    "import numpy as np \n",
    "import pandas as pd\n",
    "import re \n",
    "import os"
   ]
  },
  {
   "cell_type": "code",
   "execution_count": 37,
   "id": "d7b8445b",
   "metadata": {},
   "outputs": [],
   "source": [
    "df1 = pd.read_excel(r\"C:\\Users\\S1130866\\Desktop\\Main.xlsx\")"
   ]
  },
  {
   "cell_type": "code",
   "execution_count": 38,
   "id": "df166516",
   "metadata": {},
   "outputs": [
    {
     "data": {
      "text/html": [
       "<div>\n",
       "<style scoped>\n",
       "    .dataframe tbody tr th:only-of-type {\n",
       "        vertical-align: middle;\n",
       "    }\n",
       "\n",
       "    .dataframe tbody tr th {\n",
       "        vertical-align: top;\n",
       "    }\n",
       "\n",
       "    .dataframe thead th {\n",
       "        text-align: right;\n",
       "    }\n",
       "</style>\n",
       "<table border=\"1\" class=\"dataframe\">\n",
       "  <thead>\n",
       "    <tr style=\"text-align: right;\">\n",
       "      <th></th>\n",
       "      <th>Type</th>\n",
       "      <th>Date</th>\n",
       "      <th>IMPORTER/EXPORTER NAME</th>\n",
       "      <th>Country</th>\n",
       "      <th>PRODUCT DESCRIPTION</th>\n",
       "      <th>QTY</th>\n",
       "      <th>UNIT</th>\n",
       "      <th>UNIT PRICE (USD)</th>\n",
       "      <th>Total_VALUE_USD</th>\n",
       "      <th>INVOICE CURRENCY</th>\n",
       "      <th>SUPPLIER/BUYER NAME</th>\n",
       "      <th>Molecule Name</th>\n",
       "      <th>Product Name</th>\n",
       "      <th>QTY_MT</th>\n",
       "      <th>UNIT_MT</th>\n",
       "      <th>AI</th>\n",
       "    </tr>\n",
       "  </thead>\n",
       "  <tbody>\n",
       "    <tr>\n",
       "      <th>0</th>\n",
       "      <td>Import</td>\n",
       "      <td>2022-01-01</td>\n",
       "      <td>S s international</td>\n",
       "      <td>Indonesia</td>\n",
       "      <td>GUM ROSIN WW GRADE IN ZINC DRUMS (NOT FOR USE ...</td>\n",
       "      <td>19200.0</td>\n",
       "      <td>KGS</td>\n",
       "      <td>1.735000</td>\n",
       "      <td>3.331200e+04</td>\n",
       "      <td>USD</td>\n",
       "      <td>PERUM PERHUTANI</td>\n",
       "      <td>zinc</td>\n",
       "      <td>zinc Others</td>\n",
       "      <td>19.2</td>\n",
       "      <td>MT</td>\n",
       "      <td>not relevant</td>\n",
       "    </tr>\n",
       "    <tr>\n",
       "      <th>1</th>\n",
       "      <td>Import</td>\n",
       "      <td>2022-01-01</td>\n",
       "      <td>Dbl ventures private limited</td>\n",
       "      <td>Malaysia</td>\n",
       "      <td>COATED CALCIUM CARBONATE PRI-2T (25KG/PRINTED ...</td>\n",
       "      <td>185.5</td>\n",
       "      <td>MTS</td>\n",
       "      <td>161.528847</td>\n",
       "      <td>2.996360e+04</td>\n",
       "      <td>USD</td>\n",
       "      <td>PULAI ROCK INDUSTRIES SDN BHD</td>\n",
       "      <td>calcium</td>\n",
       "      <td>calcium Others</td>\n",
       "      <td>185.5</td>\n",
       "      <td>MT</td>\n",
       "      <td>calcium others</td>\n",
       "    </tr>\n",
       "    <tr>\n",
       "      <th>2</th>\n",
       "      <td>Import</td>\n",
       "      <td>2022-01-01</td>\n",
       "      <td>Dbl ventures private limited</td>\n",
       "      <td>Malaysia</td>\n",
       "      <td>COATED CALCIUM CARBONATE PRI-2T (25KG/PRINTED ...</td>\n",
       "      <td>265.0</td>\n",
       "      <td>MTS</td>\n",
       "      <td>180.397302</td>\n",
       "      <td>4.780529e+04</td>\n",
       "      <td>USD</td>\n",
       "      <td>PULAI ROCK INDUSTRIES SDN BHD</td>\n",
       "      <td>calcium</td>\n",
       "      <td>calcium Others</td>\n",
       "      <td>265.0</td>\n",
       "      <td>MT</td>\n",
       "      <td>calcium others</td>\n",
       "    </tr>\n",
       "    <tr>\n",
       "      <th>3</th>\n",
       "      <td>Import</td>\n",
       "      <td>2022-01-01</td>\n",
       "      <td>Merchem limited</td>\n",
       "      <td>China</td>\n",
       "      <td>INSOLUBLE SULPHUR HD OT-20</td>\n",
       "      <td>14000.0</td>\n",
       "      <td>KGS</td>\n",
       "      <td>1.600000</td>\n",
       "      <td>2.240000e+04</td>\n",
       "      <td>USD</td>\n",
       "      <td>SHANDONG YANGGU HUATAI INTERNATIONAL</td>\n",
       "      <td>sulphur</td>\n",
       "      <td>sulphur Others</td>\n",
       "      <td>14.0</td>\n",
       "      <td>MT</td>\n",
       "      <td>not relevant</td>\n",
       "    </tr>\n",
       "    <tr>\n",
       "      <th>4</th>\n",
       "      <td>Import</td>\n",
       "      <td>2022-01-01</td>\n",
       "      <td>Bayer</td>\n",
       "      <td>Japan</td>\n",
       "      <td>FLUBENDIAMIDE (NIH-KM) TC 1X500KG FBC WW (CIB ...</td>\n",
       "      <td>10000.0</td>\n",
       "      <td>KGS</td>\n",
       "      <td>188.022294</td>\n",
       "      <td>1.880223e+06</td>\n",
       "      <td>INR</td>\n",
       "      <td>BAYER AG</td>\n",
       "      <td>flubendiamide</td>\n",
       "      <td>flubendiamide Others</td>\n",
       "      <td>10.0</td>\n",
       "      <td>MT</td>\n",
       "      <td>flubendiamide others</td>\n",
       "    </tr>\n",
       "  </tbody>\n",
       "</table>\n",
       "</div>"
      ],
      "text/plain": [
       "     Type       Date        IMPORTER/EXPORTER NAME    Country  \\\n",
       "0  Import 2022-01-01             S s international  Indonesia   \n",
       "1  Import 2022-01-01  Dbl ventures private limited   Malaysia   \n",
       "2  Import 2022-01-01  Dbl ventures private limited   Malaysia   \n",
       "3  Import 2022-01-01               Merchem limited      China   \n",
       "4  Import 2022-01-01                         Bayer      Japan   \n",
       "\n",
       "                                 PRODUCT DESCRIPTION      QTY UNIT  \\\n",
       "0  GUM ROSIN WW GRADE IN ZINC DRUMS (NOT FOR USE ...  19200.0  KGS   \n",
       "1  COATED CALCIUM CARBONATE PRI-2T (25KG/PRINTED ...    185.5  MTS   \n",
       "2  COATED CALCIUM CARBONATE PRI-2T (25KG/PRINTED ...    265.0  MTS   \n",
       "3                         INSOLUBLE SULPHUR HD OT-20  14000.0  KGS   \n",
       "4  FLUBENDIAMIDE (NIH-KM) TC 1X500KG FBC WW (CIB ...  10000.0  KGS   \n",
       "\n",
       "   UNIT PRICE (USD)  Total_VALUE_USD INVOICE CURRENCY  \\\n",
       "0          1.735000     3.331200e+04             USD    \n",
       "1        161.528847     2.996360e+04             USD    \n",
       "2        180.397302     4.780529e+04             USD    \n",
       "3          1.600000     2.240000e+04             USD    \n",
       "4        188.022294     1.880223e+06             INR    \n",
       "\n",
       "                    SUPPLIER/BUYER NAME  Molecule Name          Product Name  \\\n",
       "0                       PERUM PERHUTANI           zinc           zinc Others   \n",
       "1         PULAI ROCK INDUSTRIES SDN BHD        calcium        calcium Others   \n",
       "2         PULAI ROCK INDUSTRIES SDN BHD        calcium        calcium Others   \n",
       "3  SHANDONG YANGGU HUATAI INTERNATIONAL        sulphur        sulphur Others   \n",
       "4                              BAYER AG  flubendiamide  flubendiamide Others   \n",
       "\n",
       "   QTY_MT UNIT_MT                    AI  \n",
       "0    19.2      MT          not relevant  \n",
       "1   185.5      MT        calcium others  \n",
       "2   265.0      MT        calcium others  \n",
       "3    14.0      MT          not relevant  \n",
       "4    10.0      MT  flubendiamide others  "
      ]
     },
     "execution_count": 38,
     "metadata": {},
     "output_type": "execute_result"
    }
   ],
   "source": [
    "df1.head()"
   ]
  },
  {
   "cell_type": "code",
   "execution_count": 39,
   "id": "4bc1b75f",
   "metadata": {},
   "outputs": [
    {
     "data": {
      "text/plain": [
       "10127"
      ]
     },
     "execution_count": 39,
     "metadata": {},
     "output_type": "execute_result"
    }
   ],
   "source": [
    "df1['SUPPLIER/BUYER NAME'].nunique()"
   ]
  },
  {
   "cell_type": "code",
   "execution_count": 40,
   "id": "a79b339a",
   "metadata": {},
   "outputs": [],
   "source": [
    "#### Working on the compnay column i,e SUPPLIER/BUYER NAME\n",
    "\n",
    "company = pd.read_excel(r'C:\\Users\\S1130866\\Desktop\\Product_Automate\\Country and company.xlsx')\n",
    "\n",
    "\n",
    "unique = company.drop_duplicates()\n",
    "unique_mismatches = unique[unique['Company'].str.lower() != unique['New'].str.lower()]\n",
    "company_key_value = dict(zip(unique_mismatches['Company'].str.lower(),unique_mismatches['New'].str.lower()))\n",
    "df1['SUPPLIER/BUYER NAME'] = df1['SUPPLIER/BUYER NAME'].str.lower().replace(company_key_value)"
   ]
  },
  {
   "cell_type": "code",
   "execution_count": 41,
   "id": "8134aefd",
   "metadata": {},
   "outputs": [
    {
     "data": {
      "text/plain": [
       "10109"
      ]
     },
     "execution_count": 41,
     "metadata": {},
     "output_type": "execute_result"
    }
   ],
   "source": [
    "df1['SUPPLIER/BUYER NAME'].nunique()"
   ]
  },
  {
   "cell_type": "code",
   "execution_count": 42,
   "id": "a53dc4a7",
   "metadata": {},
   "outputs": [],
   "source": [
    "df1['SUPPLIER/BUYER NAME'] = df1['SUPPLIER/BUYER NAME'].str.capitalize()"
   ]
  },
  {
   "cell_type": "code",
   "execution_count": 43,
   "id": "6a19f104",
   "metadata": {},
   "outputs": [
    {
     "data": {
      "text/html": [
       "<div>\n",
       "<style scoped>\n",
       "    .dataframe tbody tr th:only-of-type {\n",
       "        vertical-align: middle;\n",
       "    }\n",
       "\n",
       "    .dataframe tbody tr th {\n",
       "        vertical-align: top;\n",
       "    }\n",
       "\n",
       "    .dataframe thead th {\n",
       "        text-align: right;\n",
       "    }\n",
       "</style>\n",
       "<table border=\"1\" class=\"dataframe\">\n",
       "  <thead>\n",
       "    <tr style=\"text-align: right;\">\n",
       "      <th></th>\n",
       "      <th>Type</th>\n",
       "      <th>Date</th>\n",
       "      <th>IMPORTER/EXPORTER NAME</th>\n",
       "      <th>Country</th>\n",
       "      <th>PRODUCT DESCRIPTION</th>\n",
       "      <th>QTY</th>\n",
       "      <th>UNIT</th>\n",
       "      <th>UNIT PRICE (USD)</th>\n",
       "      <th>Total_VALUE_USD</th>\n",
       "      <th>INVOICE CURRENCY</th>\n",
       "      <th>SUPPLIER/BUYER NAME</th>\n",
       "      <th>Molecule Name</th>\n",
       "      <th>Product Name</th>\n",
       "      <th>QTY_MT</th>\n",
       "      <th>UNIT_MT</th>\n",
       "      <th>AI</th>\n",
       "    </tr>\n",
       "  </thead>\n",
       "  <tbody>\n",
       "    <tr>\n",
       "      <th>0</th>\n",
       "      <td>Import</td>\n",
       "      <td>2022-01-01</td>\n",
       "      <td>S s international</td>\n",
       "      <td>Indonesia</td>\n",
       "      <td>GUM ROSIN WW GRADE IN ZINC DRUMS (NOT FOR USE ...</td>\n",
       "      <td>19200.0</td>\n",
       "      <td>KGS</td>\n",
       "      <td>1.735000</td>\n",
       "      <td>3.331200e+04</td>\n",
       "      <td>USD</td>\n",
       "      <td>Perum perhutani</td>\n",
       "      <td>zinc</td>\n",
       "      <td>zinc Others</td>\n",
       "      <td>19.2</td>\n",
       "      <td>MT</td>\n",
       "      <td>not relevant</td>\n",
       "    </tr>\n",
       "    <tr>\n",
       "      <th>1</th>\n",
       "      <td>Import</td>\n",
       "      <td>2022-01-01</td>\n",
       "      <td>Dbl ventures private limited</td>\n",
       "      <td>Malaysia</td>\n",
       "      <td>COATED CALCIUM CARBONATE PRI-2T (25KG/PRINTED ...</td>\n",
       "      <td>185.5</td>\n",
       "      <td>MTS</td>\n",
       "      <td>161.528847</td>\n",
       "      <td>2.996360e+04</td>\n",
       "      <td>USD</td>\n",
       "      <td>Pulai rock industries sdn bhd</td>\n",
       "      <td>calcium</td>\n",
       "      <td>calcium Others</td>\n",
       "      <td>185.5</td>\n",
       "      <td>MT</td>\n",
       "      <td>calcium others</td>\n",
       "    </tr>\n",
       "    <tr>\n",
       "      <th>2</th>\n",
       "      <td>Import</td>\n",
       "      <td>2022-01-01</td>\n",
       "      <td>Dbl ventures private limited</td>\n",
       "      <td>Malaysia</td>\n",
       "      <td>COATED CALCIUM CARBONATE PRI-2T (25KG/PRINTED ...</td>\n",
       "      <td>265.0</td>\n",
       "      <td>MTS</td>\n",
       "      <td>180.397302</td>\n",
       "      <td>4.780529e+04</td>\n",
       "      <td>USD</td>\n",
       "      <td>Pulai rock industries sdn bhd</td>\n",
       "      <td>calcium</td>\n",
       "      <td>calcium Others</td>\n",
       "      <td>265.0</td>\n",
       "      <td>MT</td>\n",
       "      <td>calcium others</td>\n",
       "    </tr>\n",
       "    <tr>\n",
       "      <th>3</th>\n",
       "      <td>Import</td>\n",
       "      <td>2022-01-01</td>\n",
       "      <td>Merchem limited</td>\n",
       "      <td>China</td>\n",
       "      <td>INSOLUBLE SULPHUR HD OT-20</td>\n",
       "      <td>14000.0</td>\n",
       "      <td>KGS</td>\n",
       "      <td>1.600000</td>\n",
       "      <td>2.240000e+04</td>\n",
       "      <td>USD</td>\n",
       "      <td>Shandong yanggu huatai international</td>\n",
       "      <td>sulphur</td>\n",
       "      <td>sulphur Others</td>\n",
       "      <td>14.0</td>\n",
       "      <td>MT</td>\n",
       "      <td>not relevant</td>\n",
       "    </tr>\n",
       "    <tr>\n",
       "      <th>4</th>\n",
       "      <td>Import</td>\n",
       "      <td>2022-01-01</td>\n",
       "      <td>Bayer</td>\n",
       "      <td>Japan</td>\n",
       "      <td>FLUBENDIAMIDE (NIH-KM) TC 1X500KG FBC WW (CIB ...</td>\n",
       "      <td>10000.0</td>\n",
       "      <td>KGS</td>\n",
       "      <td>188.022294</td>\n",
       "      <td>1.880223e+06</td>\n",
       "      <td>INR</td>\n",
       "      <td>Bayer ag</td>\n",
       "      <td>flubendiamide</td>\n",
       "      <td>flubendiamide Others</td>\n",
       "      <td>10.0</td>\n",
       "      <td>MT</td>\n",
       "      <td>flubendiamide others</td>\n",
       "    </tr>\n",
       "  </tbody>\n",
       "</table>\n",
       "</div>"
      ],
      "text/plain": [
       "     Type       Date        IMPORTER/EXPORTER NAME    Country  \\\n",
       "0  Import 2022-01-01             S s international  Indonesia   \n",
       "1  Import 2022-01-01  Dbl ventures private limited   Malaysia   \n",
       "2  Import 2022-01-01  Dbl ventures private limited   Malaysia   \n",
       "3  Import 2022-01-01               Merchem limited      China   \n",
       "4  Import 2022-01-01                         Bayer      Japan   \n",
       "\n",
       "                                 PRODUCT DESCRIPTION      QTY UNIT  \\\n",
       "0  GUM ROSIN WW GRADE IN ZINC DRUMS (NOT FOR USE ...  19200.0  KGS   \n",
       "1  COATED CALCIUM CARBONATE PRI-2T (25KG/PRINTED ...    185.5  MTS   \n",
       "2  COATED CALCIUM CARBONATE PRI-2T (25KG/PRINTED ...    265.0  MTS   \n",
       "3                         INSOLUBLE SULPHUR HD OT-20  14000.0  KGS   \n",
       "4  FLUBENDIAMIDE (NIH-KM) TC 1X500KG FBC WW (CIB ...  10000.0  KGS   \n",
       "\n",
       "   UNIT PRICE (USD)  Total_VALUE_USD INVOICE CURRENCY  \\\n",
       "0          1.735000     3.331200e+04             USD    \n",
       "1        161.528847     2.996360e+04             USD    \n",
       "2        180.397302     4.780529e+04             USD    \n",
       "3          1.600000     2.240000e+04             USD    \n",
       "4        188.022294     1.880223e+06             INR    \n",
       "\n",
       "                    SUPPLIER/BUYER NAME  Molecule Name          Product Name  \\\n",
       "0                       Perum perhutani           zinc           zinc Others   \n",
       "1         Pulai rock industries sdn bhd        calcium        calcium Others   \n",
       "2         Pulai rock industries sdn bhd        calcium        calcium Others   \n",
       "3  Shandong yanggu huatai international        sulphur        sulphur Others   \n",
       "4                              Bayer ag  flubendiamide  flubendiamide Others   \n",
       "\n",
       "   QTY_MT UNIT_MT                    AI  \n",
       "0    19.2      MT          not relevant  \n",
       "1   185.5      MT        calcium others  \n",
       "2   265.0      MT        calcium others  \n",
       "3    14.0      MT          not relevant  \n",
       "4    10.0      MT  flubendiamide others  "
      ]
     },
     "execution_count": 43,
     "metadata": {},
     "output_type": "execute_result"
    }
   ],
   "source": [
    "df1.head()"
   ]
  },
  {
   "cell_type": "code",
   "execution_count": 44,
   "id": "43a400c7",
   "metadata": {},
   "outputs": [
    {
     "ename": "PermissionError",
     "evalue": "[Errno 13] Permission denied: 'C:\\\\Users\\\\S1130866\\\\OneDrive - Syngenta\\\\Documents\\\\Shared\\\\Product_Automate\\\\Product_Automate\\\\Import_Export\\\\Compiled_File\\\\Main2.xlsx'",
     "output_type": "error",
     "traceback": [
      "\u001b[1;31m---------------------------------------------------------------------------\u001b[0m",
      "\u001b[1;31mPermissionError\u001b[0m                           Traceback (most recent call last)",
      "\u001b[1;32m~\\AppData\\Local\\Temp/ipykernel_16636/2071294047.py\u001b[0m in \u001b[0;36m<module>\u001b[1;34m\u001b[0m\n\u001b[1;32m----> 1\u001b[1;33m \u001b[0mdf1\u001b[0m\u001b[1;33m.\u001b[0m\u001b[0mto_excel\u001b[0m\u001b[1;33m(\u001b[0m\u001b[1;34mr\"C:\\Users\\S1130866\\OneDrive - Syngenta\\Documents\\Shared\\Product_Automate\\Product_Automate\\Import_Export\\Compiled_File\\Main2.xlsx\"\u001b[0m\u001b[1;33m,\u001b[0m\u001b[0msheet_name\u001b[0m \u001b[1;33m=\u001b[0m \u001b[1;34m'Data'\u001b[0m\u001b[1;33m,\u001b[0m\u001b[0mindex\u001b[0m \u001b[1;33m=\u001b[0m \u001b[1;32mFalse\u001b[0m\u001b[1;33m)\u001b[0m\u001b[1;33m\u001b[0m\u001b[1;33m\u001b[0m\u001b[0m\n\u001b[0m",
      "\u001b[1;32m~\\Anaconda3\\lib\\site-packages\\pandas\\core\\generic.py\u001b[0m in \u001b[0;36mto_excel\u001b[1;34m(self, excel_writer, sheet_name, na_rep, float_format, columns, header, index, index_label, startrow, startcol, engine, merge_cells, encoding, inf_rep, verbose, freeze_panes, storage_options)\u001b[0m\n\u001b[0;32m   2282\u001b[0m             \u001b[0minf_rep\u001b[0m\u001b[1;33m=\u001b[0m\u001b[0minf_rep\u001b[0m\u001b[1;33m,\u001b[0m\u001b[1;33m\u001b[0m\u001b[1;33m\u001b[0m\u001b[0m\n\u001b[0;32m   2283\u001b[0m         )\n\u001b[1;32m-> 2284\u001b[1;33m         formatter.write(\n\u001b[0m\u001b[0;32m   2285\u001b[0m             \u001b[0mexcel_writer\u001b[0m\u001b[1;33m,\u001b[0m\u001b[1;33m\u001b[0m\u001b[1;33m\u001b[0m\u001b[0m\n\u001b[0;32m   2286\u001b[0m             \u001b[0msheet_name\u001b[0m\u001b[1;33m=\u001b[0m\u001b[0msheet_name\u001b[0m\u001b[1;33m,\u001b[0m\u001b[1;33m\u001b[0m\u001b[1;33m\u001b[0m\u001b[0m\n",
      "\u001b[1;32m~\\Anaconda3\\lib\\site-packages\\pandas\\io\\formats\\excel.py\u001b[0m in \u001b[0;36mwrite\u001b[1;34m(self, writer, sheet_name, startrow, startcol, freeze_panes, engine, storage_options)\u001b[0m\n\u001b[0;32m    832\u001b[0m             \u001b[1;31m# error: Cannot instantiate abstract class 'ExcelWriter' with abstract\u001b[0m\u001b[1;33m\u001b[0m\u001b[1;33m\u001b[0m\u001b[0m\n\u001b[0;32m    833\u001b[0m             \u001b[1;31m# attributes 'engine', 'save', 'supported_extensions' and 'write_cells'\u001b[0m\u001b[1;33m\u001b[0m\u001b[1;33m\u001b[0m\u001b[0m\n\u001b[1;32m--> 834\u001b[1;33m             writer = ExcelWriter(  # type: ignore[abstract]\n\u001b[0m\u001b[0;32m    835\u001b[0m                 \u001b[0mwriter\u001b[0m\u001b[1;33m,\u001b[0m \u001b[0mengine\u001b[0m\u001b[1;33m=\u001b[0m\u001b[0mengine\u001b[0m\u001b[1;33m,\u001b[0m \u001b[0mstorage_options\u001b[0m\u001b[1;33m=\u001b[0m\u001b[0mstorage_options\u001b[0m\u001b[1;33m\u001b[0m\u001b[1;33m\u001b[0m\u001b[0m\n\u001b[0;32m    836\u001b[0m             )\n",
      "\u001b[1;32m~\\Anaconda3\\lib\\site-packages\\pandas\\io\\excel\\_xlsxwriter.py\u001b[0m in \u001b[0;36m__init__\u001b[1;34m(self, path, engine, date_format, datetime_format, mode, storage_options, if_sheet_exists, engine_kwargs, **kwargs)\u001b[0m\n\u001b[0;32m    189\u001b[0m             \u001b[1;32mraise\u001b[0m \u001b[0mValueError\u001b[0m\u001b[1;33m(\u001b[0m\u001b[1;34m\"Append mode is not supported with xlsxwriter!\"\u001b[0m\u001b[1;33m)\u001b[0m\u001b[1;33m\u001b[0m\u001b[1;33m\u001b[0m\u001b[0m\n\u001b[0;32m    190\u001b[0m \u001b[1;33m\u001b[0m\u001b[0m\n\u001b[1;32m--> 191\u001b[1;33m         super().__init__(\n\u001b[0m\u001b[0;32m    192\u001b[0m             \u001b[0mpath\u001b[0m\u001b[1;33m,\u001b[0m\u001b[1;33m\u001b[0m\u001b[1;33m\u001b[0m\u001b[0m\n\u001b[0;32m    193\u001b[0m             \u001b[0mengine\u001b[0m\u001b[1;33m=\u001b[0m\u001b[0mengine\u001b[0m\u001b[1;33m,\u001b[0m\u001b[1;33m\u001b[0m\u001b[1;33m\u001b[0m\u001b[0m\n",
      "\u001b[1;32m~\\Anaconda3\\lib\\site-packages\\pandas\\io\\excel\\_base.py\u001b[0m in \u001b[0;36m__init__\u001b[1;34m(self, path, engine, date_format, datetime_format, mode, storage_options, if_sheet_exists, engine_kwargs, **kwargs)\u001b[0m\n\u001b[0;32m    923\u001b[0m         \u001b[0mself\u001b[0m\u001b[1;33m.\u001b[0m\u001b[0mhandles\u001b[0m \u001b[1;33m=\u001b[0m \u001b[0mIOHandles\u001b[0m\u001b[1;33m(\u001b[0m\u001b[0mcast\u001b[0m\u001b[1;33m(\u001b[0m\u001b[0mBuffer\u001b[0m\u001b[1;33m,\u001b[0m \u001b[0mpath\u001b[0m\u001b[1;33m)\u001b[0m\u001b[1;33m,\u001b[0m \u001b[0mcompression\u001b[0m\u001b[1;33m=\u001b[0m\u001b[1;33m{\u001b[0m\u001b[1;34m\"copression\"\u001b[0m\u001b[1;33m:\u001b[0m \u001b[1;32mNone\u001b[0m\u001b[1;33m}\u001b[0m\u001b[1;33m)\u001b[0m\u001b[1;33m\u001b[0m\u001b[1;33m\u001b[0m\u001b[0m\n\u001b[0;32m    924\u001b[0m         \u001b[1;32mif\u001b[0m \u001b[1;32mnot\u001b[0m \u001b[0misinstance\u001b[0m\u001b[1;33m(\u001b[0m\u001b[0mpath\u001b[0m\u001b[1;33m,\u001b[0m \u001b[0mExcelWriter\u001b[0m\u001b[1;33m)\u001b[0m\u001b[1;33m:\u001b[0m\u001b[1;33m\u001b[0m\u001b[1;33m\u001b[0m\u001b[0m\n\u001b[1;32m--> 925\u001b[1;33m             self.handles = get_handle(\n\u001b[0m\u001b[0;32m    926\u001b[0m                 \u001b[0mpath\u001b[0m\u001b[1;33m,\u001b[0m \u001b[0mmode\u001b[0m\u001b[1;33m,\u001b[0m \u001b[0mstorage_options\u001b[0m\u001b[1;33m=\u001b[0m\u001b[0mstorage_options\u001b[0m\u001b[1;33m,\u001b[0m \u001b[0mis_text\u001b[0m\u001b[1;33m=\u001b[0m\u001b[1;32mFalse\u001b[0m\u001b[1;33m\u001b[0m\u001b[1;33m\u001b[0m\u001b[0m\n\u001b[0;32m    927\u001b[0m             )\n",
      "\u001b[1;32m~\\Anaconda3\\lib\\site-packages\\pandas\\io\\common.py\u001b[0m in \u001b[0;36mget_handle\u001b[1;34m(path_or_buf, mode, encoding, compression, memory_map, is_text, errors, storage_options)\u001b[0m\n\u001b[0;32m    709\u001b[0m         \u001b[1;32melse\u001b[0m\u001b[1;33m:\u001b[0m\u001b[1;33m\u001b[0m\u001b[1;33m\u001b[0m\u001b[0m\n\u001b[0;32m    710\u001b[0m             \u001b[1;31m# Binary mode\u001b[0m\u001b[1;33m\u001b[0m\u001b[1;33m\u001b[0m\u001b[0m\n\u001b[1;32m--> 711\u001b[1;33m             \u001b[0mhandle\u001b[0m \u001b[1;33m=\u001b[0m \u001b[0mopen\u001b[0m\u001b[1;33m(\u001b[0m\u001b[0mhandle\u001b[0m\u001b[1;33m,\u001b[0m \u001b[0mioargs\u001b[0m\u001b[1;33m.\u001b[0m\u001b[0mmode\u001b[0m\u001b[1;33m)\u001b[0m\u001b[1;33m\u001b[0m\u001b[1;33m\u001b[0m\u001b[0m\n\u001b[0m\u001b[0;32m    712\u001b[0m         \u001b[0mhandles\u001b[0m\u001b[1;33m.\u001b[0m\u001b[0mappend\u001b[0m\u001b[1;33m(\u001b[0m\u001b[0mhandle\u001b[0m\u001b[1;33m)\u001b[0m\u001b[1;33m\u001b[0m\u001b[1;33m\u001b[0m\u001b[0m\n\u001b[0;32m    713\u001b[0m \u001b[1;33m\u001b[0m\u001b[0m\n",
      "\u001b[1;31mPermissionError\u001b[0m: [Errno 13] Permission denied: 'C:\\\\Users\\\\S1130866\\\\OneDrive - Syngenta\\\\Documents\\\\Shared\\\\Product_Automate\\\\Product_Automate\\\\Import_Export\\\\Compiled_File\\\\Main2.xlsx'"
     ]
    }
   ],
   "source": [
    "df1.to_excel(r\"C:\\Users\\S1130866\\OneDrive - Syngenta\\Documents\\Shared\\Product_Automate\\Product_Automate\\Import_Export\\Compiled_File\\Main2.xlsx\",sheet_name = 'Data',index = False)"
   ]
  },
  {
   "cell_type": "code",
   "execution_count": 45,
   "id": "08d30a22",
   "metadata": {},
   "outputs": [
    {
     "data": {
      "text/plain": [
       "(137243, 16)"
      ]
     },
     "execution_count": 45,
     "metadata": {},
     "output_type": "execute_result"
    }
   ],
   "source": [
    "df2.shape"
   ]
  },
  {
   "cell_type": "code",
   "execution_count": 46,
   "id": "a1a1fb14",
   "metadata": {},
   "outputs": [
    {
     "name": "stdout",
     "output_type": "stream",
     "text": [
      "object\n"
     ]
    }
   ],
   "source": [
    "print(df1['SUPPLIER/BUYER NAME'].dtype)"
   ]
  },
  {
   "cell_type": "code",
   "execution_count": 56,
   "id": "3336eed0",
   "metadata": {},
   "outputs": [
    {
     "data": {
      "text/plain": [
       "Tothe orderof                          12\n",
       "Made out to the order of united com     8\n",
       "Tothe order of                          7\n",
       "Order of                                6\n",
       "To ther order                           6\n",
       "Tothe order                             3\n",
       "Febres cordero cia de comercio s.a      3\n",
       "Sangam agro traders and order supp      2\n",
       "Made out to order of commercial         2\n",
       "Made out to the order of                2\n",
       "Made out tothe order of cooperative     2\n",
       "To this order                           1\n",
       "Febres cordero cia de comercio s a      1\n",
       "Made out to the order of orient         1\n",
       "Z to order and na                       1\n",
       "Febres cordero cia de comercio s.a-     1\n",
       "To ther order of                        1\n",
       "The order of vietnam                    1\n",
       "As per order                            1\n",
       "The order of                            1\n",
       "Name: SUPPLIER/BUYER NAME, dtype: int64"
      ]
     },
     "execution_count": 56,
     "metadata": {},
     "output_type": "execute_result"
    }
   ],
   "source": [
    "### Checking for the columns that have 'Order string in them'\n",
    "df1 = df1.dropna(subset=['SUPPLIER/BUYER NAME'])\n",
    "df_new = df1[df1['SUPPLIER/BUYER NAME'].str.contains('ORDER',case = False)]\n",
    "df_new['SUPPLIER/BUYER NAME'].value_counts().head(40)"
   ]
  },
  {
   "cell_type": "code",
   "execution_count": null,
   "id": "f17a9361",
   "metadata": {},
   "outputs": [],
   "source": []
  },
  {
   "cell_type": "code",
   "execution_count": 50,
   "id": "fca4041b",
   "metadata": {},
   "outputs": [
    {
     "name": "stderr",
     "output_type": "stream",
     "text": [
      "C:\\Users\\S1130866\\AppData\\Local\\Temp/ipykernel_16636/2192056496.py:1: SettingWithCopyWarning: \n",
      "A value is trying to be set on a copy of a slice from a DataFrame.\n",
      "Try using .loc[row_indexer,col_indexer] = value instead\n",
      "\n",
      "See the caveats in the documentation: https://pandas.pydata.org/pandas-docs/stable/user_guide/indexing.html#returning-a-view-versus-a-copy\n",
      "  df1['SUPPLIER/BUYER NAME'] = df1['SUPPLIER/BUYER NAME'].str.replace('To the order of','')\n",
      "C:\\Users\\S1130866\\AppData\\Local\\Temp/ipykernel_16636/2192056496.py:2: SettingWithCopyWarning: \n",
      "A value is trying to be set on a copy of a slice from a DataFrame.\n",
      "Try using .loc[row_indexer,col_indexer] = value instead\n",
      "\n",
      "See the caveats in the documentation: https://pandas.pydata.org/pandas-docs/stable/user_guide/indexing.html#returning-a-view-versus-a-copy\n",
      "  df1['SUPPLIER/BUYER NAME'] = df1['SUPPLIER/BUYER NAME'].str.replace('To order','')\n",
      "C:\\Users\\S1130866\\AppData\\Local\\Temp/ipykernel_16636/2192056496.py:3: SettingWithCopyWarning: \n",
      "A value is trying to be set on a copy of a slice from a DataFrame.\n",
      "Try using .loc[row_indexer,col_indexer] = value instead\n",
      "\n",
      "See the caveats in the documentation: https://pandas.pydata.org/pandas-docs/stable/user_guide/indexing.html#returning-a-view-versus-a-copy\n",
      "  df1['SUPPLIER/BUYER NAME'] = df1['SUPPLIER/BUYER NAME'].str.replace('To the order','')\n",
      "C:\\Users\\S1130866\\AppData\\Local\\Temp/ipykernel_16636/2192056496.py:4: SettingWithCopyWarning: \n",
      "A value is trying to be set on a copy of a slice from a DataFrame.\n",
      "Try using .loc[row_indexer,col_indexer] = value instead\n",
      "\n",
      "See the caveats in the documentation: https://pandas.pydata.org/pandas-docs/stable/user_guide/indexing.html#returning-a-view-versus-a-copy\n",
      "  df1['SUPPLIER/BUYER NAME'] = df1['SUPPLIER/BUYER NAME'].str.replace('To the order of g','')\n",
      "C:\\Users\\S1130866\\AppData\\Local\\Temp/ipykernel_16636/2192056496.py:5: SettingWithCopyWarning: \n",
      "A value is trying to be set on a copy of a slice from a DataFrame.\n",
      "Try using .loc[row_indexer,col_indexer] = value instead\n",
      "\n",
      "See the caveats in the documentation: https://pandas.pydata.org/pandas-docs/stable/user_guide/indexing.html#returning-a-view-versus-a-copy\n",
      "  df1['SUPPLIER/BUYER NAME'] = df1['SUPPLIER/BUYER NAME'].str.replace('To the order o','')\n",
      "C:\\Users\\S1130866\\AppData\\Local\\Temp/ipykernel_16636/2192056496.py:6: SettingWithCopyWarning: \n",
      "A value is trying to be set on a copy of a slice from a DataFrame.\n",
      "Try using .loc[row_indexer,col_indexer] = value instead\n",
      "\n",
      "See the caveats in the documentation: https://pandas.pydata.org/pandas-docs/stable/user_guide/indexing.html#returning-a-view-versus-a-copy\n",
      "  df1['SUPPLIER/BUYER NAME'] = df1['SUPPLIER/BUYER NAME'].str.replace('To order of','')\n",
      "C:\\Users\\S1130866\\AppData\\Local\\Temp/ipykernel_16636/2192056496.py:7: SettingWithCopyWarning: \n",
      "A value is trying to be set on a copy of a slice from a DataFrame.\n",
      "Try using .loc[row_indexer,col_indexer] = value instead\n",
      "\n",
      "See the caveats in the documentation: https://pandas.pydata.org/pandas-docs/stable/user_guide/indexing.html#returning-a-view-versus-a-copy\n",
      "  df1['SUPPLIER/BUYER NAME'] = df1['SUPPLIER/BUYER NAME'].str.replace('To the order of the ','')\n",
      "C:\\Users\\S1130866\\AppData\\Local\\Temp/ipykernel_16636/2192056496.py:8: FutureWarning: The default value of regex will change from True to False in a future version.\n",
      "  df1['SUPPLIER/BUYER NAME'] = df1['SUPPLIER/BUYER NAME'].str.replace('To order .','')\n",
      "C:\\Users\\S1130866\\AppData\\Local\\Temp/ipykernel_16636/2192056496.py:8: SettingWithCopyWarning: \n",
      "A value is trying to be set on a copy of a slice from a DataFrame.\n",
      "Try using .loc[row_indexer,col_indexer] = value instead\n",
      "\n",
      "See the caveats in the documentation: https://pandas.pydata.org/pandas-docs/stable/user_guide/indexing.html#returning-a-view-versus-a-copy\n",
      "  df1['SUPPLIER/BUYER NAME'] = df1['SUPPLIER/BUYER NAME'].str.replace('To order .','')\n",
      "C:\\Users\\S1130866\\AppData\\Local\\Temp/ipykernel_16636/2192056496.py:9: SettingWithCopyWarning: \n",
      "A value is trying to be set on a copy of a slice from a DataFrame.\n",
      "Try using .loc[row_indexer,col_indexer] = value instead\n",
      "\n",
      "See the caveats in the documentation: https://pandas.pydata.org/pandas-docs/stable/user_guide/indexing.html#returning-a-view-versus-a-copy\n",
      "  df1['SUPPLIER/BUYER NAME'] = df1['SUPPLIER/BUYER NAME'].str.replace('To th eorder','')\n",
      "C:\\Users\\S1130866\\AppData\\Local\\Temp/ipykernel_16636/2192056496.py:10: SettingWithCopyWarning: \n",
      "A value is trying to be set on a copy of a slice from a DataFrame.\n",
      "Try using .loc[row_indexer,col_indexer] = value instead\n",
      "\n",
      "See the caveats in the documentation: https://pandas.pydata.org/pandas-docs/stable/user_guide/indexing.html#returning-a-view-versus-a-copy\n",
      "  df1['SUPPLIER/BUYER NAME'] = df1['SUPPLIER/BUYER NAME'].str.replace('To order o','')\n",
      "C:\\Users\\S1130866\\AppData\\Local\\Temp/ipykernel_16636/2192056496.py:11: SettingWithCopyWarning: \n",
      "A value is trying to be set on a copy of a slice from a DataFrame.\n",
      "Try using .loc[row_indexer,col_indexer] = value instead\n",
      "\n",
      "See the caveats in the documentation: https://pandas.pydata.org/pandas-docs/stable/user_guide/indexing.html#returning-a-view-versus-a-copy\n",
      "  df1['SUPPLIER/BUYER NAME'] = df1['SUPPLIER/BUYER NAME'].str.replace('Totheorder of','')\n",
      "C:\\Users\\S1130866\\AppData\\Local\\Temp/ipykernel_16636/2192056496.py:12: SettingWithCopyWarning: \n",
      "A value is trying to be set on a copy of a slice from a DataFrame.\n",
      "Try using .loc[row_indexer,col_indexer] = value instead\n",
      "\n",
      "See the caveats in the documentation: https://pandas.pydata.org/pandas-docs/stable/user_guide/indexing.html#returning-a-view-versus-a-copy\n",
      "  df1['SUPPLIER/BUYER NAME'] = df1['SUPPLIER/BUYER NAME'].replace('','Others')\n"
     ]
    }
   ],
   "source": [
    "df1['SUPPLIER/BUYER NAME'] = df1['SUPPLIER/BUYER NAME'].str.replace('To the order of','')\n",
    "df1['SUPPLIER/BUYER NAME'] = df1['SUPPLIER/BUYER NAME'].str.replace('To order','')\n",
    "df1['SUPPLIER/BUYER NAME'] = df1['SUPPLIER/BUYER NAME'].str.replace('To the order','')\n",
    "df1['SUPPLIER/BUYER NAME'] = df1['SUPPLIER/BUYER NAME'].str.replace('To the order of g','')\n",
    "df1['SUPPLIER/BUYER NAME'] = df1['SUPPLIER/BUYER NAME'].str.replace('To the order o','')\n",
    "df1['SUPPLIER/BUYER NAME'] = df1['SUPPLIER/BUYER NAME'].str.replace('To order of','')\n",
    "df1['SUPPLIER/BUYER NAME'] = df1['SUPPLIER/BUYER NAME'].str.replace('To the order of the ','')\n",
    "df1['SUPPLIER/BUYER NAME'] = df1['SUPPLIER/BUYER NAME'].str.replace('To order .','')\n",
    "df1['SUPPLIER/BUYER NAME'] = df1['SUPPLIER/BUYER NAME'].str.replace('To th eorder','')\n",
    "df1['SUPPLIER/BUYER NAME'] = df1['SUPPLIER/BUYER NAME'].str.replace('To order o','')\n",
    "df1['SUPPLIER/BUYER NAME'] = df1['SUPPLIER/BUYER NAME'].str.replace('Totheorder of','')\n",
    "df1['SUPPLIER/BUYER NAME'] = df1['SUPPLIER/BUYER NAME'].replace('','Others')\n"
   ]
  },
  {
   "cell_type": "code",
   "execution_count": null,
   "id": "67757e44",
   "metadata": {},
   "outputs": [],
   "source": [
    "df1['SUPPLIER/BUYER NAME'] = df1['SUPPLIER/BUYER NAME'].replace('','Others')"
   ]
  },
  {
   "cell_type": "code",
   "execution_count": 51,
   "id": "37d4a797",
   "metadata": {},
   "outputs": [
    {
     "data": {
      "text/plain": [
       "Others                              15367\n",
       "U n i                                4823\n",
       "U d b i e c d i                      3036\n",
       "Merck kgaa                           2543\n",
       "Mr global hk limited                 1708\n",
       "                                    ...  \n",
       "Cjp chemicals pty limited               1\n",
       "Originates inc                          1\n",
       "Amul cosmetic                           1\n",
       "Pt sumans mandiri sejahtera             1\n",
       "Al sahem altibbi medical company        1\n",
       "Name: SUPPLIER/BUYER NAME, Length: 10094, dtype: int64"
      ]
     },
     "execution_count": 51,
     "metadata": {},
     "output_type": "execute_result"
    }
   ],
   "source": [
    "df1['SUPPLIER/BUYER NAME'].value_counts()"
   ]
  },
  {
   "cell_type": "code",
   "execution_count": 52,
   "id": "5c8f1d1c",
   "metadata": {},
   "outputs": [],
   "source": [
    "df1.to_excel(r\"Main.xlsx\",sheet_name = 'Data',index = False)"
   ]
  },
  {
   "cell_type": "code",
   "execution_count": 53,
   "id": "db3809c8",
   "metadata": {},
   "outputs": [
    {
     "data": {
      "text/plain": [
       "'C:\\\\Users\\\\S1130866\\\\Desktop\\\\Product_Automate'"
      ]
     },
     "execution_count": 53,
     "metadata": {},
     "output_type": "execute_result"
    }
   ],
   "source": [
    "pwd"
   ]
  },
  {
   "cell_type": "code",
   "execution_count": 58,
   "id": "ef0be1db",
   "metadata": {},
   "outputs": [
    {
     "data": {
      "text/plain": [
       "Others                             15367\n",
       "U n i                               4823\n",
       "U d b i e c d i                     3036\n",
       "Merck kgaa                          2543\n",
       "Mr global hk limited                1708\n",
       "Infineum singapore llp              1663\n",
       "Abbott diagnostics gmbh             1243\n",
       "Mb solutions bangladesh limited     1141\n",
       "Upl na inc                           999\n",
       "Chevron oronite private limited      948\n",
       "Name: SUPPLIER/BUYER NAME, dtype: int64"
      ]
     },
     "execution_count": 58,
     "metadata": {},
     "output_type": "execute_result"
    }
   ],
   "source": [
    "df1['SUPPLIER/BUYER NAME'].value_counts().head(10)"
   ]
  },
  {
   "cell_type": "code",
   "execution_count": 60,
   "id": "8accdf87",
   "metadata": {},
   "outputs": [],
   "source": [
    "df1 = pd.read_excel(r\"C:\\Users\\S1130866\\OneDrive - Syngenta\\Documents\\Shared\\Product_Automate\\Product_Automate\\Import_Export\\Compiled_File\\Main.xlsx\")"
   ]
  },
  {
   "cell_type": "code",
   "execution_count": 61,
   "id": "12d34133",
   "metadata": {},
   "outputs": [
    {
     "data": {
      "text/html": [
       "<div>\n",
       "<style scoped>\n",
       "    .dataframe tbody tr th:only-of-type {\n",
       "        vertical-align: middle;\n",
       "    }\n",
       "\n",
       "    .dataframe tbody tr th {\n",
       "        vertical-align: top;\n",
       "    }\n",
       "\n",
       "    .dataframe thead th {\n",
       "        text-align: right;\n",
       "    }\n",
       "</style>\n",
       "<table border=\"1\" class=\"dataframe\">\n",
       "  <thead>\n",
       "    <tr style=\"text-align: right;\">\n",
       "      <th></th>\n",
       "      <th>Type</th>\n",
       "      <th>Date</th>\n",
       "      <th>IMPORTER/EXPORTER NAME</th>\n",
       "      <th>Country</th>\n",
       "      <th>PRODUCT DESCRIPTION</th>\n",
       "      <th>QTY</th>\n",
       "      <th>UNIT</th>\n",
       "      <th>UNIT PRICE (USD)</th>\n",
       "      <th>Total_VALUE_USD</th>\n",
       "      <th>INVOICE CURRENCY</th>\n",
       "      <th>SUPPLIER/BUYER NAME</th>\n",
       "      <th>Molecule Name</th>\n",
       "      <th>Product Name</th>\n",
       "      <th>QTY_MT</th>\n",
       "      <th>UNIT_MT</th>\n",
       "      <th>AI</th>\n",
       "    </tr>\n",
       "  </thead>\n",
       "  <tbody>\n",
       "    <tr>\n",
       "      <th>0</th>\n",
       "      <td>Import</td>\n",
       "      <td>2022-01-01</td>\n",
       "      <td>S s international</td>\n",
       "      <td>Indonesia</td>\n",
       "      <td>GUM ROSIN WW GRADE IN ZINC DRUMS (NOT FOR USE ...</td>\n",
       "      <td>19200.0</td>\n",
       "      <td>KGS</td>\n",
       "      <td>1.735000</td>\n",
       "      <td>3.331200e+04</td>\n",
       "      <td>USD</td>\n",
       "      <td>Perum perhutani</td>\n",
       "      <td>zinc</td>\n",
       "      <td>zinc Others</td>\n",
       "      <td>19.2</td>\n",
       "      <td>MT</td>\n",
       "      <td>not relevant</td>\n",
       "    </tr>\n",
       "    <tr>\n",
       "      <th>1</th>\n",
       "      <td>Import</td>\n",
       "      <td>2022-01-01</td>\n",
       "      <td>Dbl ventures private limited</td>\n",
       "      <td>Malaysia</td>\n",
       "      <td>COATED CALCIUM CARBONATE PRI-2T (25KG/PRINTED ...</td>\n",
       "      <td>185.5</td>\n",
       "      <td>MTS</td>\n",
       "      <td>161.528847</td>\n",
       "      <td>2.996360e+04</td>\n",
       "      <td>USD</td>\n",
       "      <td>Pulai rock industries sdn bhd</td>\n",
       "      <td>calcium</td>\n",
       "      <td>calcium Others</td>\n",
       "      <td>185.5</td>\n",
       "      <td>MT</td>\n",
       "      <td>calcium others</td>\n",
       "    </tr>\n",
       "    <tr>\n",
       "      <th>2</th>\n",
       "      <td>Import</td>\n",
       "      <td>2022-01-01</td>\n",
       "      <td>Dbl ventures private limited</td>\n",
       "      <td>Malaysia</td>\n",
       "      <td>COATED CALCIUM CARBONATE PRI-2T (25KG/PRINTED ...</td>\n",
       "      <td>265.0</td>\n",
       "      <td>MTS</td>\n",
       "      <td>180.397302</td>\n",
       "      <td>4.780529e+04</td>\n",
       "      <td>USD</td>\n",
       "      <td>Pulai rock industries sdn bhd</td>\n",
       "      <td>calcium</td>\n",
       "      <td>calcium Others</td>\n",
       "      <td>265.0</td>\n",
       "      <td>MT</td>\n",
       "      <td>calcium others</td>\n",
       "    </tr>\n",
       "    <tr>\n",
       "      <th>3</th>\n",
       "      <td>Import</td>\n",
       "      <td>2022-01-01</td>\n",
       "      <td>Merchem limited</td>\n",
       "      <td>China</td>\n",
       "      <td>INSOLUBLE SULPHUR HD OT-20</td>\n",
       "      <td>14000.0</td>\n",
       "      <td>KGS</td>\n",
       "      <td>1.600000</td>\n",
       "      <td>2.240000e+04</td>\n",
       "      <td>USD</td>\n",
       "      <td>Shandong yanggu huatai international</td>\n",
       "      <td>sulphur</td>\n",
       "      <td>sulphur Others</td>\n",
       "      <td>14.0</td>\n",
       "      <td>MT</td>\n",
       "      <td>not relevant</td>\n",
       "    </tr>\n",
       "    <tr>\n",
       "      <th>4</th>\n",
       "      <td>Import</td>\n",
       "      <td>2022-01-01</td>\n",
       "      <td>Bayer</td>\n",
       "      <td>Japan</td>\n",
       "      <td>FLUBENDIAMIDE (NIH-KM) TC 1X500KG FBC WW (CIB ...</td>\n",
       "      <td>10000.0</td>\n",
       "      <td>KGS</td>\n",
       "      <td>188.022294</td>\n",
       "      <td>1.880223e+06</td>\n",
       "      <td>INR</td>\n",
       "      <td>Bayer ag</td>\n",
       "      <td>flubendiamide</td>\n",
       "      <td>flubendiamide Others</td>\n",
       "      <td>10.0</td>\n",
       "      <td>MT</td>\n",
       "      <td>flubendiamide others</td>\n",
       "    </tr>\n",
       "  </tbody>\n",
       "</table>\n",
       "</div>"
      ],
      "text/plain": [
       "     Type       Date        IMPORTER/EXPORTER NAME    Country  \\\n",
       "0  Import 2022-01-01             S s international  Indonesia   \n",
       "1  Import 2022-01-01  Dbl ventures private limited   Malaysia   \n",
       "2  Import 2022-01-01  Dbl ventures private limited   Malaysia   \n",
       "3  Import 2022-01-01               Merchem limited      China   \n",
       "4  Import 2022-01-01                         Bayer      Japan   \n",
       "\n",
       "                                 PRODUCT DESCRIPTION      QTY UNIT  \\\n",
       "0  GUM ROSIN WW GRADE IN ZINC DRUMS (NOT FOR USE ...  19200.0  KGS   \n",
       "1  COATED CALCIUM CARBONATE PRI-2T (25KG/PRINTED ...    185.5  MTS   \n",
       "2  COATED CALCIUM CARBONATE PRI-2T (25KG/PRINTED ...    265.0  MTS   \n",
       "3                         INSOLUBLE SULPHUR HD OT-20  14000.0  KGS   \n",
       "4  FLUBENDIAMIDE (NIH-KM) TC 1X500KG FBC WW (CIB ...  10000.0  KGS   \n",
       "\n",
       "   UNIT PRICE (USD)  Total_VALUE_USD INVOICE CURRENCY  \\\n",
       "0          1.735000     3.331200e+04             USD    \n",
       "1        161.528847     2.996360e+04             USD    \n",
       "2        180.397302     4.780529e+04             USD    \n",
       "3          1.600000     2.240000e+04             USD    \n",
       "4        188.022294     1.880223e+06             INR    \n",
       "\n",
       "                    SUPPLIER/BUYER NAME  Molecule Name          Product Name  \\\n",
       "0                       Perum perhutani           zinc           zinc Others   \n",
       "1         Pulai rock industries sdn bhd        calcium        calcium Others   \n",
       "2         Pulai rock industries sdn bhd        calcium        calcium Others   \n",
       "3  Shandong yanggu huatai international        sulphur        sulphur Others   \n",
       "4                              Bayer ag  flubendiamide  flubendiamide Others   \n",
       "\n",
       "   QTY_MT UNIT_MT                    AI  \n",
       "0    19.2      MT          not relevant  \n",
       "1   185.5      MT        calcium others  \n",
       "2   265.0      MT        calcium others  \n",
       "3    14.0      MT          not relevant  \n",
       "4    10.0      MT  flubendiamide others  "
      ]
     },
     "execution_count": 61,
     "metadata": {},
     "output_type": "execute_result"
    }
   ],
   "source": [
    "df1.head()"
   ]
  },
  {
   "cell_type": "code",
   "execution_count": 62,
   "id": "fc40bab1",
   "metadata": {},
   "outputs": [],
   "source": [
    "df2 = df1.copy()"
   ]
  },
  {
   "cell_type": "code",
   "execution_count": 64,
   "id": "6820ed4b",
   "metadata": {},
   "outputs": [],
   "source": [
    "df2 = df2.loc[df2['QTY_MT']>0.01]"
   ]
  },
  {
   "cell_type": "code",
   "execution_count": 65,
   "id": "5097fdbd",
   "metadata": {},
   "outputs": [
    {
     "data": {
      "text/plain": [
       "(137089, 16)"
      ]
     },
     "execution_count": 65,
     "metadata": {},
     "output_type": "execute_result"
    }
   ],
   "source": [
    "df1.shape"
   ]
  },
  {
   "cell_type": "code",
   "execution_count": 66,
   "id": "0b547772",
   "metadata": {},
   "outputs": [
    {
     "data": {
      "text/plain": [
       "(122350, 16)"
      ]
     },
     "execution_count": 66,
     "metadata": {},
     "output_type": "execute_result"
    }
   ],
   "source": [
    "df2.shape"
   ]
  },
  {
   "cell_type": "code",
   "execution_count": 67,
   "id": "7b8a2154",
   "metadata": {},
   "outputs": [],
   "source": [
    "df2.to_excel(r\"C:\\Users\\S1130866\\OneDrive - Syngenta\\Documents\\Shared\\Product_Automate\\Product_Automate\\Import_Export\\Compiled_File\\Main.xlsx\",sheet_name = 'Data',index = False)"
   ]
  },
  {
   "cell_type": "code",
   "execution_count": null,
   "id": "67eda100",
   "metadata": {},
   "outputs": [],
   "source": []
  }
 ],
 "metadata": {
  "kernelspec": {
   "display_name": "Python 3 (ipykernel)",
   "language": "python",
   "name": "python3"
  },
  "language_info": {
   "codemirror_mode": {
    "name": "ipython",
    "version": 3
   },
   "file_extension": ".py",
   "mimetype": "text/x-python",
   "name": "python",
   "nbconvert_exporter": "python",
   "pygments_lexer": "ipython3",
   "version": "3.9.7"
  }
 },
 "nbformat": 4,
 "nbformat_minor": 5
}
