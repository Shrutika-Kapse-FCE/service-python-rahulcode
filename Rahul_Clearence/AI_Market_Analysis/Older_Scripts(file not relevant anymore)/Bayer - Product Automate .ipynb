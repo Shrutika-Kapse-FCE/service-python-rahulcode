{
 "cells": [
  {
   "cell_type": "code",
   "execution_count": 1,
   "id": "ef3827e3",
   "metadata": {},
   "outputs": [],
   "source": [
    "import pandas as pd \n",
    "import numpy as np "
   ]
  },
  {
   "cell_type": "code",
   "execution_count": 2,
   "id": "3e8c12e2",
   "metadata": {},
   "outputs": [],
   "source": [
    "df = pd.read_excel(r'C:\\Users\\S1130866\\Desktop\\Main.xlsx')"
   ]
  },
  {
   "cell_type": "code",
   "execution_count": 3,
   "id": "76df3a3b",
   "metadata": {},
   "outputs": [
    {
     "data": {
      "text/html": [
       "<div>\n",
       "<style scoped>\n",
       "    .dataframe tbody tr th:only-of-type {\n",
       "        vertical-align: middle;\n",
       "    }\n",
       "\n",
       "    .dataframe tbody tr th {\n",
       "        vertical-align: top;\n",
       "    }\n",
       "\n",
       "    .dataframe thead th {\n",
       "        text-align: right;\n",
       "    }\n",
       "</style>\n",
       "<table border=\"1\" class=\"dataframe\">\n",
       "  <thead>\n",
       "    <tr style=\"text-align: right;\">\n",
       "      <th></th>\n",
       "      <th>Type</th>\n",
       "      <th>Date</th>\n",
       "      <th>IMPORTER/EXPORTER NAME</th>\n",
       "      <th>Country</th>\n",
       "      <th>PRODUCT DESCRIPTION</th>\n",
       "      <th>QTY</th>\n",
       "      <th>UNIT</th>\n",
       "      <th>UNIT PRICE (USD)</th>\n",
       "      <th>Total_VALUE_USD</th>\n",
       "      <th>INVOICE CURRENCY</th>\n",
       "      <th>SUPPLIER/BUYER NAME</th>\n",
       "      <th>Molecule Name</th>\n",
       "      <th>Product Name</th>\n",
       "      <th>QTY_MT</th>\n",
       "      <th>UNIT_MT</th>\n",
       "      <th>AI</th>\n",
       "      <th>Unit_Price_MT</th>\n",
       "    </tr>\n",
       "  </thead>\n",
       "  <tbody>\n",
       "    <tr>\n",
       "      <th>0</th>\n",
       "      <td>Import</td>\n",
       "      <td>2022-01-01</td>\n",
       "      <td>S s international</td>\n",
       "      <td>Indonesia</td>\n",
       "      <td>GUM ROSIN WW GRADE IN ZINC DRUMS (NOT FOR USE ...</td>\n",
       "      <td>19200.0</td>\n",
       "      <td>KGS</td>\n",
       "      <td>1.735000</td>\n",
       "      <td>3.331200e+04</td>\n",
       "      <td>USD</td>\n",
       "      <td>Perum perhutani</td>\n",
       "      <td>zinc</td>\n",
       "      <td>zinc Others</td>\n",
       "      <td>19.2</td>\n",
       "      <td>MT</td>\n",
       "      <td>not relevant</td>\n",
       "      <td>1735.000000</td>\n",
       "    </tr>\n",
       "    <tr>\n",
       "      <th>1</th>\n",
       "      <td>Import</td>\n",
       "      <td>2022-01-01</td>\n",
       "      <td>Dbl ventures private limited</td>\n",
       "      <td>Malaysia</td>\n",
       "      <td>COATED CALCIUM CARBONATE PRI-2T (25KG/PRINTED ...</td>\n",
       "      <td>185.5</td>\n",
       "      <td>MTS</td>\n",
       "      <td>161.528847</td>\n",
       "      <td>2.996360e+04</td>\n",
       "      <td>USD</td>\n",
       "      <td>Pulai rock industries sdn bhd</td>\n",
       "      <td>calcium</td>\n",
       "      <td>calcium Others</td>\n",
       "      <td>185.5</td>\n",
       "      <td>MT</td>\n",
       "      <td>calcium others</td>\n",
       "      <td>161.528847</td>\n",
       "    </tr>\n",
       "    <tr>\n",
       "      <th>2</th>\n",
       "      <td>Import</td>\n",
       "      <td>2022-01-01</td>\n",
       "      <td>Dbl ventures private limited</td>\n",
       "      <td>Malaysia</td>\n",
       "      <td>COATED CALCIUM CARBONATE PRI-2T (25KG/PRINTED ...</td>\n",
       "      <td>265.0</td>\n",
       "      <td>MTS</td>\n",
       "      <td>180.397302</td>\n",
       "      <td>4.780529e+04</td>\n",
       "      <td>USD</td>\n",
       "      <td>Pulai rock industries sdn bhd</td>\n",
       "      <td>calcium</td>\n",
       "      <td>calcium Others</td>\n",
       "      <td>265.0</td>\n",
       "      <td>MT</td>\n",
       "      <td>calcium others</td>\n",
       "      <td>180.397302</td>\n",
       "    </tr>\n",
       "    <tr>\n",
       "      <th>3</th>\n",
       "      <td>Import</td>\n",
       "      <td>2022-01-01</td>\n",
       "      <td>Merchem limited</td>\n",
       "      <td>China</td>\n",
       "      <td>INSOLUBLE SULPHUR HD OT-20</td>\n",
       "      <td>14000.0</td>\n",
       "      <td>KGS</td>\n",
       "      <td>1.600000</td>\n",
       "      <td>2.240000e+04</td>\n",
       "      <td>USD</td>\n",
       "      <td>Shandong yanggu huatai international</td>\n",
       "      <td>sulphur</td>\n",
       "      <td>sulphur Others</td>\n",
       "      <td>14.0</td>\n",
       "      <td>MT</td>\n",
       "      <td>not relevant</td>\n",
       "      <td>1600.000000</td>\n",
       "    </tr>\n",
       "    <tr>\n",
       "      <th>4</th>\n",
       "      <td>Import</td>\n",
       "      <td>2022-01-01</td>\n",
       "      <td>Bayer</td>\n",
       "      <td>Japan</td>\n",
       "      <td>FLUBENDIAMIDE (NIH-KM) TC 1X500KG FBC WW (CIB ...</td>\n",
       "      <td>10000.0</td>\n",
       "      <td>KGS</td>\n",
       "      <td>188.022294</td>\n",
       "      <td>1.880223e+06</td>\n",
       "      <td>INR</td>\n",
       "      <td>Bayer ag</td>\n",
       "      <td>flubendiamide</td>\n",
       "      <td>flubendiamide Others</td>\n",
       "      <td>10.0</td>\n",
       "      <td>MT</td>\n",
       "      <td>flubendiamide others</td>\n",
       "      <td>188022.294232</td>\n",
       "    </tr>\n",
       "  </tbody>\n",
       "</table>\n",
       "</div>"
      ],
      "text/plain": [
       "     Type       Date        IMPORTER/EXPORTER NAME    Country  \\\n",
       "0  Import 2022-01-01             S s international  Indonesia   \n",
       "1  Import 2022-01-01  Dbl ventures private limited   Malaysia   \n",
       "2  Import 2022-01-01  Dbl ventures private limited   Malaysia   \n",
       "3  Import 2022-01-01               Merchem limited      China   \n",
       "4  Import 2022-01-01                         Bayer      Japan   \n",
       "\n",
       "                                 PRODUCT DESCRIPTION      QTY UNIT  \\\n",
       "0  GUM ROSIN WW GRADE IN ZINC DRUMS (NOT FOR USE ...  19200.0  KGS   \n",
       "1  COATED CALCIUM CARBONATE PRI-2T (25KG/PRINTED ...    185.5  MTS   \n",
       "2  COATED CALCIUM CARBONATE PRI-2T (25KG/PRINTED ...    265.0  MTS   \n",
       "3                         INSOLUBLE SULPHUR HD OT-20  14000.0  KGS   \n",
       "4  FLUBENDIAMIDE (NIH-KM) TC 1X500KG FBC WW (CIB ...  10000.0  KGS   \n",
       "\n",
       "   UNIT PRICE (USD)  Total_VALUE_USD INVOICE CURRENCY  \\\n",
       "0          1.735000     3.331200e+04             USD    \n",
       "1        161.528847     2.996360e+04             USD    \n",
       "2        180.397302     4.780529e+04             USD    \n",
       "3          1.600000     2.240000e+04             USD    \n",
       "4        188.022294     1.880223e+06             INR    \n",
       "\n",
       "                    SUPPLIER/BUYER NAME  Molecule Name          Product Name  \\\n",
       "0                       Perum perhutani           zinc           zinc Others   \n",
       "1         Pulai rock industries sdn bhd        calcium        calcium Others   \n",
       "2         Pulai rock industries sdn bhd        calcium        calcium Others   \n",
       "3  Shandong yanggu huatai international        sulphur        sulphur Others   \n",
       "4                              Bayer ag  flubendiamide  flubendiamide Others   \n",
       "\n",
       "   QTY_MT UNIT_MT                    AI  Unit_Price_MT  \n",
       "0    19.2      MT          not relevant    1735.000000  \n",
       "1   185.5      MT        calcium others     161.528847  \n",
       "2   265.0      MT        calcium others     180.397302  \n",
       "3    14.0      MT          not relevant    1600.000000  \n",
       "4    10.0      MT  flubendiamide others  188022.294232  "
      ]
     },
     "execution_count": 3,
     "metadata": {},
     "output_type": "execute_result"
    }
   ],
   "source": [
    "df.head()"
   ]
  },
  {
   "cell_type": "code",
   "execution_count": 4,
   "id": "bac3f090",
   "metadata": {},
   "outputs": [
    {
     "data": {
      "text/plain": [
       "(171136, 17)"
      ]
     },
     "execution_count": 4,
     "metadata": {},
     "output_type": "execute_result"
    }
   ],
   "source": [
    "df.shape"
   ]
  },
  {
   "cell_type": "code",
   "execution_count": 5,
   "id": "2ebd6f91",
   "metadata": {},
   "outputs": [
    {
     "data": {
      "text/plain": [
       "Others                            15187\n",
       "U n i                              5432\n",
       "U d b i e c d i                    4400\n",
       "To the order of                    3474\n",
       "Infineum singapore llp             2191\n",
       "                                  ...  \n",
       "Lanafil s,a,                          1\n",
       "Universal hope international          1\n",
       "Asociacion de productores de          1\n",
       "M.----                                1\n",
       "Chemical house private limited        1\n",
       "Name: SUPPLIER/BUYER NAME, Length: 11472, dtype: int64"
      ]
     },
     "execution_count": 5,
     "metadata": {},
     "output_type": "execute_result"
    }
   ],
   "source": [
    "df['SUPPLIER/BUYER NAME'].value_counts()"
   ]
  },
  {
   "cell_type": "code",
   "execution_count": 6,
   "id": "0cf5faeb",
   "metadata": {},
   "outputs": [],
   "source": [
    "df['SUPPLIER/BUYER NAME'] = df['SUPPLIER/BUYER NAME'].fillna('')\n",
    "b_columns = df[df['SUPPLIER/BUYER NAME'].str.lower().str.startswith('bay')]['SUPPLIER/BUYER NAME'].unique()\n",
    "df.loc[df['IMPORTER/EXPORTER NAME'].str.lower().str.startswith('bay'),'AI'] = 'Bayer -' + df['AI']"
   ]
  },
  {
   "cell_type": "code",
   "execution_count": 7,
   "id": "9a9ed163",
   "metadata": {},
   "outputs": [
    {
     "data": {
      "text/plain": [
       "array(['Bayer ag', 'Bayer cropscience lp', 'Bayer ag crop science',\n",
       "       'Bayer pty limited nigel products', 'Bayer co malaysia sdn bhd',\n",
       "       'Bayer cropscience schweiz ag', 'Bayer thai co limited',\n",
       "       'Bayer cropscience china co limited', 'Bayer cropscience l',\n",
       "       'Bayer sas on behalf of bayer crops', 'Bayer vietnam limited',\n",
       "       'Bayer', 'Bayareq al khaleej gen', 'Bayer de mexico s a de c v',\n",
       "       'Bayer s a', 'Bayer cropscience pty limited',\n",
       "       'Bayer taiwan co limited', 'Bayer cropscience schweiz a',\n",
       "       'Bayer cropscience k k', 'Bayer sas franc',\n",
       "       'Bayer sociedad anonim', 'Bayer cropscience inc',\n",
       "       'Bayer sas on behalf of bayer cropsc', 'Bayer sociedad anonima',\n",
       "       'Bayswater industries limited old ge',\n",
       "       'Bayer crop science limited', 'Bayer indonesia', 'Bayer a',\n",
       "       'Bayer thai co ltd', 'Bayer crop science ltd',\n",
       "       'Bayer thai co., ltd', 'Bayer cropscience ltd', 'Bayer sas',\n",
       "       'Bayadder for agricultural materials', 'Bayer company',\n",
       "       'Bayer cropscience ag', 'Bayer crop science ltd----------',\n",
       "       'Bayer new zealand limited'], dtype=object)"
      ]
     },
     "execution_count": 7,
     "metadata": {},
     "output_type": "execute_result"
    }
   ],
   "source": [
    "b_columns"
   ]
  },
  {
   "cell_type": "code",
   "execution_count": 9,
   "id": "3bedd77f",
   "metadata": {},
   "outputs": [],
   "source": [
    "df.loc[df['IMPORTER/EXPORTER NAME'].str.lower().str.startswith('bay'),'AI'] = 'Bayer -' + df['AI']\n",
    "\n",
    "\n",
    "# df.loc[df['supplier'] == 'Bayer', 'Ingredient'] = 'Bayer - ' + df['Ingredient']\n"
   ]
  },
  {
   "cell_type": "code",
   "execution_count": 10,
   "id": "df8bb5f0",
   "metadata": {},
   "outputs": [],
   "source": [
    "df.to_csv('test.csv')"
   ]
  },
  {
   "cell_type": "code",
   "execution_count": 11,
   "id": "dfef2fac",
   "metadata": {},
   "outputs": [
    {
     "data": {
      "text/plain": [
       "'C:\\\\Users\\\\S1130866\\\\Desktop\\\\Product_Automate'"
      ]
     },
     "execution_count": 11,
     "metadata": {},
     "output_type": "execute_result"
    }
   ],
   "source": [
    "pwd"
   ]
  },
  {
   "cell_type": "code",
   "execution_count": 12,
   "id": "bd11b76d",
   "metadata": {},
   "outputs": [
    {
     "data": {
      "text/plain": [
       "(171136, 17)"
      ]
     },
     "execution_count": 12,
     "metadata": {},
     "output_type": "execute_result"
    }
   ],
   "source": [
    "df.shape"
   ]
  },
  {
   "cell_type": "code",
   "execution_count": null,
   "id": "fcc862e9",
   "metadata": {},
   "outputs": [],
   "source": []
  },
  {
   "cell_type": "code",
   "execution_count": null,
   "id": "2d874a4e",
   "metadata": {},
   "outputs": [],
   "source": [
    "    "
   ]
  }
 ],
 "metadata": {
  "kernelspec": {
   "display_name": "Python 3 (ipykernel)",
   "language": "python",
   "name": "python3"
  },
  "language_info": {
   "codemirror_mode": {
    "name": "ipython",
    "version": 3
   },
   "file_extension": ".py",
   "mimetype": "text/x-python",
   "name": "python",
   "nbconvert_exporter": "python",
   "pygments_lexer": "ipython3",
   "version": "3.9.7"
  }
 },
 "nbformat": 4,
 "nbformat_minor": 5
}
